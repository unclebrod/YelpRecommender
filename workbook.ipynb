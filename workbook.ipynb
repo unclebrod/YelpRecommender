{
 "cells": [
  {
   "cell_type": "code",
   "execution_count": 1,
   "metadata": {
    "ExecuteTime": {
     "end_time": "2020-06-08T22:27:02.406672Z",
     "start_time": "2020-06-08T22:26:58.109357Z"
    }
   },
   "outputs": [],
   "source": [
    "# Import necessary libraries\n",
    "import pandas as pd\n",
    "import numpy as np\n",
    "import matplotlib.pyplot as plt\n",
    "import seaborn as sns\n",
    "from collections import defaultdict\n",
    "import os\n",
    "import os.path\n",
    "import math\n",
    "from surprise import (Reader, Dataset, NormalPredictor, BaselineOnly,\n",
    "                      accuracy, SVD, SVDpp, NMF, KNNBasic, KNNWithMeans,\n",
    "                      KNNWithZScore, KNNBaseline)\n",
    "from surprise.model_selection import (cross_validate, KFold,\n",
    "                                      train_test_split, GridSearchCV,\n",
    "                                      RandomizedSearchCV)\n",
    "\n",
    "# Always make it pretty.\n",
    "plt.style.use('ggplot')\n",
    "%matplotlib inline\n",
    "sns.set_style(style=\"whitegrid\")"
   ]
  },
  {
   "cell_type": "code",
   "execution_count": 5,
   "metadata": {
    "ExecuteTime": {
     "end_time": "2020-06-01T14:31:15.327407Z",
     "start_time": "2020-06-01T14:31:08.547437Z"
    }
   },
   "outputs": [],
   "source": [
    "# Load the Yelp business data into a dataframe\n",
    "business_json_path = 'data/yelp_dataset/yelp_dataset~/yelp_academic_dataset_business.json'\n",
    "business_df = pd.read_json(business_json_path, lines=True)"
   ]
  },
  {
   "cell_type": "code",
   "execution_count": 7,
   "metadata": {
    "ExecuteTime": {
     "end_time": "2020-06-01T14:33:49.489849Z",
     "start_time": "2020-06-01T14:32:44.475643Z"
    }
   },
   "outputs": [],
   "source": [
    "# Load the Yelp review data into a dataframe\n",
    "review_json_path = 'data/yelp_dataset/yelp_dataset~/yelp_academic_dataset_review.json'\n",
    "review_df = pd.read_json(review_json_path,\n",
    "                         lines=True,\n",
    "                         dtype={'review_id': str, 'user_id': str,\n",
    "                                'business_id': str, 'stars': int,\n",
    "                                'date': str, 'text': str, 'useful': int,\n",
    "                                'funny': int, 'cool': int})"
   ]
  },
  {
   "cell_type": "code",
   "execution_count": null,
   "metadata": {
    "ExecuteTime": {
     "start_time": "2020-06-08T22:18:56.996Z"
    }
   },
   "outputs": [],
   "source": [
    "# Load the Yelp user data into a dataframe\n",
    "user_json_path = 'data/yelp_dataset/yelp_dataset~/yelp_academic_dataset_user.json'\n",
    "user_df = pd.read_json(user_json_path, lines=True)"
   ]
  },
  {
   "cell_type": "code",
   "execution_count": 13,
   "metadata": {},
   "outputs": [
    {
     "data": {
      "text/plain": [
       "Las Vegas            31631\n",
       "Toronto              20366\n",
       "Phoenix              20171\n",
       "Charlotte            10422\n",
       "Scottsdale            9342\n",
       "                     ...  \n",
       "Warrensville             1\n",
       "Maple Grove              1\n",
       "New Tecumseth            1\n",
       "Phoenix Valley           1\n",
       "Warrensville Hts.        1\n",
       "Name: city, Length: 1251, dtype: int64"
      ]
     },
     "execution_count": 13,
     "metadata": {},
     "output_type": "execute_result"
    }
   ],
   "source": [
    "# Which cities are most represented in the Yelp dataset?\n",
    "business_df['city'].value_counts()"
   ]
  },
  {
   "cell_type": "code",
   "execution_count": 14,
   "metadata": {},
   "outputs": [
    {
     "data": {
      "text/html": [
       "<div>\n",
       "<style scoped>\n",
       "    .dataframe tbody tr th:only-of-type {\n",
       "        vertical-align: middle;\n",
       "    }\n",
       "\n",
       "    .dataframe tbody tr th {\n",
       "        vertical-align: top;\n",
       "    }\n",
       "\n",
       "    .dataframe thead th {\n",
       "        text-align: right;\n",
       "    }\n",
       "</style>\n",
       "<table border=\"1\" class=\"dataframe\">\n",
       "  <thead>\n",
       "    <tr style=\"text-align: right;\">\n",
       "      <th></th>\n",
       "      <th>review_id</th>\n",
       "      <th>user_id</th>\n",
       "      <th>business_id</th>\n",
       "      <th>stars</th>\n",
       "      <th>useful</th>\n",
       "      <th>funny</th>\n",
       "      <th>cool</th>\n",
       "      <th>text</th>\n",
       "      <th>date</th>\n",
       "    </tr>\n",
       "  </thead>\n",
       "  <tbody>\n",
       "    <tr>\n",
       "      <th>0</th>\n",
       "      <td>xQY8N_XvtGbearJ5X4QryQ</td>\n",
       "      <td>OwjRMXRC0KyPrIlcjaXeFQ</td>\n",
       "      <td>-MhfebM0QIsKt87iDN-FNw</td>\n",
       "      <td>2</td>\n",
       "      <td>5</td>\n",
       "      <td>0</td>\n",
       "      <td>0</td>\n",
       "      <td>As someone who has worked with many museums, I...</td>\n",
       "      <td>2015-04-15 05:21:16</td>\n",
       "    </tr>\n",
       "    <tr>\n",
       "      <th>1</th>\n",
       "      <td>UmFMZ8PyXZTY2QcwzsfQYA</td>\n",
       "      <td>nIJD_7ZXHq-FX8byPMOkMQ</td>\n",
       "      <td>lbrU8StCq3yDfr-QMnGrmQ</td>\n",
       "      <td>1</td>\n",
       "      <td>1</td>\n",
       "      <td>1</td>\n",
       "      <td>0</td>\n",
       "      <td>I am actually horrified this place is still in...</td>\n",
       "      <td>2013-12-07 03:16:52</td>\n",
       "    </tr>\n",
       "    <tr>\n",
       "      <th>2</th>\n",
       "      <td>LG2ZaYiOgpr2DK_90pYjNw</td>\n",
       "      <td>V34qejxNsCbcgD8C0HVk-Q</td>\n",
       "      <td>HQl28KMwrEKHqhFrrDqVNQ</td>\n",
       "      <td>5</td>\n",
       "      <td>1</td>\n",
       "      <td>0</td>\n",
       "      <td>0</td>\n",
       "      <td>I love Deagan's. I do. I really do. The atmosp...</td>\n",
       "      <td>2015-12-05 03:18:11</td>\n",
       "    </tr>\n",
       "    <tr>\n",
       "      <th>3</th>\n",
       "      <td>i6g_oA9Yf9Y31qt0wibXpw</td>\n",
       "      <td>ofKDkJKXSKZXu5xJNGiiBQ</td>\n",
       "      <td>5JxlZaqCnk1MnbgRirs40Q</td>\n",
       "      <td>1</td>\n",
       "      <td>0</td>\n",
       "      <td>0</td>\n",
       "      <td>0</td>\n",
       "      <td>Dismal, lukewarm, defrosted-tasting \"TexMex\" g...</td>\n",
       "      <td>2011-05-27 05:30:52</td>\n",
       "    </tr>\n",
       "    <tr>\n",
       "      <th>4</th>\n",
       "      <td>6TdNDKywdbjoTkizeMce8A</td>\n",
       "      <td>UgMW8bLE0QMJDCkQ1Ax5Mg</td>\n",
       "      <td>IS4cv902ykd8wj1TR0N3-A</td>\n",
       "      <td>4</td>\n",
       "      <td>0</td>\n",
       "      <td>0</td>\n",
       "      <td>0</td>\n",
       "      <td>Oh happy day, finally have a Canes near my cas...</td>\n",
       "      <td>2017-01-14 21:56:57</td>\n",
       "    </tr>\n",
       "  </tbody>\n",
       "</table>\n",
       "</div>"
      ],
      "text/plain": [
       "                review_id                 user_id             business_id  \\\n",
       "0  xQY8N_XvtGbearJ5X4QryQ  OwjRMXRC0KyPrIlcjaXeFQ  -MhfebM0QIsKt87iDN-FNw   \n",
       "1  UmFMZ8PyXZTY2QcwzsfQYA  nIJD_7ZXHq-FX8byPMOkMQ  lbrU8StCq3yDfr-QMnGrmQ   \n",
       "2  LG2ZaYiOgpr2DK_90pYjNw  V34qejxNsCbcgD8C0HVk-Q  HQl28KMwrEKHqhFrrDqVNQ   \n",
       "3  i6g_oA9Yf9Y31qt0wibXpw  ofKDkJKXSKZXu5xJNGiiBQ  5JxlZaqCnk1MnbgRirs40Q   \n",
       "4  6TdNDKywdbjoTkizeMce8A  UgMW8bLE0QMJDCkQ1Ax5Mg  IS4cv902ykd8wj1TR0N3-A   \n",
       "\n",
       "   stars  useful  funny  cool  \\\n",
       "0      2       5      0     0   \n",
       "1      1       1      1     0   \n",
       "2      5       1      0     0   \n",
       "3      1       0      0     0   \n",
       "4      4       0      0     0   \n",
       "\n",
       "                                                text                 date  \n",
       "0  As someone who has worked with many museums, I...  2015-04-15 05:21:16  \n",
       "1  I am actually horrified this place is still in...  2013-12-07 03:16:52  \n",
       "2  I love Deagan's. I do. I really do. The atmosp...  2015-12-05 03:18:11  \n",
       "3  Dismal, lukewarm, defrosted-tasting \"TexMex\" g...  2011-05-27 05:30:52  \n",
       "4  Oh happy day, finally have a Canes near my cas...  2017-01-14 21:56:57  "
      ]
     },
     "execution_count": 14,
     "metadata": {},
     "output_type": "execute_result"
    }
   ],
   "source": [
    "# Examine the review dataframe\n",
    "review_df.head()"
   ]
  },
  {
   "cell_type": "code",
   "execution_count": 15,
   "metadata": {},
   "outputs": [
    {
     "data": {
      "text/html": [
       "<div>\n",
       "<style scoped>\n",
       "    .dataframe tbody tr th:only-of-type {\n",
       "        vertical-align: middle;\n",
       "    }\n",
       "\n",
       "    .dataframe tbody tr th {\n",
       "        vertical-align: top;\n",
       "    }\n",
       "\n",
       "    .dataframe thead th {\n",
       "        text-align: right;\n",
       "    }\n",
       "</style>\n",
       "<table border=\"1\" class=\"dataframe\">\n",
       "  <thead>\n",
       "    <tr style=\"text-align: right;\">\n",
       "      <th></th>\n",
       "      <th>user_id</th>\n",
       "      <th>name</th>\n",
       "      <th>review_count</th>\n",
       "      <th>yelping_since</th>\n",
       "      <th>useful</th>\n",
       "      <th>funny</th>\n",
       "      <th>cool</th>\n",
       "      <th>elite</th>\n",
       "      <th>friends</th>\n",
       "      <th>fans</th>\n",
       "      <th>...</th>\n",
       "      <th>compliment_more</th>\n",
       "      <th>compliment_profile</th>\n",
       "      <th>compliment_cute</th>\n",
       "      <th>compliment_list</th>\n",
       "      <th>compliment_note</th>\n",
       "      <th>compliment_plain</th>\n",
       "      <th>compliment_cool</th>\n",
       "      <th>compliment_funny</th>\n",
       "      <th>compliment_writer</th>\n",
       "      <th>compliment_photos</th>\n",
       "    </tr>\n",
       "  </thead>\n",
       "  <tbody>\n",
       "    <tr>\n",
       "      <th>0</th>\n",
       "      <td>ntlvfPzc8eglqvk92iDIAw</td>\n",
       "      <td>Rafael</td>\n",
       "      <td>553</td>\n",
       "      <td>2007-07-06 03:27:11</td>\n",
       "      <td>628</td>\n",
       "      <td>225</td>\n",
       "      <td>227</td>\n",
       "      <td></td>\n",
       "      <td>oeMvJh94PiGQnx_6GlndPQ, wm1z1PaJKvHgSDRKfwhfDg...</td>\n",
       "      <td>14</td>\n",
       "      <td>...</td>\n",
       "      <td>2</td>\n",
       "      <td>1</td>\n",
       "      <td>0</td>\n",
       "      <td>1</td>\n",
       "      <td>11</td>\n",
       "      <td>15</td>\n",
       "      <td>22</td>\n",
       "      <td>22</td>\n",
       "      <td>10</td>\n",
       "      <td>0</td>\n",
       "    </tr>\n",
       "    <tr>\n",
       "      <th>1</th>\n",
       "      <td>FOBRPlBHa3WPHFB5qYDlVg</td>\n",
       "      <td>Michelle</td>\n",
       "      <td>564</td>\n",
       "      <td>2008-04-28 01:29:25</td>\n",
       "      <td>790</td>\n",
       "      <td>316</td>\n",
       "      <td>400</td>\n",
       "      <td>2008,2009,2010,2011,2012,2013</td>\n",
       "      <td>ly7EnE8leJmyqyePVYFlug, pRlR63iDytsnnniPb3AOug...</td>\n",
       "      <td>27</td>\n",
       "      <td>...</td>\n",
       "      <td>4</td>\n",
       "      <td>5</td>\n",
       "      <td>2</td>\n",
       "      <td>1</td>\n",
       "      <td>33</td>\n",
       "      <td>37</td>\n",
       "      <td>63</td>\n",
       "      <td>63</td>\n",
       "      <td>21</td>\n",
       "      <td>5</td>\n",
       "    </tr>\n",
       "    <tr>\n",
       "      <th>2</th>\n",
       "      <td>zZUnPeh2hEp0WydbAZEOOg</td>\n",
       "      <td>Martin</td>\n",
       "      <td>60</td>\n",
       "      <td>2008-08-28 23:40:05</td>\n",
       "      <td>151</td>\n",
       "      <td>125</td>\n",
       "      <td>103</td>\n",
       "      <td>2010</td>\n",
       "      <td>Uwlk0txjQBPw_JhHsQnyeg, Ybxr1tSCkv3lYA0I1qmnPQ...</td>\n",
       "      <td>5</td>\n",
       "      <td>...</td>\n",
       "      <td>6</td>\n",
       "      <td>0</td>\n",
       "      <td>1</td>\n",
       "      <td>0</td>\n",
       "      <td>3</td>\n",
       "      <td>7</td>\n",
       "      <td>17</td>\n",
       "      <td>17</td>\n",
       "      <td>4</td>\n",
       "      <td>1</td>\n",
       "    </tr>\n",
       "    <tr>\n",
       "      <th>3</th>\n",
       "      <td>QaELAmRcDc5TfJEylaaP8g</td>\n",
       "      <td>John</td>\n",
       "      <td>206</td>\n",
       "      <td>2008-09-20 00:08:14</td>\n",
       "      <td>233</td>\n",
       "      <td>160</td>\n",
       "      <td>84</td>\n",
       "      <td>2009</td>\n",
       "      <td>iog3Nyg1i4jeumiTVG_BSA, M92xWY2Vr9w0xoH8bPplfQ...</td>\n",
       "      <td>6</td>\n",
       "      <td>...</td>\n",
       "      <td>1</td>\n",
       "      <td>0</td>\n",
       "      <td>0</td>\n",
       "      <td>0</td>\n",
       "      <td>7</td>\n",
       "      <td>14</td>\n",
       "      <td>7</td>\n",
       "      <td>7</td>\n",
       "      <td>2</td>\n",
       "      <td>0</td>\n",
       "    </tr>\n",
       "    <tr>\n",
       "      <th>4</th>\n",
       "      <td>xvu8G900tezTzbbfqmTKvA</td>\n",
       "      <td>Anne</td>\n",
       "      <td>485</td>\n",
       "      <td>2008-08-09 00:30:27</td>\n",
       "      <td>1265</td>\n",
       "      <td>400</td>\n",
       "      <td>512</td>\n",
       "      <td>2009,2010,2011,2012,2014,2015,2016,2017,2018</td>\n",
       "      <td>3W3ZMSthojCUirKEqAwGNw, eTIbuu23j9tOgmIa9POyLQ...</td>\n",
       "      <td>78</td>\n",
       "      <td>...</td>\n",
       "      <td>9</td>\n",
       "      <td>2</td>\n",
       "      <td>1</td>\n",
       "      <td>1</td>\n",
       "      <td>22</td>\n",
       "      <td>28</td>\n",
       "      <td>31</td>\n",
       "      <td>31</td>\n",
       "      <td>19</td>\n",
       "      <td>31</td>\n",
       "    </tr>\n",
       "  </tbody>\n",
       "</table>\n",
       "<p>5 rows × 22 columns</p>\n",
       "</div>"
      ],
      "text/plain": [
       "                  user_id      name  review_count        yelping_since  \\\n",
       "0  ntlvfPzc8eglqvk92iDIAw    Rafael           553  2007-07-06 03:27:11   \n",
       "1  FOBRPlBHa3WPHFB5qYDlVg  Michelle           564  2008-04-28 01:29:25   \n",
       "2  zZUnPeh2hEp0WydbAZEOOg    Martin            60  2008-08-28 23:40:05   \n",
       "3  QaELAmRcDc5TfJEylaaP8g      John           206  2008-09-20 00:08:14   \n",
       "4  xvu8G900tezTzbbfqmTKvA      Anne           485  2008-08-09 00:30:27   \n",
       "\n",
       "   useful  funny  cool                                         elite  \\\n",
       "0     628    225   227                                                 \n",
       "1     790    316   400                 2008,2009,2010,2011,2012,2013   \n",
       "2     151    125   103                                          2010   \n",
       "3     233    160    84                                          2009   \n",
       "4    1265    400   512  2009,2010,2011,2012,2014,2015,2016,2017,2018   \n",
       "\n",
       "                                             friends  fans  ...  \\\n",
       "0  oeMvJh94PiGQnx_6GlndPQ, wm1z1PaJKvHgSDRKfwhfDg...    14  ...   \n",
       "1  ly7EnE8leJmyqyePVYFlug, pRlR63iDytsnnniPb3AOug...    27  ...   \n",
       "2  Uwlk0txjQBPw_JhHsQnyeg, Ybxr1tSCkv3lYA0I1qmnPQ...     5  ...   \n",
       "3  iog3Nyg1i4jeumiTVG_BSA, M92xWY2Vr9w0xoH8bPplfQ...     6  ...   \n",
       "4  3W3ZMSthojCUirKEqAwGNw, eTIbuu23j9tOgmIa9POyLQ...    78  ...   \n",
       "\n",
       "   compliment_more  compliment_profile  compliment_cute  compliment_list  \\\n",
       "0                2                   1                0                1   \n",
       "1                4                   5                2                1   \n",
       "2                6                   0                1                0   \n",
       "3                1                   0                0                0   \n",
       "4                9                   2                1                1   \n",
       "\n",
       "   compliment_note  compliment_plain  compliment_cool  compliment_funny  \\\n",
       "0               11                15               22                22   \n",
       "1               33                37               63                63   \n",
       "2                3                 7               17                17   \n",
       "3                7                14                7                 7   \n",
       "4               22                28               31                31   \n",
       "\n",
       "   compliment_writer  compliment_photos  \n",
       "0                 10                  0  \n",
       "1                 21                  5  \n",
       "2                  4                  1  \n",
       "3                  2                  0  \n",
       "4                 19                 31  \n",
       "\n",
       "[5 rows x 22 columns]"
      ]
     },
     "execution_count": 15,
     "metadata": {},
     "output_type": "execute_result"
    }
   ],
   "source": [
    "# Examine the user dataframe\n",
    "user_df.head()"
   ]
  },
  {
   "cell_type": "code",
   "execution_count": 16,
   "metadata": {},
   "outputs": [],
   "source": [
    "# Drop unneeded columns for users\n",
    "user_df.drop(columns=['useful', 'funny', 'cool', 'fans', 'elite',\n",
    "                      'friends', 'compliment_hot', 'compliment_more',\n",
    "                      'compliment_profile', 'compliment_cute',\n",
    "                      'compliment_list', 'compliment_note',\n",
    "                      'compliment_plain', 'compliment_cool',\n",
    "                      'compliment_funny', 'compliment_writer',\n",
    "                      'compliment_photos'],\n",
    "             axis=1, inplace=True)"
   ]
  },
  {
   "cell_type": "code",
   "execution_count": 18,
   "metadata": {},
   "outputs": [],
   "source": [
    "# Drop unneeded columns for businesses\n",
    "business_df.drop(columns=['address', 'postal_code', 'latitude', 'longitude',\n",
    "                          'attributes', 'hours'],\n",
    "                 axis=1, inplace=True)"
   ]
  },
  {
   "cell_type": "code",
   "execution_count": 23,
   "metadata": {},
   "outputs": [],
   "source": [
    "# Drop unneeded columns for reviews\n",
    "review_df.drop(columns=['useful', 'funny', 'cool'], axis=1, inplace=True)"
   ]
  },
  {
   "cell_type": "code",
   "execution_count": 26,
   "metadata": {},
   "outputs": [
    {
     "name": "stdout",
     "output_type": "stream",
     "text": [
      "(209393, 8)\n",
      "(1968703, 5)\n",
      "(8021122, 6)\n"
     ]
    }
   ],
   "source": [
    "# Look at the shapes of dataframes after removing columns\n",
    "print(business_df.shape)\n",
    "print(user_df.shape)\n",
    "print(review_df.shape)"
   ]
  },
  {
   "cell_type": "code",
   "execution_count": 59,
   "metadata": {},
   "outputs": [
    {
     "data": {
      "text/html": [
       "<div>\n",
       "<style scoped>\n",
       "    .dataframe tbody tr th:only-of-type {\n",
       "        vertical-align: middle;\n",
       "    }\n",
       "\n",
       "    .dataframe tbody tr th {\n",
       "        vertical-align: top;\n",
       "    }\n",
       "\n",
       "    .dataframe thead th {\n",
       "        text-align: right;\n",
       "    }\n",
       "</style>\n",
       "<table border=\"1\" class=\"dataframe\">\n",
       "  <thead>\n",
       "    <tr style=\"text-align: right;\">\n",
       "      <th></th>\n",
       "      <th>user_id</th>\n",
       "      <th>user_name</th>\n",
       "      <th>review_count</th>\n",
       "      <th>yelping_since</th>\n",
       "      <th>average_stars</th>\n",
       "    </tr>\n",
       "  </thead>\n",
       "  <tbody>\n",
       "    <tr>\n",
       "      <th>0</th>\n",
       "      <td>ntlvfPzc8eglqvk92iDIAw</td>\n",
       "      <td>Rafael</td>\n",
       "      <td>553</td>\n",
       "      <td>2007-07-06 03:27:11</td>\n",
       "      <td>3.57</td>\n",
       "    </tr>\n",
       "    <tr>\n",
       "      <th>1</th>\n",
       "      <td>FOBRPlBHa3WPHFB5qYDlVg</td>\n",
       "      <td>Michelle</td>\n",
       "      <td>564</td>\n",
       "      <td>2008-04-28 01:29:25</td>\n",
       "      <td>3.84</td>\n",
       "    </tr>\n",
       "    <tr>\n",
       "      <th>2</th>\n",
       "      <td>zZUnPeh2hEp0WydbAZEOOg</td>\n",
       "      <td>Martin</td>\n",
       "      <td>60</td>\n",
       "      <td>2008-08-28 23:40:05</td>\n",
       "      <td>3.44</td>\n",
       "    </tr>\n",
       "    <tr>\n",
       "      <th>3</th>\n",
       "      <td>QaELAmRcDc5TfJEylaaP8g</td>\n",
       "      <td>John</td>\n",
       "      <td>206</td>\n",
       "      <td>2008-09-20 00:08:14</td>\n",
       "      <td>3.08</td>\n",
       "    </tr>\n",
       "    <tr>\n",
       "      <th>4</th>\n",
       "      <td>xvu8G900tezTzbbfqmTKvA</td>\n",
       "      <td>Anne</td>\n",
       "      <td>485</td>\n",
       "      <td>2008-08-09 00:30:27</td>\n",
       "      <td>4.37</td>\n",
       "    </tr>\n",
       "    <tr>\n",
       "      <th>...</th>\n",
       "      <td>...</td>\n",
       "      <td>...</td>\n",
       "      <td>...</td>\n",
       "      <td>...</td>\n",
       "      <td>...</td>\n",
       "    </tr>\n",
       "    <tr>\n",
       "      <th>1968698</th>\n",
       "      <td>gDC6V3sfu9SixRic9hkEQQ</td>\n",
       "      <td>Larry</td>\n",
       "      <td>9</td>\n",
       "      <td>2014-04-27 16:17:05</td>\n",
       "      <td>3.56</td>\n",
       "    </tr>\n",
       "    <tr>\n",
       "      <th>1968699</th>\n",
       "      <td>VEAWhS_RF-cKSUflmbCn7Q</td>\n",
       "      <td>Frank</td>\n",
       "      <td>10</td>\n",
       "      <td>2011-10-06 23:38:14</td>\n",
       "      <td>2.30</td>\n",
       "    </tr>\n",
       "    <tr>\n",
       "      <th>1968700</th>\n",
       "      <td>toAMthOzk2VDBgpW7Hu3eA</td>\n",
       "      <td>Greg</td>\n",
       "      <td>1</td>\n",
       "      <td>2016-05-08 16:42:58</td>\n",
       "      <td>1.00</td>\n",
       "    </tr>\n",
       "    <tr>\n",
       "      <th>1968701</th>\n",
       "      <td>hNX_EqOMImKGUx4g1x532A</td>\n",
       "      <td>RJ</td>\n",
       "      <td>2</td>\n",
       "      <td>2019-06-22 21:39:22</td>\n",
       "      <td>1.00</td>\n",
       "    </tr>\n",
       "    <tr>\n",
       "      <th>1968702</th>\n",
       "      <td>9lsXyOI065n-T0pJ_EoA_w</td>\n",
       "      <td>Aaron</td>\n",
       "      <td>2</td>\n",
       "      <td>2018-08-17 21:10:18</td>\n",
       "      <td>5.00</td>\n",
       "    </tr>\n",
       "  </tbody>\n",
       "</table>\n",
       "<p>1968703 rows × 5 columns</p>\n",
       "</div>"
      ],
      "text/plain": [
       "                        user_id user_name  review_count        yelping_since  \\\n",
       "0        ntlvfPzc8eglqvk92iDIAw    Rafael           553  2007-07-06 03:27:11   \n",
       "1        FOBRPlBHa3WPHFB5qYDlVg  Michelle           564  2008-04-28 01:29:25   \n",
       "2        zZUnPeh2hEp0WydbAZEOOg    Martin            60  2008-08-28 23:40:05   \n",
       "3        QaELAmRcDc5TfJEylaaP8g      John           206  2008-09-20 00:08:14   \n",
       "4        xvu8G900tezTzbbfqmTKvA      Anne           485  2008-08-09 00:30:27   \n",
       "...                         ...       ...           ...                  ...   \n",
       "1968698  gDC6V3sfu9SixRic9hkEQQ     Larry             9  2014-04-27 16:17:05   \n",
       "1968699  VEAWhS_RF-cKSUflmbCn7Q     Frank            10  2011-10-06 23:38:14   \n",
       "1968700  toAMthOzk2VDBgpW7Hu3eA      Greg             1  2016-05-08 16:42:58   \n",
       "1968701  hNX_EqOMImKGUx4g1x532A        RJ             2  2019-06-22 21:39:22   \n",
       "1968702  9lsXyOI065n-T0pJ_EoA_w     Aaron             2  2018-08-17 21:10:18   \n",
       "\n",
       "         average_stars  \n",
       "0                 3.57  \n",
       "1                 3.84  \n",
       "2                 3.44  \n",
       "3                 3.08  \n",
       "4                 4.37  \n",
       "...                ...  \n",
       "1968698           3.56  \n",
       "1968699           2.30  \n",
       "1968700           1.00  \n",
       "1968701           1.00  \n",
       "1968702           5.00  \n",
       "\n",
       "[1968703 rows x 5 columns]"
      ]
     },
     "execution_count": 59,
     "metadata": {},
     "output_type": "execute_result"
    }
   ],
   "source": [
    "# Rename columns to avoid mix-ups\n",
    "review_df.rename(columns={'stars': 'review_stars'}, inplace=True)\n",
    "business_df.rename(columns={'stars': 'business_stars',\n",
    "                            'name': 'business_name'}, inplace=True)\n",
    "user_df.rename(columns={'name': 'user_name'}, inplace=True)"
   ]
  },
  {
   "cell_type": "code",
   "execution_count": 68,
   "metadata": {},
   "outputs": [],
   "source": [
    "# Combine review/user/business dfs, specifically for Charlotte restaraunts\n",
    "review_business_df = review_df.merge(business_df, on='business_id')\n",
    "all_df = review_business_df.merge(user_df, on='user_id')\n",
    "charlotte_df = (all_df[(all_df['city'] == 'Charlotte') &\n",
    "                       (all_df['is_open'] == 1)])\n",
    "charlotte_df = charlotte_df[charlotte_df['categories'].str.contains(\n",
    "    'Restaurants', case=False, na=False)]"
   ]
  },
  {
   "cell_type": "code",
   "execution_count": 75,
   "metadata": {},
   "outputs": [],
   "source": [
    "# Rename columns to avoid mix-ups\n",
    "all_df.rename(columns={'review_count_x': 'business_review_count',\n",
    "                       'review_count_y': 'user_review_count'},\n",
    "              inplace=True)\n",
    "charlotte_df.rename(columns={'review_count_x': 'business_review_count',\n",
    "                             'review_count_y': 'user_review_count'},\n",
    "                    inplace=True)\n",
    "charlotte_df.reset_index(drop=True, inplace=True)"
   ]
  },
  {
   "cell_type": "code",
   "execution_count": 79,
   "metadata": {},
   "outputs": [
    {
     "data": {
      "text/html": [
       "<div>\n",
       "<style scoped>\n",
       "    .dataframe tbody tr th:only-of-type {\n",
       "        vertical-align: middle;\n",
       "    }\n",
       "\n",
       "    .dataframe tbody tr th {\n",
       "        vertical-align: top;\n",
       "    }\n",
       "\n",
       "    .dataframe thead th {\n",
       "        text-align: right;\n",
       "    }\n",
       "</style>\n",
       "<table border=\"1\" class=\"dataframe\">\n",
       "  <thead>\n",
       "    <tr style=\"text-align: right;\">\n",
       "      <th></th>\n",
       "      <th>review_id</th>\n",
       "      <th>user_id</th>\n",
       "      <th>business_id</th>\n",
       "      <th>review_stars</th>\n",
       "      <th>text</th>\n",
       "      <th>date</th>\n",
       "      <th>business_name</th>\n",
       "      <th>city</th>\n",
       "      <th>state</th>\n",
       "      <th>business_stars</th>\n",
       "      <th>business_review_count</th>\n",
       "      <th>is_open</th>\n",
       "      <th>categories</th>\n",
       "      <th>user_name</th>\n",
       "      <th>user_review_count</th>\n",
       "      <th>yelping_since</th>\n",
       "      <th>average_stars</th>\n",
       "    </tr>\n",
       "  </thead>\n",
       "  <tbody>\n",
       "    <tr>\n",
       "      <th>0</th>\n",
       "      <td>ML1EIuelvWxb8WOt76iv9w</td>\n",
       "      <td>Xsuv6bKcPUVDWih0DtEBbA</td>\n",
       "      <td>3Ui-76sC9_fNs2gu8ISAMw</td>\n",
       "      <td>4</td>\n",
       "      <td>In need of lunch and craving pizza, I stumbled...</td>\n",
       "      <td>2012-11-17 02:48:38</td>\n",
       "      <td>Brixx Wood Fired Pizza</td>\n",
       "      <td>Charlotte</td>\n",
       "      <td>NC</td>\n",
       "      <td>3.5</td>\n",
       "      <td>163</td>\n",
       "      <td>1</td>\n",
       "      <td>Pizza, Restaurants, Salad, Sandwiches, Italian</td>\n",
       "      <td>Liz</td>\n",
       "      <td>454</td>\n",
       "      <td>2010-05-16 16:25:16</td>\n",
       "      <td>3.96</td>\n",
       "    </tr>\n",
       "    <tr>\n",
       "      <th>1</th>\n",
       "      <td>lFYxXFcKeIVL7xDyht5Y_g</td>\n",
       "      <td>QEpNF4Hag6_W9Stc-1Frvg</td>\n",
       "      <td>R1jJQi2yR44D_2ileqr8kA</td>\n",
       "      <td>4</td>\n",
       "      <td>Gluten Free: Yes\\nCasein Free: Yes\\nVegan: Yes...</td>\n",
       "      <td>2016-08-06 03:46:28</td>\n",
       "      <td>Living Kitchen</td>\n",
       "      <td>Charlotte</td>\n",
       "      <td>NC</td>\n",
       "      <td>4.5</td>\n",
       "      <td>502</td>\n",
       "      <td>1</td>\n",
       "      <td>Vegan, Live/Raw Food, Restaurants, Vegetarian</td>\n",
       "      <td>Stacy</td>\n",
       "      <td>851</td>\n",
       "      <td>2013-02-12 21:21:29</td>\n",
       "      <td>3.70</td>\n",
       "    </tr>\n",
       "    <tr>\n",
       "      <th>2</th>\n",
       "      <td>bt-jYgHuSAMO0KiSCtiFBw</td>\n",
       "      <td>QEpNF4Hag6_W9Stc-1Frvg</td>\n",
       "      <td>zrEmWr6ue5yfxnKr4E2_jg</td>\n",
       "      <td>5</td>\n",
       "      <td>Gluten Free: Yes, item specific\\nCasein Free: ...</td>\n",
       "      <td>2018-07-14 06:05:44</td>\n",
       "      <td>Bleu Barn Bistro</td>\n",
       "      <td>Charlotte</td>\n",
       "      <td>NC</td>\n",
       "      <td>4.5</td>\n",
       "      <td>44</td>\n",
       "      <td>1</td>\n",
       "      <td>Food, Street Vendors, Food Trucks, Event Plann...</td>\n",
       "      <td>Stacy</td>\n",
       "      <td>851</td>\n",
       "      <td>2013-02-12 21:21:29</td>\n",
       "      <td>3.70</td>\n",
       "    </tr>\n",
       "    <tr>\n",
       "      <th>3</th>\n",
       "      <td>BXIV_0SZEyeLX6D94ikyPA</td>\n",
       "      <td>QEpNF4Hag6_W9Stc-1Frvg</td>\n",
       "      <td>DTJ9_6yKye0Ul2qG45vGKw</td>\n",
       "      <td>5</td>\n",
       "      <td>Gluten free- Yes\\nCasein free- Yes, just don't...</td>\n",
       "      <td>2017-06-15 04:53:52</td>\n",
       "      <td>Grabbagreen Food + Juice</td>\n",
       "      <td>Charlotte</td>\n",
       "      <td>NC</td>\n",
       "      <td>3.5</td>\n",
       "      <td>28</td>\n",
       "      <td>1</td>\n",
       "      <td>Juice Bars &amp; Smoothies, Restaurants, Food, Fas...</td>\n",
       "      <td>Stacy</td>\n",
       "      <td>851</td>\n",
       "      <td>2013-02-12 21:21:29</td>\n",
       "      <td>3.70</td>\n",
       "    </tr>\n",
       "    <tr>\n",
       "      <th>4</th>\n",
       "      <td>bLmB7p61YxzagnFyVu3-4A</td>\n",
       "      <td>QEpNF4Hag6_W9Stc-1Frvg</td>\n",
       "      <td>RMzjD_LpED02tGGafX0RBw</td>\n",
       "      <td>5</td>\n",
       "      <td>Gluten Free- Yes\\nCasein Free - Yes\\n\\nI have ...</td>\n",
       "      <td>2017-07-09 04:13:30</td>\n",
       "      <td>City Barbeque</td>\n",
       "      <td>Charlotte</td>\n",
       "      <td>NC</td>\n",
       "      <td>4.0</td>\n",
       "      <td>173</td>\n",
       "      <td>1</td>\n",
       "      <td>Barbeque, American (Traditional), Event Planni...</td>\n",
       "      <td>Stacy</td>\n",
       "      <td>851</td>\n",
       "      <td>2013-02-12 21:21:29</td>\n",
       "      <td>3.70</td>\n",
       "    </tr>\n",
       "  </tbody>\n",
       "</table>\n",
       "</div>"
      ],
      "text/plain": [
       "                review_id                 user_id             business_id  \\\n",
       "0  ML1EIuelvWxb8WOt76iv9w  Xsuv6bKcPUVDWih0DtEBbA  3Ui-76sC9_fNs2gu8ISAMw   \n",
       "1  lFYxXFcKeIVL7xDyht5Y_g  QEpNF4Hag6_W9Stc-1Frvg  R1jJQi2yR44D_2ileqr8kA   \n",
       "2  bt-jYgHuSAMO0KiSCtiFBw  QEpNF4Hag6_W9Stc-1Frvg  zrEmWr6ue5yfxnKr4E2_jg   \n",
       "3  BXIV_0SZEyeLX6D94ikyPA  QEpNF4Hag6_W9Stc-1Frvg  DTJ9_6yKye0Ul2qG45vGKw   \n",
       "4  bLmB7p61YxzagnFyVu3-4A  QEpNF4Hag6_W9Stc-1Frvg  RMzjD_LpED02tGGafX0RBw   \n",
       "\n",
       "   review_stars                                               text  \\\n",
       "0             4  In need of lunch and craving pizza, I stumbled...   \n",
       "1             4  Gluten Free: Yes\\nCasein Free: Yes\\nVegan: Yes...   \n",
       "2             5  Gluten Free: Yes, item specific\\nCasein Free: ...   \n",
       "3             5  Gluten free- Yes\\nCasein free- Yes, just don't...   \n",
       "4             5  Gluten Free- Yes\\nCasein Free - Yes\\n\\nI have ...   \n",
       "\n",
       "                  date             business_name       city state  \\\n",
       "0  2012-11-17 02:48:38    Brixx Wood Fired Pizza  Charlotte    NC   \n",
       "1  2016-08-06 03:46:28            Living Kitchen  Charlotte    NC   \n",
       "2  2018-07-14 06:05:44          Bleu Barn Bistro  Charlotte    NC   \n",
       "3  2017-06-15 04:53:52  Grabbagreen Food + Juice  Charlotte    NC   \n",
       "4  2017-07-09 04:13:30             City Barbeque  Charlotte    NC   \n",
       "\n",
       "   business_stars  business_review_count  is_open  \\\n",
       "0             3.5                    163        1   \n",
       "1             4.5                    502        1   \n",
       "2             4.5                     44        1   \n",
       "3             3.5                     28        1   \n",
       "4             4.0                    173        1   \n",
       "\n",
       "                                          categories user_name  \\\n",
       "0     Pizza, Restaurants, Salad, Sandwiches, Italian       Liz   \n",
       "1      Vegan, Live/Raw Food, Restaurants, Vegetarian     Stacy   \n",
       "2  Food, Street Vendors, Food Trucks, Event Plann...     Stacy   \n",
       "3  Juice Bars & Smoothies, Restaurants, Food, Fas...     Stacy   \n",
       "4  Barbeque, American (Traditional), Event Planni...     Stacy   \n",
       "\n",
       "   user_review_count        yelping_since  average_stars  \n",
       "0                454  2010-05-16 16:25:16           3.96  \n",
       "1                851  2013-02-12 21:21:29           3.70  \n",
       "2                851  2013-02-12 21:21:29           3.70  \n",
       "3                851  2013-02-12 21:21:29           3.70  \n",
       "4                851  2013-02-12 21:21:29           3.70  "
      ]
     },
     "execution_count": 79,
     "metadata": {},
     "output_type": "execute_result"
    }
   ],
   "source": [
    "charlotte_df.head()"
   ]
  },
  {
   "cell_type": "code",
   "execution_count": 81,
   "metadata": {},
   "outputs": [],
   "source": [
    "# Save edited dataframes to csv files\n",
    "all_df.to_csv('data/all_df.csv')\n",
    "charlotte_df.to_csv('data/charlotte_df.csv')"
   ]
  },
  {
   "cell_type": "code",
   "execution_count": 100,
   "metadata": {},
   "outputs": [
    {
     "data": {
      "text/plain": [
       "(0, 4000)"
      ]
     },
     "execution_count": 100,
     "metadata": {},
     "output_type": "execute_result"
    },
    {
     "data": {
      "image/png": "[encoded data removed]",
      "text/plain": [
       "<Figure size 576x432 with 1 Axes>"
      ]
     },
     "metadata": {},
     "output_type": "display_data"
    }
   ],
   "source": [
    "# Look at recorded review count by user\n",
    "fig, ax = plt.subplots(figsize=(8,6))\n",
    "charlotte_df.groupby('user_id').mean()['user_review_count'].hist(ax=ax, bins=100)\n",
    "ax.set_title('Distribution of Total Review Counts by User in Charlotte')\n",
    "ax.set_xlabel('Total Review Counts')\n",
    "ax.set_ylabel('Counts')\n",
    "ax.set_yscale('log')\n",
    "ax.set_xlim((0,4000))"
   ]
  },
  {
   "cell_type": "code",
   "execution_count": 105,
   "metadata": {},
   "outputs": [
    {
     "data": {
      "text/plain": [
       "Text(0, 0.5, 'Counts')"
      ]
     },
     "execution_count": 105,
     "metadata": {},
     "output_type": "execute_result"
    },
    {
     "data": {
      "image/png": "[encoded data removed]",
      "text/plain": [
       "<Figure size 576x432 with 1 Axes>"
      ]
     },
     "metadata": {},
     "output_type": "display_data"
    }
   ],
   "source": [
    "# Average star rating by user\n",
    "fig, ax = plt.subplots(figsize=(8,6))\n",
    "charlotte_df.groupby('user_id').mean()['average_stars'].hist(ax=ax, bins=25)\n",
    "ax.set_title('Distribution of Average Stars by User in Charlotte')\n",
    "ax.set_xlabel('Average Stars by User')\n",
    "ax.set_ylabel('Counts')"
   ]
  },
  {
   "cell_type": "code",
   "execution_count": 107,
   "metadata": {},
   "outputs": [
    {
     "data": {
      "text/plain": [
       "array([[<matplotlib.axes._subplots.AxesSubplot object at 0x7f45017bacd0>]],\n",
       "      dtype=object)"
      ]
     },
     "execution_count": 107,
     "metadata": {},
     "output_type": "execute_result"
    },
    {
     "data": {
      "image/png": "[encoded data removed]",
      "text/plain": [
       "<Figure size 432x288 with 1 Axes>"
      ]
     },
     "metadata": {},
     "output_type": "display_data"
    }
   ],
   "source": [
    "# Review distribution for power user BRUCE\n",
    "charlotte_df[charlotte_df['user_id'] ==\n",
    "             'hWDybu_KvYLSdEFzGrniTw'].hist(column='review_stars')"
   ]
  },
  {
   "cell_type": "code",
   "execution_count": 108,
   "metadata": {},
   "outputs": [
    {
     "data": {
      "text/plain": [
       "Text(0, 0.5, 'Counts')"
      ]
     },
     "execution_count": 108,
     "metadata": {},
     "output_type": "execute_result"
    },
    {
     "data": {
      "image/png": "[encoded data removed]",
      "text/plain": [
       "<Figure size 576x432 with 1 Axes>"
      ]
     },
     "metadata": {},
     "output_type": "display_data"
    }
   ],
   "source": [
    "# Distribution of ratings for Charlotte restaurants\n",
    "fig, ax = plt.subplots(figsize=(8,6))\n",
    "charlotte_df['review_stars'].hist(ax=ax)\n",
    "ax.set_title('Distribution of Ratings for Charlotte Restaurants')\n",
    "ax.set_xlabel('Rating')\n",
    "ax.set_ylabel('Counts')"
   ]
  },
  {
   "cell_type": "code",
   "execution_count": 109,
   "metadata": {},
   "outputs": [
    {
     "data": {
      "text/plain": [
       "5    88134\n",
       "4    57245\n",
       "3    28070\n",
       "1    26888\n",
       "2    19904\n",
       "Name: review_stars, dtype: int64"
      ]
     },
     "execution_count": 109,
     "metadata": {},
     "output_type": "execute_result"
    }
   ],
   "source": [
    "charlotte_df['review_stars'].value_counts()"
   ]
  },
  {
   "cell_type": "code",
   "execution_count": 110,
   "metadata": {},
   "outputs": [
    {
     "data": {
      "text/plain": [
       "3.7257186445757147"
      ]
     },
     "execution_count": 110,
     "metadata": {},
     "output_type": "execute_result"
    }
   ],
   "source": [
    "charlotte_df['review_stars'].mean()"
   ]
  },
  {
   "cell_type": "code",
   "execution_count": 119,
   "metadata": {},
   "outputs": [
    {
     "data": {
      "text/plain": [
       "0.001380822978796313"
      ]
     },
     "execution_count": 119,
     "metadata": {},
     "output_type": "execute_result"
    }
   ],
   "source": [
    "# Get the density of our matrix\n",
    "unique_users = len(charlotte_df['user_id'].unique())\n",
    "unique_businesses = len(charlotte_df['business_id'].unique())\n",
    "total_reviews = charlotte_df.shape[0]\n",
    "total_reviews / (unique_businesses * unique_users)"
   ]
  },
  {
   "cell_type": "code",
   "execution_count": 122,
   "metadata": {},
   "outputs": [
    {
     "data": {
      "text/plain": [
       "220241"
      ]
     },
     "execution_count": 122,
     "metadata": {},
     "output_type": "execute_result"
    }
   ],
   "source": [
    "charlotte_df.shape[0]"
   ]
  },
  {
   "cell_type": "code",
   "execution_count": 123,
   "metadata": {},
   "outputs": [
    {
     "data": {
      "text/plain": [
       "McDonald's                                 1020\n",
       "Chick-fil-A                                 975\n",
       "Bojangles' Famous Chicken 'n Biscuits       955\n",
       "Chipotle Mexican Grill                      710\n",
       "Wendy's                                     593\n",
       "Bad Daddy's Burger Bar                      576\n",
       "Shake Shack                                 428\n",
       "Taco Bell                                   423\n",
       "Blaze Fast-Fire'd Pizza                     412\n",
       "Cook Out                                    393\n",
       "Benny Pennello's                            374\n",
       "Domino's                                    372\n",
       "Jersey Mike's Subs                          341\n",
       "Jimmy John's                                308\n",
       "Subway Restaurants                          300\n",
       "Famous Toastery                             282\n",
       "MOD Pizza                                   272\n",
       "Jack in the Box                             247\n",
       "Burger King                                 243\n",
       "Zaxby's Chicken Fingers & Buffalo Wings     239\n",
       "Moe's Southwest Grill                       209\n",
       "QDOBA Mexican Eats                          199\n",
       "Pollo Campero                               197\n",
       "Salsarita's Fresh Mexican Grill             191\n",
       "Popeyes Louisiana Kitchen                   189\n",
       "Five Guys                                   187\n",
       "Firehouse Subs                              177\n",
       "Fuel Pizza                                  162\n",
       "Pei Wei                                     160\n",
       "Flip-a-Lo’s                                 152\n",
       "Buffalo Wild Wings                          136\n",
       "The Tasty Bowl Subs N Such                  128\n",
       "Potbelly Sandwich Shop                      121\n",
       "Arby's                                      115\n",
       "Culver's                                    111\n",
       "Steak ’n Shake                              101\n",
       "KFC                                         100\n",
       "Pita Pit                                     97\n",
       "Wingstop                                     96\n",
       "Sonic Drive-In                               94\n",
       "Hwy 55 Burgers Shakes & Fries                89\n",
       "Foster's Grille                              88\n",
       "Poké Cafe                                    85\n",
       "Quickly Bubble Tea                           82\n",
       "Shane's Rib Shack                            78\n",
       "Panda Express                                73\n",
       "Freshii                                      68\n",
       "Smithfield's Chicken N Bar B Q               62\n",
       "Sports Page Food & Spirits                   61\n",
       "B.GOOD                                       59\n",
       "Captain D's                                  58\n",
       "Showmars - Little Rock                       56\n",
       "Wing Zone                                    54\n",
       "American Deli                                53\n",
       "Binki Cafe                                   53\n",
       "Dairy Queen                                  52\n",
       "Chicken King Nations Ford                    48\n",
       "Hardee's                                     44\n",
       "Showmars - Park Cedar                        41\n",
       "Noodles & Company                            40\n",
       "Pizza Hut                                    38\n",
       "Lai Lai Express                              37\n",
       "Chicken King                                 36\n",
       "Niyoshi II Japanese Express Restaurant       30\n",
       "Grabbagreen Food + Juice                     30\n",
       "Freddy's Frozen Custard & Steakburgers       29\n",
       "Church's Chicken                             27\n",
       "China Go Go                                  26\n",
       "Which Wich                                   25\n",
       "Potbellly Sandwich Shop                      24\n",
       "Charlotte Douglas Airport Food Court         19\n",
       "Wingzza                                      17\n",
       "Bojangles Restaurant                         17\n",
       "Auntie Anne's                                14\n",
       "Bojangles                                    14\n",
       "Showmars South Park Mall                     13\n",
       "Showmars Eastway                             11\n",
       "Waffle House                                 10\n",
       "CHIN CHIN II                                 10\n",
       "Tanners Restaurant                            9\n",
       "Hardee's Red Burrito                          9\n",
       "Quiznos                                       9\n",
       "Kung Pao Wok                                  7\n",
       "Casa Bacardi                                  6\n",
       "The Cookin Coop                               6\n",
       "Belly Backers                                 5\n",
       "Fish & Chicken Corner                         5\n",
       "Frankly Gourmet                               3\n",
       "Name: business_name, dtype: int64"
      ]
     },
     "execution_count": 123,
     "metadata": {},
     "output_type": "execute_result"
    }
   ],
   "source": [
    "# Examining the most common fast food reviews, out of curiosity\n",
    "charlotte_df[charlotte_df['categories'].str.contains(\n",
    "    'fast food', case=False, na=False)]['business_name'].value_counts()"
   ]
  },
  {
   "cell_type": "code",
   "execution_count": 125,
   "metadata": {},
   "outputs": [],
   "source": [
    "# Examine the utility matrix via pivot table\n",
    "charlotte_pivot = charlotte_df.pivot_table(values='review_stars',\n",
    "                                           index='user_id',\n",
    "                                           columns='business_id')"
   ]
  },
  {
   "cell_type": "code",
   "execution_count": 129,
   "metadata": {},
   "outputs": [
    {
     "name": "stdout",
     "output_type": "stream",
     "text": [
      "Min number of ratings: 1\n"
     ]
    },
    {
     "data": {
      "image/png": "[encoded data removed]",
      "text/plain": [
       "<Figure size 432x288 with 1 Axes>"
      ]
     },
     "metadata": {},
     "output_type": "display_data"
    }
   ],
   "source": [
    "user_ratings = (charlotte_pivot > 0).sum(axis=1)\n",
    "user_ratings.hist(bins=100)\n",
    "print('Min number of ratings: {}'.format(user_ratings.min()))"
   ]
  },
  {
   "cell_type": "code",
   "execution_count": 151,
   "metadata": {},
   "outputs": [
    {
     "data": {
      "image/png": "[encoded data removed]",
      "text/plain": [
       "<Figure size 576x432 with 1 Axes>"
      ]
     },
     "metadata": {},
     "output_type": "display_data"
    }
   ],
   "source": [
    "fig, ax = plt.subplots(figsize=(8,6))\n",
    "user_ratings_50 = user_ratings[user_ratings <= 50]\n",
    "user_ratings_50.hist(ax=ax, bins=20)\n",
    "ax.set_title('Distribution of Total Review Counts by User in Charlotte')\n",
    "ax.set_xlabel('Review Counts')\n",
    "ax.set_ylabel('Counts')\n",
    "ax.set_yscale('log')"
   ]
  },
  {
   "cell_type": "code",
   "execution_count": 145,
   "metadata": {},
   "outputs": [
    {
     "data": {
      "text/plain": [
       "50239"
      ]
     },
     "execution_count": 145,
     "metadata": {},
     "output_type": "execute_result"
    }
   ],
   "source": [
    "# How many users only have 1 review?\n",
    "user_ratings[user_ratings.values == 1].count()"
   ]
  },
  {
   "cell_type": "code",
   "execution_count": 146,
   "metadata": {},
   "outputs": [
    {
     "data": {
      "text/plain": [
       "11964"
      ]
     },
     "execution_count": 146,
     "metadata": {},
     "output_type": "execute_result"
    }
   ],
   "source": [
    "user_ratings[user_ratings.values == 2].count()"
   ]
  },
  {
   "cell_type": "code",
   "execution_count": 157,
   "metadata": {},
   "outputs": [
    {
     "data": {
      "text/html": [
       "<div>\n",
       "<style scoped>\n",
       "    .dataframe tbody tr th:only-of-type {\n",
       "        vertical-align: middle;\n",
       "    }\n",
       "\n",
       "    .dataframe tbody tr th {\n",
       "        vertical-align: top;\n",
       "    }\n",
       "\n",
       "    .dataframe thead th {\n",
       "        text-align: right;\n",
       "    }\n",
       "</style>\n",
       "<table border=\"1\" class=\"dataframe\">\n",
       "  <thead>\n",
       "    <tr style=\"text-align: right;\">\n",
       "      <th></th>\n",
       "      <th>ratings</th>\n",
       "      <th>count</th>\n",
       "    </tr>\n",
       "  </thead>\n",
       "  <tbody>\n",
       "    <tr>\n",
       "      <th>0</th>\n",
       "      <td>1</td>\n",
       "      <td>50239</td>\n",
       "    </tr>\n",
       "    <tr>\n",
       "      <th>1</th>\n",
       "      <td>2</td>\n",
       "      <td>11964</td>\n",
       "    </tr>\n",
       "    <tr>\n",
       "      <th>2</th>\n",
       "      <td>3</td>\n",
       "      <td>5317</td>\n",
       "    </tr>\n",
       "    <tr>\n",
       "      <th>3</th>\n",
       "      <td>4</td>\n",
       "      <td>2844</td>\n",
       "    </tr>\n",
       "    <tr>\n",
       "      <th>4</th>\n",
       "      <td>5</td>\n",
       "      <td>1817</td>\n",
       "    </tr>\n",
       "    <tr>\n",
       "      <th>5</th>\n",
       "      <td>6</td>\n",
       "      <td>1180</td>\n",
       "    </tr>\n",
       "    <tr>\n",
       "      <th>6</th>\n",
       "      <td>7</td>\n",
       "      <td>813</td>\n",
       "    </tr>\n",
       "    <tr>\n",
       "      <th>7</th>\n",
       "      <td>8</td>\n",
       "      <td>650</td>\n",
       "    </tr>\n",
       "    <tr>\n",
       "      <th>8</th>\n",
       "      <td>9</td>\n",
       "      <td>494</td>\n",
       "    </tr>\n",
       "    <tr>\n",
       "      <th>9</th>\n",
       "      <td>10</td>\n",
       "      <td>389</td>\n",
       "    </tr>\n",
       "    <tr>\n",
       "      <th>10</th>\n",
       "      <td>11</td>\n",
       "      <td>322</td>\n",
       "    </tr>\n",
       "    <tr>\n",
       "      <th>11</th>\n",
       "      <td>12</td>\n",
       "      <td>246</td>\n",
       "    </tr>\n",
       "    <tr>\n",
       "      <th>12</th>\n",
       "      <td>13</td>\n",
       "      <td>226</td>\n",
       "    </tr>\n",
       "    <tr>\n",
       "      <th>13</th>\n",
       "      <td>14</td>\n",
       "      <td>205</td>\n",
       "    </tr>\n",
       "    <tr>\n",
       "      <th>14</th>\n",
       "      <td>15</td>\n",
       "      <td>152</td>\n",
       "    </tr>\n",
       "    <tr>\n",
       "      <th>15</th>\n",
       "      <td>16</td>\n",
       "      <td>121</td>\n",
       "    </tr>\n",
       "    <tr>\n",
       "      <th>16</th>\n",
       "      <td>17</td>\n",
       "      <td>113</td>\n",
       "    </tr>\n",
       "    <tr>\n",
       "      <th>17</th>\n",
       "      <td>18</td>\n",
       "      <td>81</td>\n",
       "    </tr>\n",
       "    <tr>\n",
       "      <th>18</th>\n",
       "      <td>19</td>\n",
       "      <td>98</td>\n",
       "    </tr>\n",
       "    <tr>\n",
       "      <th>19</th>\n",
       "      <td>20</td>\n",
       "      <td>87</td>\n",
       "    </tr>\n",
       "    <tr>\n",
       "      <th>20</th>\n",
       "      <td>21</td>\n",
       "      <td>72</td>\n",
       "    </tr>\n",
       "    <tr>\n",
       "      <th>21</th>\n",
       "      <td>22</td>\n",
       "      <td>64</td>\n",
       "    </tr>\n",
       "    <tr>\n",
       "      <th>22</th>\n",
       "      <td>23</td>\n",
       "      <td>62</td>\n",
       "    </tr>\n",
       "    <tr>\n",
       "      <th>23</th>\n",
       "      <td>24</td>\n",
       "      <td>67</td>\n",
       "    </tr>\n",
       "    <tr>\n",
       "      <th>24</th>\n",
       "      <td>25</td>\n",
       "      <td>34</td>\n",
       "    </tr>\n",
       "    <tr>\n",
       "      <th>25</th>\n",
       "      <td>26</td>\n",
       "      <td>34</td>\n",
       "    </tr>\n",
       "    <tr>\n",
       "      <th>26</th>\n",
       "      <td>27</td>\n",
       "      <td>28</td>\n",
       "    </tr>\n",
       "    <tr>\n",
       "      <th>27</th>\n",
       "      <td>28</td>\n",
       "      <td>42</td>\n",
       "    </tr>\n",
       "    <tr>\n",
       "      <th>28</th>\n",
       "      <td>29</td>\n",
       "      <td>35</td>\n",
       "    </tr>\n",
       "    <tr>\n",
       "      <th>29</th>\n",
       "      <td>30</td>\n",
       "      <td>30</td>\n",
       "    </tr>\n",
       "    <tr>\n",
       "      <th>30</th>\n",
       "      <td>31</td>\n",
       "      <td>28</td>\n",
       "    </tr>\n",
       "    <tr>\n",
       "      <th>31</th>\n",
       "      <td>32</td>\n",
       "      <td>32</td>\n",
       "    </tr>\n",
       "    <tr>\n",
       "      <th>32</th>\n",
       "      <td>33</td>\n",
       "      <td>32</td>\n",
       "    </tr>\n",
       "    <tr>\n",
       "      <th>33</th>\n",
       "      <td>34</td>\n",
       "      <td>26</td>\n",
       "    </tr>\n",
       "    <tr>\n",
       "      <th>34</th>\n",
       "      <td>35</td>\n",
       "      <td>23</td>\n",
       "    </tr>\n",
       "    <tr>\n",
       "      <th>35</th>\n",
       "      <td>36</td>\n",
       "      <td>25</td>\n",
       "    </tr>\n",
       "    <tr>\n",
       "      <th>36</th>\n",
       "      <td>37</td>\n",
       "      <td>25</td>\n",
       "    </tr>\n",
       "    <tr>\n",
       "      <th>37</th>\n",
       "      <td>38</td>\n",
       "      <td>29</td>\n",
       "    </tr>\n",
       "    <tr>\n",
       "      <th>38</th>\n",
       "      <td>39</td>\n",
       "      <td>13</td>\n",
       "    </tr>\n",
       "    <tr>\n",
       "      <th>39</th>\n",
       "      <td>40</td>\n",
       "      <td>12</td>\n",
       "    </tr>\n",
       "    <tr>\n",
       "      <th>40</th>\n",
       "      <td>41</td>\n",
       "      <td>10</td>\n",
       "    </tr>\n",
       "    <tr>\n",
       "      <th>41</th>\n",
       "      <td>42</td>\n",
       "      <td>17</td>\n",
       "    </tr>\n",
       "    <tr>\n",
       "      <th>42</th>\n",
       "      <td>43</td>\n",
       "      <td>11</td>\n",
       "    </tr>\n",
       "    <tr>\n",
       "      <th>43</th>\n",
       "      <td>44</td>\n",
       "      <td>13</td>\n",
       "    </tr>\n",
       "    <tr>\n",
       "      <th>44</th>\n",
       "      <td>45</td>\n",
       "      <td>12</td>\n",
       "    </tr>\n",
       "    <tr>\n",
       "      <th>45</th>\n",
       "      <td>46</td>\n",
       "      <td>11</td>\n",
       "    </tr>\n",
       "    <tr>\n",
       "      <th>46</th>\n",
       "      <td>47</td>\n",
       "      <td>10</td>\n",
       "    </tr>\n",
       "    <tr>\n",
       "      <th>47</th>\n",
       "      <td>48</td>\n",
       "      <td>9</td>\n",
       "    </tr>\n",
       "    <tr>\n",
       "      <th>48</th>\n",
       "      <td>49</td>\n",
       "      <td>15</td>\n",
       "    </tr>\n",
       "    <tr>\n",
       "      <th>49</th>\n",
       "      <td>50</td>\n",
       "      <td>13</td>\n",
       "    </tr>\n",
       "  </tbody>\n",
       "</table>\n",
       "</div>"
      ],
      "text/plain": [
       "    ratings  count\n",
       "0         1  50239\n",
       "1         2  11964\n",
       "2         3   5317\n",
       "3         4   2844\n",
       "4         5   1817\n",
       "5         6   1180\n",
       "6         7    813\n",
       "7         8    650\n",
       "8         9    494\n",
       "9        10    389\n",
       "10       11    322\n",
       "11       12    246\n",
       "12       13    226\n",
       "13       14    205\n",
       "14       15    152\n",
       "15       16    121\n",
       "16       17    113\n",
       "17       18     81\n",
       "18       19     98\n",
       "19       20     87\n",
       "20       21     72\n",
       "21       22     64\n",
       "22       23     62\n",
       "23       24     67\n",
       "24       25     34\n",
       "25       26     34\n",
       "26       27     28\n",
       "27       28     42\n",
       "28       29     35\n",
       "29       30     30\n",
       "30       31     28\n",
       "31       32     32\n",
       "32       33     32\n",
       "33       34     26\n",
       "34       35     23\n",
       "35       36     25\n",
       "36       37     25\n",
       "37       38     29\n",
       "38       39     13\n",
       "39       40     12\n",
       "40       41     10\n",
       "41       42     17\n",
       "42       43     11\n",
       "43       44     13\n",
       "44       45     12\n",
       "45       46     11\n",
       "46       47     10\n",
       "47       48      9\n",
       "48       49     15\n",
       "49       50     13"
      ]
     },
     "execution_count": 157,
     "metadata": {},
     "output_type": "execute_result"
    }
   ],
   "source": [
    "# Make a table of review counts for easy comparison\n",
    "num_of_ratings = []\n",
    "num_of_reviews = []\n",
    "for num in range(1,51):\n",
    "    num_of_ratings.append(num)\n",
    "    num_of_reviews.append(user_ratings[user_ratings.values == num].count())\n",
    "d = {'ratings': num_of_ratings, 'count': num_of_reviews}\n",
    "num_of_df = pd.DataFrame(data=d)\n",
    "num_of_df.head(50)"
   ]
  },
  {
   "cell_type": "code",
   "execution_count": 156,
   "metadata": {
    "scrolled": true
   },
   "outputs": [
    {
     "data": {
      "text/plain": [
       "16291"
      ]
     },
     "execution_count": 156,
     "metadata": {},
     "output_type": "execute_result"
    }
   ],
   "source": [
    "user_ratings[user_ratings.values > 2].count()"
   ]
  },
  {
   "cell_type": "code",
   "execution_count": 132,
   "metadata": {},
   "outputs": [
    {
     "name": "stdout",
     "output_type": "stream",
     "text": [
      "Min number of ratings: 3\n"
     ]
    },
    {
     "data": {
      "image/png": "[encoded data removed]",
      "text/plain": [
       "<Figure size 432x288 with 1 Axes>"
      ]
     },
     "metadata": {},
     "output_type": "display_data"
    }
   ],
   "source": [
    "rest_ratings = (charlotte_pivot > 0).sum(axis=0)\n",
    "rest_ratings.hist(bins=100)\n",
    "print('Min number of ratings: {}'.format(rest_ratings.min()))"
   ]
  },
  {
   "cell_type": "code",
   "execution_count": 133,
   "metadata": {},
   "outputs": [
    {
     "data": {
      "text/html": [
       "<div>\n",
       "<style scoped>\n",
       "    .dataframe tbody tr th:only-of-type {\n",
       "        vertical-align: middle;\n",
       "    }\n",
       "\n",
       "    .dataframe tbody tr th {\n",
       "        vertical-align: top;\n",
       "    }\n",
       "\n",
       "    .dataframe thead th {\n",
       "        text-align: right;\n",
       "    }\n",
       "</style>\n",
       "<table border=\"1\" class=\"dataframe\">\n",
       "  <thead>\n",
       "    <tr style=\"text-align: right;\">\n",
       "      <th></th>\n",
       "      <th>user_id</th>\n",
       "      <th>business_id</th>\n",
       "      <th>review_stars</th>\n",
       "    </tr>\n",
       "  </thead>\n",
       "  <tbody>\n",
       "    <tr>\n",
       "      <th>0</th>\n",
       "      <td>Xsuv6bKcPUVDWih0DtEBbA</td>\n",
       "      <td>3Ui-76sC9_fNs2gu8ISAMw</td>\n",
       "      <td>4</td>\n",
       "    </tr>\n",
       "    <tr>\n",
       "      <th>1</th>\n",
       "      <td>QEpNF4Hag6_W9Stc-1Frvg</td>\n",
       "      <td>R1jJQi2yR44D_2ileqr8kA</td>\n",
       "      <td>4</td>\n",
       "    </tr>\n",
       "    <tr>\n",
       "      <th>2</th>\n",
       "      <td>QEpNF4Hag6_W9Stc-1Frvg</td>\n",
       "      <td>zrEmWr6ue5yfxnKr4E2_jg</td>\n",
       "      <td>5</td>\n",
       "    </tr>\n",
       "    <tr>\n",
       "      <th>3</th>\n",
       "      <td>QEpNF4Hag6_W9Stc-1Frvg</td>\n",
       "      <td>DTJ9_6yKye0Ul2qG45vGKw</td>\n",
       "      <td>5</td>\n",
       "    </tr>\n",
       "    <tr>\n",
       "      <th>4</th>\n",
       "      <td>QEpNF4Hag6_W9Stc-1Frvg</td>\n",
       "      <td>RMzjD_LpED02tGGafX0RBw</td>\n",
       "      <td>5</td>\n",
       "    </tr>\n",
       "  </tbody>\n",
       "</table>\n",
       "</div>"
      ],
      "text/plain": [
       "                  user_id             business_id  review_stars\n",
       "0  Xsuv6bKcPUVDWih0DtEBbA  3Ui-76sC9_fNs2gu8ISAMw             4\n",
       "1  QEpNF4Hag6_W9Stc-1Frvg  R1jJQi2yR44D_2ileqr8kA             4\n",
       "2  QEpNF4Hag6_W9Stc-1Frvg  zrEmWr6ue5yfxnKr4E2_jg             5\n",
       "3  QEpNF4Hag6_W9Stc-1Frvg  DTJ9_6yKye0Ul2qG45vGKw             5\n",
       "4  QEpNF4Hag6_W9Stc-1Frvg  RMzjD_LpED02tGGafX0RBw             5"
      ]
     },
     "execution_count": 133,
     "metadata": {},
     "output_type": "execute_result"
    }
   ],
   "source": [
    "# Create a utility matrix of user ids, business ids, and reviews\n",
    "utility = charlotte_df[['user_id', 'business_id', 'review_stars']]\n",
    "utility.head()"
   ]
  },
  {
   "cell_type": "code",
   "execution_count": 134,
   "metadata": {},
   "outputs": [
    {
     "data": {
      "text/plain": [
       "<matplotlib.axes._subplots.AxesSubplot at 0x7f4501851d10>"
      ]
     },
     "execution_count": 134,
     "metadata": {},
     "output_type": "execute_result"
    },
    {
     "data": {
      "image/png": "[encoded data removed]",
      "text/plain": [
       "<Figure size 432x288 with 1 Axes>"
      ]
     },
     "metadata": {},
     "output_type": "display_data"
    }
   ],
   "source": [
    "utility['review_stars'].hist()"
   ]
  },
  {
   "cell_type": "code",
   "execution_count": 181,
   "metadata": {},
   "outputs": [],
   "source": [
    "# Prepare data to run models\n",
    "reader = Reader(rating_scale=(1,5))\n",
    "data = Dataset.load_from_df(utility, reader)\n",
    "trainset, testset = train_test_split(data, test_size=0.3)"
   ]
  },
  {
   "cell_type": "code",
   "execution_count": 189,
   "metadata": {},
   "outputs": [
    {
     "data": {
      "text/html": [
       "<div>\n",
       "<style scoped>\n",
       "    .dataframe tbody tr th:only-of-type {\n",
       "        vertical-align: middle;\n",
       "    }\n",
       "\n",
       "    .dataframe tbody tr th {\n",
       "        vertical-align: top;\n",
       "    }\n",
       "\n",
       "    .dataframe thead th {\n",
       "        text-align: right;\n",
       "    }\n",
       "</style>\n",
       "<table border=\"1\" class=\"dataframe\">\n",
       "  <thead>\n",
       "    <tr style=\"text-align: right;\">\n",
       "      <th></th>\n",
       "      <th>uid</th>\n",
       "      <th>iid</th>\n",
       "      <th>rating</th>\n",
       "    </tr>\n",
       "  </thead>\n",
       "  <tbody>\n",
       "    <tr>\n",
       "      <th>0</th>\n",
       "      <td>0.0</td>\n",
       "      <td>0.0</td>\n",
       "      <td>5.0</td>\n",
       "    </tr>\n",
       "    <tr>\n",
       "      <th>1</th>\n",
       "      <td>0.0</td>\n",
       "      <td>346.0</td>\n",
       "      <td>5.0</td>\n",
       "    </tr>\n",
       "  </tbody>\n",
       "</table>\n",
       "</div>"
      ],
      "text/plain": [
       "   uid    iid  rating\n",
       "0  0.0    0.0     5.0\n",
       "1  0.0  346.0     5.0"
      ]
     },
     "execution_count": 189,
     "metadata": {},
     "output_type": "execute_result"
    }
   ],
   "source": [
    "# Looking at the trainset in a dataframe\n",
    "iterator = trainset.all_ratings()\n",
    "trainset_df = pd.DataFrame(columns=['uid', 'iid', 'rating'])\n",
    "i = 0\n",
    "for (uid, iid, rating) in iterator:\n",
    "    trainset_df.loc[i] = [uid, iid, rating]\n",
    "    i = i+1\n",
    "\n",
    "trainset_df.head(2)"
   ]
  },
  {
   "cell_type": "code",
   "execution_count": 213,
   "metadata": {},
   "outputs": [],
   "source": [
    "def inner_to_raw_iid(row):\n",
    "    '''\n",
    "    Returns the raw item id associated with a given Surprise inner id\n",
    "    \n",
    "    Parameters:\n",
    "    row: corresponds to a row in a dataframe\n",
    "    \n",
    "    Returns:\n",
    "    output (float): raw item id\n",
    "    '''\n",
    "    output = trainset.to_raw_iid(row['iid'])\n",
    "    return output"
   ]
  },
  {
   "cell_type": "code",
   "execution_count": 216,
   "metadata": {},
   "outputs": [],
   "source": [
    "def inner_to_raw_uid(row):\n",
    "    '''\n",
    "    Returns the raw user id associated with a given Surprise inner id\n",
    "    \n",
    "    Parameters:\n",
    "    row: corresponds to a row in a dataframe\n",
    "    \n",
    "    Returns:\n",
    "    output (float): raw user id\n",
    "    '''\n",
    "    output = trainset.to_raw_uid(row['uid'])\n",
    "    return output"
   ]
  },
  {
   "cell_type": "code",
   "execution_count": 195,
   "metadata": {},
   "outputs": [
    {
     "data": {
      "text/html": [
       "<div>\n",
       "<style scoped>\n",
       "    .dataframe tbody tr th:only-of-type {\n",
       "        vertical-align: middle;\n",
       "    }\n",
       "\n",
       "    .dataframe tbody tr th {\n",
       "        vertical-align: top;\n",
       "    }\n",
       "\n",
       "    .dataframe thead th {\n",
       "        text-align: right;\n",
       "    }\n",
       "</style>\n",
       "<table border=\"1\" class=\"dataframe\">\n",
       "  <thead>\n",
       "    <tr style=\"text-align: right;\">\n",
       "      <th></th>\n",
       "      <th>uid</th>\n",
       "      <th>iid</th>\n",
       "      <th>rating</th>\n",
       "    </tr>\n",
       "  </thead>\n",
       "  <tbody>\n",
       "    <tr>\n",
       "      <th>0</th>\n",
       "      <td>n5EViMvK5X0b_pjOxmvOxw</td>\n",
       "      <td>MtSEQlqTj3Pup-wBY-dKfA</td>\n",
       "      <td>1.0</td>\n",
       "    </tr>\n",
       "    <tr>\n",
       "      <th>1</th>\n",
       "      <td>-G-FF5saVqV3wOlOd9lhAw</td>\n",
       "      <td>RVQE2Z2uky4c0-njFQO66g</td>\n",
       "      <td>4.0</td>\n",
       "    </tr>\n",
       "  </tbody>\n",
       "</table>\n",
       "</div>"
      ],
      "text/plain": [
       "                      uid                     iid  rating\n",
       "0  n5EViMvK5X0b_pjOxmvOxw  MtSEQlqTj3Pup-wBY-dKfA     1.0\n",
       "1  -G-FF5saVqV3wOlOd9lhAw  RVQE2Z2uky4c0-njFQO66g     4.0"
      ]
     },
     "execution_count": 195,
     "metadata": {},
     "output_type": "execute_result"
    }
   ],
   "source": [
    "# Place testset into a dataframe\n",
    "testset_df = pd.DataFrame(columns=['uid', 'iid', 'rating'])\n",
    "i = 0\n",
    "for (uid, iid, rating) in testset:\n",
    "    testset_df.loc[i] = [uid, iid, rating]\n",
    "    i = i+1\n",
    "\n",
    "testset_df.head(2)"
   ]
  },
  {
   "cell_type": "code",
   "execution_count": 218,
   "metadata": {},
   "outputs": [],
   "source": [
    "# Convert Surprise inner ids into raw ids\n",
    "trainset_df['iid'] = trainset_df.apply(inner_to_raw_iid, axis=1)\n",
    "trainset_df['uid'] = trainset_df.apply(inner_to_raw_uid, axis=1)"
   ]
  },
  {
   "cell_type": "code",
   "execution_count": 222,
   "metadata": {},
   "outputs": [
    {
     "data": {
      "text/html": [
       "<div>\n",
       "<style scoped>\n",
       "    .dataframe tbody tr th:only-of-type {\n",
       "        vertical-align: middle;\n",
       "    }\n",
       "\n",
       "    .dataframe tbody tr th {\n",
       "        vertical-align: top;\n",
       "    }\n",
       "\n",
       "    .dataframe thead th {\n",
       "        text-align: right;\n",
       "    }\n",
       "</style>\n",
       "<table border=\"1\" class=\"dataframe\">\n",
       "  <thead>\n",
       "    <tr style=\"text-align: right;\">\n",
       "      <th></th>\n",
       "      <th>uid</th>\n",
       "      <th>iid</th>\n",
       "      <th>rating</th>\n",
       "    </tr>\n",
       "  </thead>\n",
       "  <tbody>\n",
       "    <tr>\n",
       "      <th>0</th>\n",
       "      <td>mNjK_H5Z-XVucUOFPEZJXg</td>\n",
       "      <td>VHaSjiRqAjrcIFpgG9VUww</td>\n",
       "      <td>5.0</td>\n",
       "    </tr>\n",
       "    <tr>\n",
       "      <th>1</th>\n",
       "      <td>mNjK_H5Z-XVucUOFPEZJXg</td>\n",
       "      <td>vodVvMALuQPScQJpLhfcyg</td>\n",
       "      <td>5.0</td>\n",
       "    </tr>\n",
       "    <tr>\n",
       "      <th>2</th>\n",
       "      <td>mNjK_H5Z-XVucUOFPEZJXg</td>\n",
       "      <td>qW-JrBmarQFijWWiN0xoTg</td>\n",
       "      <td>5.0</td>\n",
       "    </tr>\n",
       "    <tr>\n",
       "      <th>3</th>\n",
       "      <td>mNjK_H5Z-XVucUOFPEZJXg</td>\n",
       "      <td>GiTv0gFXtYFQAzCXnPvepQ</td>\n",
       "      <td>5.0</td>\n",
       "    </tr>\n",
       "    <tr>\n",
       "      <th>4</th>\n",
       "      <td>mNjK_H5Z-XVucUOFPEZJXg</td>\n",
       "      <td>NMw6zTXoZDEzNchVIfL1pQ</td>\n",
       "      <td>5.0</td>\n",
       "    </tr>\n",
       "  </tbody>\n",
       "</table>\n",
       "</div>"
      ],
      "text/plain": [
       "                      uid                     iid  rating\n",
       "0  mNjK_H5Z-XVucUOFPEZJXg  VHaSjiRqAjrcIFpgG9VUww     5.0\n",
       "1  mNjK_H5Z-XVucUOFPEZJXg  vodVvMALuQPScQJpLhfcyg     5.0\n",
       "2  mNjK_H5Z-XVucUOFPEZJXg  qW-JrBmarQFijWWiN0xoTg     5.0\n",
       "3  mNjK_H5Z-XVucUOFPEZJXg  GiTv0gFXtYFQAzCXnPvepQ     5.0\n",
       "4  mNjK_H5Z-XVucUOFPEZJXg  NMw6zTXoZDEzNchVIfL1pQ     5.0"
      ]
     },
     "execution_count": 222,
     "metadata": {},
     "output_type": "execute_result"
    }
   ],
   "source": [
    "trainset_df.head()"
   ]
  },
  {
   "cell_type": "code",
   "execution_count": 224,
   "metadata": {},
   "outputs": [
    {
     "data": {
      "text/plain": [
       "16164"
      ]
     },
     "execution_count": 224,
     "metadata": {},
     "output_type": "execute_result"
    }
   ],
   "source": [
    "# Number of users that are in train and not test\n",
    "len(np.setdiff1d(testset_df['uid'].unique(), trainset_df['uid'].unique()))"
   ]
  },
  {
   "cell_type": "code",
   "execution_count": 225,
   "metadata": {},
   "outputs": [
    {
     "data": {
      "text/plain": [
       "0"
      ]
     },
     "execution_count": 225,
     "metadata": {},
     "output_type": "execute_result"
    }
   ],
   "source": [
    "# Number of restaurants that are in train and not test\n",
    "len(np.setdiff1d(testset_df['iid'].unique(), trainset_df['iid'].unique()))"
   ]
  },
  {
   "cell_type": "code",
   "execution_count": 196,
   "metadata": {},
   "outputs": [
    {
     "name": "stdout",
     "output_type": "stream",
     "text": [
      "MAE:  1.4292\n",
      "1.4291800047975534\n",
      "MSE: 3.2390\n",
      "3.2389547679517454\n",
      "RMSE: 1.7997\n",
      "1.7997096343443142\n"
     ]
    }
   ],
   "source": [
    "# Random ratings based on distribution of the training set\n",
    "normal_predictor = NormalPredictor()\n",
    "normal_predictor.fit(trainset)\n",
    "predictions = normal_predictor.test(testset)\n",
    "print(accuracy.mae(predictions))\n",
    "print(accuracy.mse(predictions))\n",
    "print(accuracy.rmse(predictions))"
   ]
  },
  {
   "cell_type": "code",
   "execution_count": 197,
   "metadata": {},
   "outputs": [
    {
     "name": "stdout",
     "output_type": "stream",
     "text": [
      "Estimating biases using als...\n",
      "MAE:  1.0041\n",
      "1.004092141115835\n",
      "MSE: 1.5273\n",
      "1.5273016906592574\n",
      "RMSE: 1.2358\n",
      "1.2358404794548759\n"
     ]
    }
   ],
   "source": [
    "# Baseline ratings\n",
    "baseline_only = BaselineOnly()\n",
    "baseline_only.fit(trainset)\n",
    "predictions = baseline_only.test(testset)\n",
    "print(accuracy.mae(predictions))\n",
    "print(accuracy.mse(predictions))\n",
    "print(accuracy.rmse(predictions))"
   ]
  },
  {
   "cell_type": "code",
   "execution_count": 200,
   "metadata": {},
   "outputs": [
    {
     "name": "stdout",
     "output_type": "stream",
     "text": [
      "MAE:  1.0003\n",
      "1.0003392916058484\n",
      "MSE: 1.5367\n",
      "1.5367496847148943\n",
      "RMSE: 1.2397\n",
      "1.2396570835174114\n"
     ]
    }
   ],
   "source": [
    "# Funk SVD (defaults)\n",
    "svd = SVD()\n",
    "svd.fit(trainset)\n",
    "predictions = svd.test(testset)\n",
    "print(accuracy.mae(predictions))\n",
    "print(accuracy.mse(predictions))\n",
    "print(accuracy.rmse(predictions))"
   ]
  },
  {
   "cell_type": "code",
   "execution_count": 226,
   "metadata": {},
   "outputs": [
    {
     "name": "stdout",
     "output_type": "stream",
     "text": [
      "MAE:  1.1163\n",
      "1.116339467275939\n",
      "MSE: 1.9928\n",
      "1.9928192166333734\n",
      "RMSE: 1.4117\n",
      "1.4116724891536894\n"
     ]
    }
   ],
   "source": [
    "# NMF (defaults)\n",
    "nmf = NMF()\n",
    "nmf.fit(trainset)\n",
    "predictions = nmf.test(testset)\n",
    "print(accuracy.mae(predictions))\n",
    "print(accuracy.mse(predictions))\n",
    "print(accuracy.rmse(predictions))"
   ]
  },
  {
   "cell_type": "code",
   "execution_count": 228,
   "metadata": {},
   "outputs": [
    {
     "data": {
      "text/plain": [
       "xDl9ZF3SckkZde_48W6WeA    435\n",
       "hWDybu_KvYLSdEFzGrniTw    423\n",
       "Ry1O_KXZHGRI8g5zBR3IcQ    395\n",
       "qUL3CdRRF1vedNvaq06rIA    365\n",
       "oIxsWOWytMmV4bf_ffo01w    355\n",
       "                         ... \n",
       "LVucHk3Tu1S7CJdgAW7B_w      1\n",
       "3nDFLgsjs_QIEpnSmL6Hog      1\n",
       "FkD-nunEpZHQQnC0zwxFdA      1\n",
       "MYDDwAl8fQHfECeecYXaLA      1\n",
       "oPVZJ5CpUrDbgwcDglrRTg      1\n",
       "Name: user_id, Length: 78494, dtype: int64"
      ]
     },
     "execution_count": 228,
     "metadata": {},
     "output_type": "execute_result"
    }
   ],
   "source": [
    "utility['user_id'].value_counts()"
   ]
  },
  {
   "cell_type": "code",
   "execution_count": 233,
   "metadata": {},
   "outputs": [],
   "source": [
    "# Trim utility matrix to users, restaurants with at least 3 reviews\n",
    "utility_3 = utility[utility['user_id'].map(utility['user_id']\n",
    "                                           .value_counts()) >= 3]\n",
    "utility_3 = utility_3[utility_3['business_id'].map(utility_3['business_id']\n",
    "                                                   .value_counts()) >= 3]"
   ]
  },
  {
   "cell_type": "code",
   "execution_count": 264,
   "metadata": {},
   "outputs": [
    {
     "data": {
      "text/plain": [
       "(146135, 3)"
      ]
     },
     "execution_count": 264,
     "metadata": {},
     "output_type": "execute_result"
    }
   ],
   "source": [
    "utility_3.shape"
   ]
  },
  {
   "cell_type": "code",
   "execution_count": 265,
   "metadata": {},
   "outputs": [
    {
     "data": {
      "text/plain": [
       "0.0045220782070890565"
      ]
     },
     "execution_count": 265,
     "metadata": {},
     "output_type": "execute_result"
    }
   ],
   "source": [
    "# Get updated density (roughly four times higher now)\n",
    "utility_users = len(utility_3['user_id'].unique())\n",
    "utility_businesses = len(utility_3['business_id'].unique())\n",
    "utility_reviews = utility_3.shape[0]\n",
    "utility_reviews / (utility_businesses * utility_users)"
   ]
  },
  {
   "cell_type": "code",
   "execution_count": 266,
   "metadata": {},
   "outputs": [
    {
     "name": "stdout",
     "output_type": "stream",
     "text": [
      "16718\n",
      "1933\n",
      "146135\n"
     ]
    }
   ],
   "source": [
    "# Examine dimensions post-trimming\n",
    "print(utility_users)\n",
    "print(utility_businesses)\n",
    "print(utility_reviews)"
   ]
  },
  {
   "cell_type": "code",
   "execution_count": 268,
   "metadata": {},
   "outputs": [
    {
     "name": "stdout",
     "output_type": "stream",
     "text": [
      "78494\n",
      "2032\n",
      "220241\n"
     ]
    }
   ],
   "source": [
    "# Dimensions pre-trimming for comparison\n",
    "print(unique_users)\n",
    "print(unique_businesses)\n",
    "print(total_reviews)"
   ]
  },
  {
   "cell_type": "code",
   "execution_count": 272,
   "metadata": {},
   "outputs": [
    {
     "data": {
      "text/html": [
       "<div>\n",
       "<style scoped>\n",
       "    .dataframe tbody tr th:only-of-type {\n",
       "        vertical-align: middle;\n",
       "    }\n",
       "\n",
       "    .dataframe tbody tr th {\n",
       "        vertical-align: top;\n",
       "    }\n",
       "\n",
       "    .dataframe thead th {\n",
       "        text-align: right;\n",
       "    }\n",
       "</style>\n",
       "<table border=\"1\" class=\"dataframe\">\n",
       "  <thead>\n",
       "    <tr style=\"text-align: right;\">\n",
       "      <th></th>\n",
       "      <th>ratings</th>\n",
       "      <th>count</th>\n",
       "    </tr>\n",
       "  </thead>\n",
       "  <tbody>\n",
       "    <tr>\n",
       "      <th>0</th>\n",
       "      <td>1</td>\n",
       "      <td>42</td>\n",
       "    </tr>\n",
       "    <tr>\n",
       "      <th>1</th>\n",
       "      <td>2</td>\n",
       "      <td>398</td>\n",
       "    </tr>\n",
       "    <tr>\n",
       "      <th>2</th>\n",
       "      <td>3</td>\n",
       "      <td>5320</td>\n",
       "    </tr>\n",
       "    <tr>\n",
       "      <th>3</th>\n",
       "      <td>4</td>\n",
       "      <td>2839</td>\n",
       "    </tr>\n",
       "    <tr>\n",
       "      <th>4</th>\n",
       "      <td>5</td>\n",
       "      <td>1811</td>\n",
       "    </tr>\n",
       "    <tr>\n",
       "      <th>5</th>\n",
       "      <td>6</td>\n",
       "      <td>1184</td>\n",
       "    </tr>\n",
       "    <tr>\n",
       "      <th>6</th>\n",
       "      <td>7</td>\n",
       "      <td>806</td>\n",
       "    </tr>\n",
       "    <tr>\n",
       "      <th>7</th>\n",
       "      <td>8</td>\n",
       "      <td>654</td>\n",
       "    </tr>\n",
       "    <tr>\n",
       "      <th>8</th>\n",
       "      <td>9</td>\n",
       "      <td>490</td>\n",
       "    </tr>\n",
       "    <tr>\n",
       "      <th>9</th>\n",
       "      <td>10</td>\n",
       "      <td>388</td>\n",
       "    </tr>\n",
       "    <tr>\n",
       "      <th>10</th>\n",
       "      <td>11</td>\n",
       "      <td>322</td>\n",
       "    </tr>\n",
       "    <tr>\n",
       "      <th>11</th>\n",
       "      <td>12</td>\n",
       "      <td>246</td>\n",
       "    </tr>\n",
       "    <tr>\n",
       "      <th>12</th>\n",
       "      <td>13</td>\n",
       "      <td>227</td>\n",
       "    </tr>\n",
       "    <tr>\n",
       "      <th>13</th>\n",
       "      <td>14</td>\n",
       "      <td>206</td>\n",
       "    </tr>\n",
       "    <tr>\n",
       "      <th>14</th>\n",
       "      <td>15</td>\n",
       "      <td>149</td>\n",
       "    </tr>\n",
       "    <tr>\n",
       "      <th>15</th>\n",
       "      <td>16</td>\n",
       "      <td>121</td>\n",
       "    </tr>\n",
       "    <tr>\n",
       "      <th>16</th>\n",
       "      <td>17</td>\n",
       "      <td>115</td>\n",
       "    </tr>\n",
       "    <tr>\n",
       "      <th>17</th>\n",
       "      <td>18</td>\n",
       "      <td>80</td>\n",
       "    </tr>\n",
       "    <tr>\n",
       "      <th>18</th>\n",
       "      <td>19</td>\n",
       "      <td>98</td>\n",
       "    </tr>\n",
       "    <tr>\n",
       "      <th>19</th>\n",
       "      <td>20</td>\n",
       "      <td>86</td>\n",
       "    </tr>\n",
       "    <tr>\n",
       "      <th>20</th>\n",
       "      <td>21</td>\n",
       "      <td>73</td>\n",
       "    </tr>\n",
       "    <tr>\n",
       "      <th>21</th>\n",
       "      <td>22</td>\n",
       "      <td>66</td>\n",
       "    </tr>\n",
       "    <tr>\n",
       "      <th>22</th>\n",
       "      <td>23</td>\n",
       "      <td>62</td>\n",
       "    </tr>\n",
       "    <tr>\n",
       "      <th>23</th>\n",
       "      <td>24</td>\n",
       "      <td>65</td>\n",
       "    </tr>\n",
       "    <tr>\n",
       "      <th>24</th>\n",
       "      <td>25</td>\n",
       "      <td>34</td>\n",
       "    </tr>\n",
       "    <tr>\n",
       "      <th>25</th>\n",
       "      <td>26</td>\n",
       "      <td>34</td>\n",
       "    </tr>\n",
       "    <tr>\n",
       "      <th>26</th>\n",
       "      <td>27</td>\n",
       "      <td>29</td>\n",
       "    </tr>\n",
       "    <tr>\n",
       "      <th>27</th>\n",
       "      <td>28</td>\n",
       "      <td>43</td>\n",
       "    </tr>\n",
       "    <tr>\n",
       "      <th>28</th>\n",
       "      <td>29</td>\n",
       "      <td>34</td>\n",
       "    </tr>\n",
       "    <tr>\n",
       "      <th>29</th>\n",
       "      <td>30</td>\n",
       "      <td>29</td>\n",
       "    </tr>\n",
       "    <tr>\n",
       "      <th>30</th>\n",
       "      <td>31</td>\n",
       "      <td>28</td>\n",
       "    </tr>\n",
       "    <tr>\n",
       "      <th>31</th>\n",
       "      <td>32</td>\n",
       "      <td>32</td>\n",
       "    </tr>\n",
       "    <tr>\n",
       "      <th>32</th>\n",
       "      <td>33</td>\n",
       "      <td>35</td>\n",
       "    </tr>\n",
       "    <tr>\n",
       "      <th>33</th>\n",
       "      <td>34</td>\n",
       "      <td>24</td>\n",
       "    </tr>\n",
       "    <tr>\n",
       "      <th>34</th>\n",
       "      <td>35</td>\n",
       "      <td>23</td>\n",
       "    </tr>\n",
       "    <tr>\n",
       "      <th>35</th>\n",
       "      <td>36</td>\n",
       "      <td>24</td>\n",
       "    </tr>\n",
       "    <tr>\n",
       "      <th>36</th>\n",
       "      <td>37</td>\n",
       "      <td>24</td>\n",
       "    </tr>\n",
       "    <tr>\n",
       "      <th>37</th>\n",
       "      <td>38</td>\n",
       "      <td>31</td>\n",
       "    </tr>\n",
       "    <tr>\n",
       "      <th>38</th>\n",
       "      <td>39</td>\n",
       "      <td>11</td>\n",
       "    </tr>\n",
       "    <tr>\n",
       "      <th>39</th>\n",
       "      <td>40</td>\n",
       "      <td>12</td>\n",
       "    </tr>\n",
       "    <tr>\n",
       "      <th>40</th>\n",
       "      <td>41</td>\n",
       "      <td>12</td>\n",
       "    </tr>\n",
       "    <tr>\n",
       "      <th>41</th>\n",
       "      <td>42</td>\n",
       "      <td>15</td>\n",
       "    </tr>\n",
       "    <tr>\n",
       "      <th>42</th>\n",
       "      <td>43</td>\n",
       "      <td>11</td>\n",
       "    </tr>\n",
       "    <tr>\n",
       "      <th>43</th>\n",
       "      <td>44</td>\n",
       "      <td>15</td>\n",
       "    </tr>\n",
       "    <tr>\n",
       "      <th>44</th>\n",
       "      <td>45</td>\n",
       "      <td>10</td>\n",
       "    </tr>\n",
       "    <tr>\n",
       "      <th>45</th>\n",
       "      <td>46</td>\n",
       "      <td>12</td>\n",
       "    </tr>\n",
       "    <tr>\n",
       "      <th>46</th>\n",
       "      <td>47</td>\n",
       "      <td>9</td>\n",
       "    </tr>\n",
       "    <tr>\n",
       "      <th>47</th>\n",
       "      <td>48</td>\n",
       "      <td>10</td>\n",
       "    </tr>\n",
       "    <tr>\n",
       "      <th>48</th>\n",
       "      <td>49</td>\n",
       "      <td>14</td>\n",
       "    </tr>\n",
       "    <tr>\n",
       "      <th>49</th>\n",
       "      <td>50</td>\n",
       "      <td>14</td>\n",
       "    </tr>\n",
       "  </tbody>\n",
       "</table>\n",
       "</div>"
      ],
      "text/plain": [
       "    ratings  count\n",
       "0         1     42\n",
       "1         2    398\n",
       "2         3   5320\n",
       "3         4   2839\n",
       "4         5   1811\n",
       "5         6   1184\n",
       "6         7    806\n",
       "7         8    654\n",
       "8         9    490\n",
       "9        10    388\n",
       "10       11    322\n",
       "11       12    246\n",
       "12       13    227\n",
       "13       14    206\n",
       "14       15    149\n",
       "15       16    121\n",
       "16       17    115\n",
       "17       18     80\n",
       "18       19     98\n",
       "19       20     86\n",
       "20       21     73\n",
       "21       22     66\n",
       "22       23     62\n",
       "23       24     65\n",
       "24       25     34\n",
       "25       26     34\n",
       "26       27     29\n",
       "27       28     43\n",
       "28       29     34\n",
       "29       30     29\n",
       "30       31     28\n",
       "31       32     32\n",
       "32       33     35\n",
       "33       34     24\n",
       "34       35     23\n",
       "35       36     24\n",
       "36       37     24\n",
       "37       38     31\n",
       "38       39     11\n",
       "39       40     12\n",
       "40       41     12\n",
       "41       42     15\n",
       "42       43     11\n",
       "43       44     15\n",
       "44       45     10\n",
       "45       46     12\n",
       "46       47      9\n",
       "47       48     10\n",
       "48       49     14\n",
       "49       50     14"
      ]
     },
     "execution_count": 272,
     "metadata": {},
     "output_type": "execute_result"
    }
   ],
   "source": [
    "# Create a dataframe of review counts by user\n",
    "utility_num_of_ratings = []\n",
    "utility_num_of_reviews = []\n",
    "for num in range(1, 51):\n",
    "    utility_num_of_ratings.append(num)\n",
    "    utility_num_of_reviews.append(\n",
    "        utility_3_user_ratings[utility_3_user_ratings.values == num].count())\n",
    "d_3 = {'ratings': utility_num_of_ratings, 'count': utility_num_of_reviews}\n",
    "num_of_utility_3 = pd.DataFrame(data=d_3)\n",
    "num_of_utility_3.head(50)"
   ]
  },
  {
   "cell_type": "code",
   "execution_count": 273,
   "metadata": {},
   "outputs": [
    {
     "data": {
      "text/plain": [
       "<matplotlib.axes._subplots.AxesSubplot at 0x7f455ddb1a90>"
      ]
     },
     "execution_count": 273,
     "metadata": {},
     "output_type": "execute_result"
    },
    {
     "data": {
      "image/png": "[encoded data removed]",
      "text/plain": [
       "<Figure size 432x288 with 1 Axes>"
      ]
     },
     "metadata": {},
     "output_type": "display_data"
    }
   ],
   "source": [
    "utility_3['review_stars'].hist()"
   ]
  },
  {
   "cell_type": "code",
   "execution_count": 42,
   "metadata": {
    "ExecuteTime": {
     "end_time": "2020-06-09T19:06:45.107984Z",
     "start_time": "2020-06-09T19:06:44.182510Z"
    }
   },
   "outputs": [
    {
     "data": {
      "image/png": "[encoded data removed]",
      "text/plain": [
       "<Figure size 1152x576 with 2 Axes>"
      ]
     },
     "metadata": {},
     "output_type": "display_data"
    }
   ],
   "source": [
    "# Examining review distributions on the same scale\n",
    "utility_user_ratings = utility_3.groupby('user_id').count()['business_id']\n",
    "utility_rest_ratings = utility_3.groupby('business_id').count()['review_stars']\n",
    "fig,ax = plt.subplots(1,2,figsize=(16,8),sharey=True,sharex=True)\n",
    "ax[0].hist(utility_user_ratings,label='User Rating Counts', color='b')\n",
    "ax[1].hist(utility_rest_ratings,label='Restaurant Rating Counts', color='r')\n",
    "ax[0].legend()\n",
    "ax[1].legend();"
   ]
  },
  {
   "cell_type": "code",
   "execution_count": 276,
   "metadata": {},
   "outputs": [
    {
     "data": {
      "text/plain": [
       "(435, 1257)"
      ]
     },
     "execution_count": 276,
     "metadata": {},
     "output_type": "execute_result"
    }
   ],
   "source": [
    "# Max values for reviews by user and restaurant\n",
    "utility_user_ratings.max(), utility_rest_ratings.max()"
   ]
  },
  {
   "cell_type": "code",
   "execution_count": 277,
   "metadata": {},
   "outputs": [
    {
     "data": {
      "text/plain": [
       "(2, 3)"
      ]
     },
     "execution_count": 277,
     "metadata": {},
     "output_type": "execute_result"
    }
   ],
   "source": [
    "# Minimum values for reviews by user and restaurant\n",
    "utility_user_ratings.min(), utility_rest_ratings.min()"
   ]
  },
  {
   "cell_type": "code",
   "execution_count": 278,
   "metadata": {},
   "outputs": [],
   "source": [
    "# Prepare data for models with adjusted utility matrix\n",
    "reader = Reader(rating_scale=(1,5))\n",
    "data_3 = Dataset.load_from_df(utility_3, reader)\n",
    "trainset_3, testset_3 = train_test_split(data_3, test_size=0.3)"
   ]
  },
  {
   "cell_type": "code",
   "execution_count": 279,
   "metadata": {},
   "outputs": [],
   "source": [
    "def inner_to_raw_iid_3(row):\n",
    "    '''\n",
    "    Returns the raw item id associated with a given Surprise inner id.\n",
    "    Slightly adjusted from previous function for new trainset.\n",
    "    \n",
    "    Parameters:\n",
    "    row: corresponds to a row in a dataframe\n",
    "    \n",
    "    Returns:\n",
    "    output (float): raw item id\n",
    "    '''\n",
    "    output = trainset_3.to_raw_iid(row['iid'])\n",
    "    return output\n",
    "\n",
    "def inner_to_raw_uid_3(row):\n",
    "    '''\n",
    "    Returns the raw user id associated with a given Surprise inner id\n",
    "    Slightly adjusted from previous function for new trainset.\n",
    "    \n",
    "    Parameters:\n",
    "    row: corresponds to a row in a dataframe\n",
    "    \n",
    "    Returns:\n",
    "    output (float): raw user id\n",
    "    '''\n",
    "    output = trainset_3.to_raw_uid(row['uid'])\n",
    "    return output"
   ]
  },
  {
   "cell_type": "code",
   "execution_count": 280,
   "metadata": {},
   "outputs": [],
   "source": [
    "# Place trainset/testset into dataframes\n",
    "iterator_3 = trainset_3.all_ratings()\n",
    "trainset_3_df = pd.DataFrame(columns=['uid', 'iid', 'rating'])\n",
    "i = 0\n",
    "for (uid, iid, rating) in iterator_3:\n",
    "    trainset_3_df.loc[i] = [uid, iid, rating]\n",
    "    i = i+1\n",
    "\n",
    "testset_3_df = pd.DataFrame(columns=['uid', 'iid', 'rating'])\n",
    "i = 0\n",
    "for (uid, iid, rating) in testset_3:\n",
    "    testset_3_df.loc[i] = [uid, iid, rating]\n",
    "    i = i+1\n",
    "\n",
    "trainset_3_df['iid'] = trainset_3_df.apply(inner_to_raw_iid_3, axis=1)\n",
    "trainset_3_df['uid'] = trainset_3_df.apply(inner_to_raw_uid_3, axis=1)"
   ]
  },
  {
   "cell_type": "code",
   "execution_count": 281,
   "metadata": {},
   "outputs": [
    {
     "data": {
      "text/plain": [
       "182"
      ]
     },
     "execution_count": 281,
     "metadata": {},
     "output_type": "execute_result"
    }
   ],
   "source": [
    "# Number of users that are in train and not test\n",
    "len(np.setdiff1d(testset_3_df['uid'].unique(), trainset_3_df['uid'].unique()))"
   ]
  },
  {
   "cell_type": "code",
   "execution_count": 282,
   "metadata": {},
   "outputs": [
    {
     "data": {
      "text/plain": [
       "3"
      ]
     },
     "execution_count": 282,
     "metadata": {},
     "output_type": "execute_result"
    }
   ],
   "source": [
    "# Number of restaurants that are in train and not test\n",
    "len(np.setdiff1d(testset_3_df['iid'].unique(), trainset_3_df['iid'].unique()))"
   ]
  },
  {
   "cell_type": "code",
   "execution_count": 283,
   "metadata": {},
   "outputs": [
    {
     "name": "stdout",
     "output_type": "stream",
     "text": [
      "MAE:  1.3026\n",
      "1.302621690382496\n",
      "MSE: 2.7178\n",
      "2.7178331288828717\n",
      "RMSE: 1.6486\n",
      "1.648585190059304\n"
     ]
    }
   ],
   "source": [
    "# Random ratings based on distribution of the training set\n",
    "normal_predictor = NormalPredictor()\n",
    "normal_predictor.fit(trainset_3)\n",
    "predictions = normal_predictor.test(testset_3)\n",
    "print(accuracy.mae(predictions))\n",
    "print(accuracy.mse(predictions))\n",
    "print(accuracy.rmse(predictions))"
   ]
  },
  {
   "cell_type": "code",
   "execution_count": 284,
   "metadata": {},
   "outputs": [
    {
     "name": "stdout",
     "output_type": "stream",
     "text": [
      "Estimating biases using als...\n",
      "MAE:  0.8990\n",
      "0.8990336708056854\n",
      "MSE: 1.2717\n",
      "1.2716683608260584\n",
      "RMSE: 1.1277\n",
      "1.127682739437852\n"
     ]
    }
   ],
   "source": [
    "# Baseline ratings\n",
    "baseline_only = BaselineOnly()\n",
    "baseline_only.fit(trainset_3)\n",
    "predictions = baseline_only.test(testset_3)\n",
    "print(accuracy.mae(predictions))\n",
    "print(accuracy.mse(predictions))\n",
    "print(accuracy.rmse(predictions))"
   ]
  },
  {
   "cell_type": "code",
   "execution_count": 285,
   "metadata": {},
   "outputs": [
    {
     "name": "stdout",
     "output_type": "stream",
     "text": [
      "MAE:  0.9741\n",
      "0.974143833613901\n",
      "MSE: 1.6250\n",
      "1.6249758311084825\n",
      "RMSE: 1.2747\n",
      "1.2747453985437573\n"
     ]
    }
   ],
   "source": [
    "# NMF (defaults)\n",
    "nmf = NMF()\n",
    "nmf.fit(trainset_3)\n",
    "predictions = nmf.test(testset_3)\n",
    "print(accuracy.mae(predictions))\n",
    "print(accuracy.mse(predictions))\n",
    "print(accuracy.rmse(predictions))"
   ]
  },
  {
   "cell_type": "code",
   "execution_count": 286,
   "metadata": {},
   "outputs": [
    {
     "name": "stdout",
     "output_type": "stream",
     "text": [
      "MAE:  0.8950\n",
      "0.8949547190708472\n",
      "MSE: 1.2738\n",
      "1.2738339931509703\n",
      "RMSE: 1.1286\n",
      "1.1286425444537214\n"
     ]
    }
   ],
   "source": [
    "# Funk SVD (defaults)\n",
    "svd = SVD()\n",
    "svd.fit(trainset_3)\n",
    "predictions = svd.test(testset_3)\n",
    "print(accuracy.mae(predictions))\n",
    "print(accuracy.mse(predictions))\n",
    "print(accuracy.rmse(predictions))"
   ]
  },
  {
   "cell_type": "code",
   "execution_count": 289,
   "metadata": {},
   "outputs": [
    {
     "name": "stdout",
     "output_type": "stream",
     "text": [
      "MAE:  0.8921\n",
      "0.8921401913610161\n",
      "MSE: 1.2759\n",
      "1.2759123035813262\n",
      "RMSE: 1.1296\n",
      "1.1295628816410914\n"
     ]
    }
   ],
   "source": [
    "# SVD++ (defaults)\n",
    "svdpp = SVDpp()\n",
    "svdpp.fit(trainset_3)\n",
    "predictions = svdpp.test(testset_3)\n",
    "print(accuracy.mae(predictions))\n",
    "print(accuracy.mse(predictions))\n",
    "print(accuracy.rmse(predictions))"
   ]
  },
  {
   "cell_type": "code",
   "execution_count": 291,
   "metadata": {},
   "outputs": [
    {
     "name": "stdout",
     "output_type": "stream",
     "text": [
      "Computing the msd similarity matrix...\n",
      "Done computing similarity matrix.\n",
      "MAE:  0.9372\n",
      "0.9371977523338367\n",
      "MSE: 1.4651\n",
      "1.4650523065011456\n",
      "RMSE: 1.2104\n",
      "1.2103934511146142\n"
     ]
    }
   ],
   "source": [
    "# KNN (defaults)\n",
    "knnbasic = KNNBasic()\n",
    "knnbasic.fit(trainset_3)\n",
    "predictions = knnbasic.test(testset_3)\n",
    "print(accuracy.mae(predictions))\n",
    "print(accuracy.mse(predictions))\n",
    "print(accuracy.rmse(predictions))"
   ]
  },
  {
   "cell_type": "code",
   "execution_count": 292,
   "metadata": {},
   "outputs": [
    {
     "name": "stdout",
     "output_type": "stream",
     "text": [
      "Computing the msd similarity matrix...\n",
      "Done computing similarity matrix.\n",
      "MAE:  0.9219\n",
      "0.9219383573733426\n",
      "MSE: 1.5448\n",
      "1.5448227684292204\n",
      "RMSE: 1.2429\n",
      "1.2429089944276774\n"
     ]
    }
   ],
   "source": [
    "# KNN with means (defaults)\n",
    "knnwithmeans = KNNWithMeans()\n",
    "knnwithmeans.fit(trainset_3)\n",
    "predictions = knnwithmeans.test(testset_3)\n",
    "print(accuracy.mae(predictions))\n",
    "print(accuracy.mse(predictions))\n",
    "print(accuracy.rmse(predictions))"
   ]
  },
  {
   "cell_type": "code",
   "execution_count": 293,
   "metadata": {},
   "outputs": [
    {
     "name": "stdout",
     "output_type": "stream",
     "text": [
      "Computing the msd similarity matrix...\n",
      "Done computing similarity matrix.\n",
      "MAE:  0.9212\n",
      "0.9212119318702141\n",
      "MSE: 1.5639\n",
      "1.563934922607147\n",
      "RMSE: 1.2506\n",
      "1.2505738373271476\n"
     ]
    }
   ],
   "source": [
    "# KNN with z-score (defaults)\n",
    "knnwithzscore = KNNWithZScore()\n",
    "knnwithzscore.fit(trainset_3)\n",
    "predictions = knnwithzscore.test(testset_3)\n",
    "print(accuracy.mae(predictions))\n",
    "print(accuracy.mse(predictions))\n",
    "print(accuracy.rmse(predictions))"
   ]
  },
  {
   "cell_type": "code",
   "execution_count": 297,
   "metadata": {},
   "outputs": [],
   "source": [
    "# Run grid searches to find optimal SVD++ parameters\n",
    "param_grid = {'n_factors': [10, 20, 50],\n",
    "              'n_epochs': [20, 30, 40],\n",
    "              'lr_all': [0.002, 0.007, 0.01],\n",
    "              'reg_all': [0.01, 0.03, 0.05]}\n",
    "gs = GridSearchCV(algo_class=SVDpp,\n",
    "                  param_grid=param_grid,\n",
    "                  measures = ['rmse', 'mae'],\n",
    "                  cv=5,\n",
    "                  n_jobs=-1)\n",
    "gs.fit(data_3)"
   ]
  },
  {
   "cell_type": "code",
   "execution_count": 298,
   "metadata": {},
   "outputs": [
    {
     "data": {
      "text/plain": [
       "1.1146382266319168"
      ]
     },
     "execution_count": 298,
     "metadata": {},
     "output_type": "execute_result"
    }
   ],
   "source": [
    "gs.best_score['rmse']"
   ]
  },
  {
   "cell_type": "code",
   "execution_count": 299,
   "metadata": {},
   "outputs": [
    {
     "data": {
      "text/plain": [
       "{'n_factors': 10, 'n_epochs': 20, 'lr_all': 0.007, 'reg_all': 0.05}"
      ]
     },
     "execution_count": 299,
     "metadata": {},
     "output_type": "execute_result"
    }
   ],
   "source": [
    "gs.best_params['rmse']"
   ]
  },
  {
   "cell_type": "code",
   "execution_count": 306,
   "metadata": {},
   "outputs": [
    {
     "data": {
      "text/plain": [
       "0.8813579181475276"
      ]
     },
     "execution_count": 306,
     "metadata": {},
     "output_type": "execute_result"
    }
   ],
   "source": [
    "gs.best_score['mae']"
   ]
  },
  {
   "cell_type": "code",
   "execution_count": 308,
   "metadata": {},
   "outputs": [
    {
     "data": {
      "text/plain": [
       "{'n_factors': 10, 'n_epochs': 20, 'lr_all': 0.01, 'reg_all': 0.05}"
      ]
     },
     "execution_count": 308,
     "metadata": {},
     "output_type": "execute_result"
    }
   ],
   "source": [
    "gs.best_params['mae']"
   ]
  },
  {
   "cell_type": "code",
   "execution_count": 301,
   "metadata": {},
   "outputs": [],
   "source": [
    "param_grid2 = {'n_factors': [10, 12, 14, 16, 20],\n",
    "               'n_epochs': [15, 20, 25, 30],\n",
    "               'lr_all': [0.006, 0.007, 0.008],\n",
    "               'reg_all': [0.04, 0.05, 0.06, 0.07]}\n",
    "gs2 = GridSearchCV(algo_class=SVDpp,\n",
    "                   param_grid=param_grid2,\n",
    "                   measures = ['rmse', 'mae'],\n",
    "                   cv=5,\n",
    "                   n_jobs=-1)\n",
    "gs2.fit(data_3)"
   ]
  },
  {
   "cell_type": "code",
   "execution_count": 302,
   "metadata": {},
   "outputs": [
    {
     "data": {
      "text/plain": [
       "{'n_factors': 14, 'n_epochs': 25, 'lr_all': 0.006, 'reg_all': 0.07}"
      ]
     },
     "execution_count": 302,
     "metadata": {},
     "output_type": "execute_result"
    }
   ],
   "source": [
    "gs2.best_params['rmse']"
   ]
  },
  {
   "cell_type": "code",
   "execution_count": 304,
   "metadata": {},
   "outputs": [
    {
     "data": {
      "text/plain": [
       "1.1129149929184898"
      ]
     },
     "execution_count": 304,
     "metadata": {},
     "output_type": "execute_result"
    }
   ],
   "source": [
    "gs2.best_score['rmse']"
   ]
  },
  {
   "cell_type": "code",
   "execution_count": 307,
   "metadata": {},
   "outputs": [
    {
     "data": {
      "text/plain": [
       "{'n_factors': 10, 'n_epochs': 25, 'lr_all': 0.008, 'reg_all': 0.07}"
      ]
     },
     "execution_count": 307,
     "metadata": {},
     "output_type": "execute_result"
    }
   ],
   "source": [
    "gs2.best_params['mae']"
   ]
  },
  {
   "cell_type": "code",
   "execution_count": 305,
   "metadata": {},
   "outputs": [
    {
     "data": {
      "text/plain": [
       "0.8785639155118281"
      ]
     },
     "execution_count": 305,
     "metadata": {},
     "output_type": "execute_result"
    }
   ],
   "source": [
    "gs2.best_score['mae']"
   ]
  },
  {
   "cell_type": "code",
   "execution_count": 309,
   "metadata": {},
   "outputs": [],
   "source": [
    "param_grid3 = {'n_factors': [20],\n",
    "               'n_epochs': [20, 25],\n",
    "               'lr_all': [0.004, 0.006, 0.007, 0.009],\n",
    "               'reg_all': [0.02, 0.04, 0.05, 0.06, 0.08]}\n",
    "gs3 = GridSearchCV(algo_class=SVDpp,\n",
    "                   param_grid=param_grid3,\n",
    "                   measures = ['rmse', 'mae'],\n",
    "                   cv=5,\n",
    "                   n_jobs=-1)\n",
    "gs3.fit(data_3)"
   ]
  },
  {
   "cell_type": "code",
   "execution_count": 310,
   "metadata": {},
   "outputs": [
    {
     "data": {
      "text/plain": [
       "1.113183782745672"
      ]
     },
     "execution_count": 310,
     "metadata": {},
     "output_type": "execute_result"
    }
   ],
   "source": [
    "gs3.best_score['rmse']"
   ]
  },
  {
   "cell_type": "code",
   "execution_count": 311,
   "metadata": {},
   "outputs": [
    {
     "data": {
      "text/plain": [
       "{'n_factors': 20, 'n_epochs': 25, 'lr_all': 0.006, 'reg_all': 0.08}"
      ]
     },
     "execution_count": 311,
     "metadata": {},
     "output_type": "execute_result"
    }
   ],
   "source": [
    "gs3.best_params['rmse']"
   ]
  },
  {
   "cell_type": "code",
   "execution_count": 328,
   "metadata": {},
   "outputs": [
    {
     "data": {
      "text/plain": [
       "{'n_factors': 20, 'n_epochs': 25, 'lr_all': 0.009, 'reg_all': 0.08}"
      ]
     },
     "execution_count": 328,
     "metadata": {},
     "output_type": "execute_result"
    }
   ],
   "source": [
    "gs3.best_params['mae']"
   ]
  },
  {
   "cell_type": "code",
   "execution_count": 313,
   "metadata": {},
   "outputs": [],
   "source": [
    "# Save utility matrix to text file in order to explore percentiles\n",
    "utility_3.to_csv('data/utility.txt', sep='\\t', header=False, index=False)"
   ]
  },
  {
   "cell_type": "code",
   "execution_count": 314,
   "metadata": {},
   "outputs": [],
   "source": [
    "# NOT MY CODE - ADAPTED FROM MANSOURY ET AL'S \"FLATTER IS BETTER\"\n",
    "# https://github.com/masoudmansoury/percentile/blob/master/percentile.py\n",
    "\n",
    "class Percentile:\n",
    "    def __init__(self):\n",
    "        # self.fold = 1\n",
    "\n",
    "        self.transformation_type = \"user\" # possible values: user and item\n",
    "        self.percentile_position = \"first\" # possible values: first, floormedian, ceilmedian, last, and zscore\n",
    "        self.percentile_smoothed = True # possible values: True and False\n",
    "        self.percentile_smoothedparam = 5 # a paramter related to smoothing. It's an integer value and will be applied when self.smoothed is True\n",
    "        self.input = \"data/utility.txt\"\n",
    "        self.output = \"data/percentile.txt\"\n",
    "        self.dictionary = {}\n",
    "        self.rating_scale = []\n",
    "\n",
    "    # creating user/item profile, it would be like <userid/itemid, [rate1, rate2, rate3, ...]>\n",
    "    def create_profile(self):\n",
    "        with open(self.input) as f:\n",
    "            for line in f:\n",
    "                data = line.split(\"\\t\")\n",
    "                if self.transformation_type is \"user\":\n",
    "                    per.dictionary.setdefault(data[0].rstrip(), []).append(data[2].rstrip())\n",
    "                elif self.transformation_type is \"item\":\n",
    "                    per.dictionary.setdefault(data[1].rstrip(), []).append(data[2].rstrip())\n",
    "\n",
    "    # percentile computation for first index\n",
    "    def compute_firstindex_percentile(self):\n",
    "        self.delete_outputfile()\n",
    "        out = open(self.output,\"w\")\n",
    "        with open(self.input) as f:\n",
    "            for line in f:\n",
    "                data = line.split(\"\\t\")\n",
    "                # sorting the values correspoding to the key e.g., ratings\n",
    "                i = 0\n",
    "                if self.transformation_type is \"item\":\n",
    "                    i = 1\n",
    "                values = sorted(map(float,list(per.dictionary.get(data[i].rstrip()))))\n",
    "                # find the index of the first occurrence of repeated numbers e.g., repeated ratings\n",
    "                position = values.index(float(data[2].rstrip())) + 1\n",
    "                # percentile computation\n",
    "                p = 0.0\n",
    "                if(self.percentile_smoothed):\n",
    "                    p = 100 * float(position + ((self.getRatePosition(float(data[2].rstrip())) -1 ) * self.percentile_smoothedparam)) / (len(values) + 1 + (len(self.rating_scale) * self.percentile_smoothedparam))\n",
    "                else:\n",
    "                    p = float(100 * position) / float(len(values) + 1)\n",
    "                out.write(data[0].rstrip() + '\\t' + data[1].rstrip() + '\\t' + str(p) + '\\n')\n",
    "\n",
    "        out.close()\n",
    "\n",
    "    # percentile computation for floor median index\n",
    "    def compute_floormedianindex_percentile(self):\n",
    "        self.delete_outputfile()\n",
    "        out = open(self.output,\"w\")\n",
    "        with open(self.input) as f:\n",
    "            for line in f:\n",
    "                data = line.split(\"\\t\")\n",
    "                # sorting the values correspoding to the key e.g., ratings\n",
    "                i = 0\n",
    "                if self.transformation_type is \"item\":\n",
    "                    i = 1\n",
    "                values = sorted(map(float,list(per.dictionary.get(data[i].rstrip()))))\n",
    "                # find the index of the floor median occurrence of repeated numbers e.g., repeated ratings\n",
    "                last = len(values) - 1 - values[::-1].index(float(data[2].rstrip())) + 1\n",
    "                first = values.index(float(data[2].rstrip())) + 1\n",
    "                position = int(math.floor(float(last+first))/2)\n",
    "                # percentile computation\n",
    "                p = 0.0\n",
    "                if(self.percentile_smoothed):\n",
    "                    p = 100 * float(position + ((self.getRatePosition(float(data[2].rstrip()))-1) * self.percentile_smoothedparam) + (int(math.floor(float(self.percentile_smoothedparam/2))))) / (len(values) + 1 + (len(self.rating_scale) * self.percentile_smoothedparam))\n",
    "                else:\n",
    "                    p = float(100 * position) / float(len(values) + 1)\n",
    "                out.write(data[0].rstrip() + '\\t' + data[1].rstrip() + '\\t' + str(p) + '\\n')\n",
    "\n",
    "        out.close()\n",
    "\n",
    "    # percentile computation for ceil median index\n",
    "    def compute_ceilmedianindex_percentile(self):\n",
    "        self.delete_outputfile()\n",
    "        out = open(self.output,\"w\")\n",
    "        with open(self.input) as f:\n",
    "            for line in f:\n",
    "                data = line.split(\"\\t\")\n",
    "                # sorting the values correspoding to the key e.g., ratings\n",
    "                i = 0\n",
    "                if self.transformation_type is \"item\":\n",
    "                    i = 1\n",
    "                values = sorted(map(float,list(per.dictionary.get(data[i].rstrip()))))\n",
    "                # find the index of the ceil median occurrence of repeated numbers e.g., repeated ratings\n",
    "                last = len(values) - 1 - values[::-1].index(float(data[2].rstrip())) + 2\n",
    "                first = values.index(float(data[2].rstrip())) + 1\n",
    "                position = int(math.ceil(float(last+first))/2)\n",
    "                # percentile computation\n",
    "                p = 0.0\n",
    "                if(self.percentile_smoothed):\n",
    "                    p = 100 * float(position + ((self.getRatePosition(float(data[2].rstrip()))-1) * self.percentile_smoothedparam) + (int(math.ceil(float(self.percentile_smoothedparam/2))))) / (len(values) + 1 + (len(self.rating_scale) * self.percentile_smoothedparam))\n",
    "                else:\n",
    "                    p = float(100 * position) / float(len(values) + 1)\n",
    "                out.write(data[0].rstrip() + '\\t' + data[1].rstrip() + '\\t' + str(p) + '\\n')\n",
    "\n",
    "        out.close()\n",
    "\n",
    "    # percentile computation for last index\n",
    "    def compute_lastindex_percentile(self):\n",
    "        self.delete_outputfile()\n",
    "        out = open(self.output,\"w\")\n",
    "        with open(self.input) as f:\n",
    "            for line in f:\n",
    "                data = line.split(\"\\t\")\n",
    "                # sorting the values correspoding to the key e.g., ratings\n",
    "                i = 0\n",
    "                if self.transformation_type is \"item\":\n",
    "                    i = 1\n",
    "                values = sorted(map(float,list(per.dictionary.get(data[i].rstrip()))))\n",
    "                # find the index of the last occurrence of repeated numbers e.g., repeated ratings\n",
    "                position = len(values) - 1 - values[::-1].index(float(data[2].rstrip())) + 1\n",
    "                # percentile computation\n",
    "                p = 0.0\n",
    "                if(self.percentile_smoothed):\n",
    "                    p = 100 * float(position + (self.getRatePosition(float(data[2].rstrip())) * self.percentile_smoothedparam)) / (len(values) + 1 + (len(self.rating_scale) * self.percentile_smoothedparam))\n",
    "                else:\n",
    "                    p = float(100 * position) / float(len(values) + 1)\n",
    "                out.write(data[0].rstrip() + '\\t' + data[1].rstrip() + '\\t' + str(p) + '\\n')\n",
    "\n",
    "        out.close()\n",
    "\n",
    "    def compute_zscore(self):\n",
    "        self.delete_outputfile()\n",
    "        out = open(self.output,\"w\")\n",
    "        with open(self.input) as f:\n",
    "            for line in f:\n",
    "                data = line.split(\"\\t\")\n",
    "                # sorting the values correspoding to the key e.g., ratings\n",
    "                i = 0\n",
    "                if self.transformation_type is \"item\":\n",
    "                    i = 1\n",
    "                values = sorted(map(float,list(per.dictionary.get(data[i].rstrip()))))\n",
    "                # compute mean of rating profile\n",
    "                mean = float(sum(values)) / max(len(values),1)\n",
    "                # compute standard deviation of rating profile\n",
    "                nominator = 0.0\n",
    "                for j in range(len(values)):\n",
    "                    nominator += math.pow(float(values[j]-mean),2)\n",
    "                std = math.sqrt(nominator/float(len(values)))\n",
    "                # zscore computation\n",
    "                z = 0.0\n",
    "                if(std != 0.0):\n",
    "                    z = float(float(data[2].rstrip())-mean)/std\n",
    "                out.write(data[0].rstrip() + '\\t' + data[1].rstrip() + '\\t' + str(z) + '\\n')\n",
    "\n",
    "        out.close()\n",
    "\n",
    "    def transform(self):\n",
    "        if(self.percentile_position is \"first\"):\n",
    "            self.compute_firstindex_percentile()\n",
    "        elif (self.percentile_position is \"floormedian\"):\n",
    "            self.compute_floormedianindex_percentile()\n",
    "        elif (self.percentile_position is \"ceilmedian\"):\n",
    "            self.compute_ceilmedianindex_percentile()\n",
    "        elif (self.percentile_position is \"last\"):\n",
    "            self.compute_lastindex_percentile()\n",
    "        elif (self.percentile_position is \"zscore\"):\n",
    "            self.compute_zscore()\n",
    "\n",
    "    # delete output file if exists\n",
    "    def delete_outputfile(self):\n",
    "        try:\n",
    "            if os.path.exists(self.output):\n",
    "                os.remove(self.output)\n",
    "        except OSError:\n",
    "            print(\"error\")\n",
    "            pass\n",
    "\n",
    "    def getRatePosition(self, rate):\n",
    "        for i in range(len(self.rating_scale)):\n",
    "            if rate == self.rating_scale[i]:\n",
    "                return i + 1\n",
    "        return 0\n",
    "\n",
    "    def create_ratingscale(self):\n",
    "        with open(self.input) as f:\n",
    "            for line in f:\n",
    "                rate = line.split(\"\\t\")[2]\n",
    "                if(float(rate) not in self.rating_scale):\n",
    "                    self.rating_scale.append(float(rate))\n",
    "        self.rating_scale.sort()"
   ]
  },
  {
   "cell_type": "code",
   "execution_count": 315,
   "metadata": {},
   "outputs": [],
   "source": [
    "# Convert utility matrix to percentile-based ratings\n",
    "per = Percentile()\n",
    "per.create_ratingscale()\n",
    "per.create_profile()\n",
    "per.transform()"
   ]
  },
  {
   "cell_type": "code",
   "execution_count": 322,
   "metadata": {},
   "outputs": [],
   "source": [
    "percentile_df = pd.read_csv('data/percentile.txt',\n",
    "                            sep='\\t',\n",
    "                            names=utility_3.columns.values)"
   ]
  },
  {
   "cell_type": "code",
   "execution_count": 324,
   "metadata": {},
   "outputs": [
    {
     "data": {
      "text/html": [
       "<div>\n",
       "<style scoped>\n",
       "    .dataframe tbody tr th:only-of-type {\n",
       "        vertical-align: middle;\n",
       "    }\n",
       "\n",
       "    .dataframe tbody tr th {\n",
       "        vertical-align: top;\n",
       "    }\n",
       "\n",
       "    .dataframe thead th {\n",
       "        text-align: right;\n",
       "    }\n",
       "</style>\n",
       "<table border=\"1\" class=\"dataframe\">\n",
       "  <thead>\n",
       "    <tr style=\"text-align: right;\">\n",
       "      <th></th>\n",
       "      <th>user_id</th>\n",
       "      <th>business_id</th>\n",
       "      <th>review_stars</th>\n",
       "    </tr>\n",
       "  </thead>\n",
       "  <tbody>\n",
       "    <tr>\n",
       "      <th>0</th>\n",
       "      <td>QEpNF4Hag6_W9Stc-1Frvg</td>\n",
       "      <td>R1jJQi2yR44D_2ileqr8kA</td>\n",
       "      <td>51.612903</td>\n",
       "    </tr>\n",
       "    <tr>\n",
       "      <th>1</th>\n",
       "      <td>QEpNF4Hag6_W9Stc-1Frvg</td>\n",
       "      <td>zrEmWr6ue5yfxnKr4E2_jg</td>\n",
       "      <td>70.967742</td>\n",
       "    </tr>\n",
       "    <tr>\n",
       "      <th>2</th>\n",
       "      <td>QEpNF4Hag6_W9Stc-1Frvg</td>\n",
       "      <td>DTJ9_6yKye0Ul2qG45vGKw</td>\n",
       "      <td>70.967742</td>\n",
       "    </tr>\n",
       "    <tr>\n",
       "      <th>3</th>\n",
       "      <td>QEpNF4Hag6_W9Stc-1Frvg</td>\n",
       "      <td>RMzjD_LpED02tGGafX0RBw</td>\n",
       "      <td>70.967742</td>\n",
       "    </tr>\n",
       "    <tr>\n",
       "      <th>4</th>\n",
       "      <td>QEpNF4Hag6_W9Stc-1Frvg</td>\n",
       "      <td>FGy4UJ1Qri_KruPZiPmWYQ</td>\n",
       "      <td>70.967742</td>\n",
       "    </tr>\n",
       "  </tbody>\n",
       "</table>\n",
       "</div>"
      ],
      "text/plain": [
       "                  user_id             business_id  review_stars\n",
       "0  QEpNF4Hag6_W9Stc-1Frvg  R1jJQi2yR44D_2ileqr8kA     51.612903\n",
       "1  QEpNF4Hag6_W9Stc-1Frvg  zrEmWr6ue5yfxnKr4E2_jg     70.967742\n",
       "2  QEpNF4Hag6_W9Stc-1Frvg  DTJ9_6yKye0Ul2qG45vGKw     70.967742\n",
       "3  QEpNF4Hag6_W9Stc-1Frvg  RMzjD_LpED02tGGafX0RBw     70.967742\n",
       "4  QEpNF4Hag6_W9Stc-1Frvg  FGy4UJ1Qri_KruPZiPmWYQ     70.967742"
      ]
     },
     "execution_count": 324,
     "metadata": {},
     "output_type": "execute_result"
    }
   ],
   "source": [
    "percentile_df.head()"
   ]
  },
  {
   "cell_type": "code",
   "execution_count": 325,
   "metadata": {},
   "outputs": [
    {
     "data": {
      "text/plain": [
       "(0.2169197396963124, 95.77464788732394)"
      ]
     },
     "execution_count": 325,
     "metadata": {},
     "output_type": "execute_result"
    }
   ],
   "source": [
    "percentile_df['review_stars'].min(), percentile_df['review_stars'].max()"
   ]
  },
  {
   "cell_type": "code",
   "execution_count": 327,
   "metadata": {},
   "outputs": [
    {
     "data": {
      "text/plain": [
       "<matplotlib.axes._subplots.AxesSubplot at 0x7f456c614610>"
      ]
     },
     "execution_count": 327,
     "metadata": {},
     "output_type": "execute_result"
    },
    {
     "data": {
      "image/png": "[encoded data removed]",
      "text/plain": [
       "<Figure size 432x288 with 1 Axes>"
      ]
     },
     "metadata": {},
     "output_type": "display_data"
    }
   ],
   "source": [
    "percentile_df['review_stars'].hist(bins=25)"
   ]
  },
  {
   "cell_type": "code",
   "execution_count": null,
   "metadata": {},
   "outputs": [],
   "source": [
    "def get_top_n(predictions, n=10):\n",
    "    '''Return the top-N recommendation for each user from a set of predictions.\n",
    "\n",
    "    Args:\n",
    "        predictions(list of Prediction objects): The list of predictions, as\n",
    "            returned by the test method of an algorithm.\n",
    "        n(int): The number of recommendation to output for each user. Default\n",
    "            is 10.\n",
    "\n",
    "    Returns:\n",
    "    A dict where keys are user (raw) ids and values are lists of tuples:\n",
    "        [(raw item id, rating estimation), ...] of size n.\n",
    "    '''\n",
    "\n",
    "    # First map the predictions to each user.\n",
    "    top_n = defaultdict(list)\n",
    "    for uid, iid, true_r, est, _ in predictions:\n",
    "        top_n[uid].append((iid, est))\n",
    "\n",
    "    # Then sort the predictions for each user and retrieve the k highest ones.\n",
    "    for uid, user_ratings in top_n.items():\n",
    "        user_ratings.sort(key=lambda x: x[1], reverse=True)\n",
    "        top_n[uid] = user_ratings[:n]\n",
    "\n",
    "    return top_n"
   ]
  },
  {
   "cell_type": "code",
   "execution_count": 329,
   "metadata": {},
   "outputs": [
    {
     "name": "stdout",
     "output_type": "stream",
     "text": [
      "MAE:  0.8843\n",
      "0.8842792095607304\n",
      "MSE: 1.2468\n",
      "1.2468167477569905\n",
      "RMSE: 1.1166\n",
      "1.1166094875814867\n"
     ]
    }
   ],
   "source": [
    "# SVD++ \n",
    "svdpp = SVDpp(n_factors=20,\n",
    "              n_epochs=25,\n",
    "              lr_all=0.006,\n",
    "              reg_all=0.08)\n",
    "svdpp.fit(trainset_3)\n",
    "predictions = svdpp.test(testset_3)\n",
    "print(accuracy.mae(predictions))\n",
    "print(accuracy.mse(predictions))\n",
    "print(accuracy.rmse(predictions))"
   ]
  },
  {
   "cell_type": "code",
   "execution_count": 332,
   "metadata": {},
   "outputs": [],
   "source": [
    "# Place predictions into df\n",
    "predictions_df = pd.DataFrame(columns=['uid', 'iid', 'true', 'predicted'])\n",
    "i = 0\n",
    "for uid, iid, true_r, est, _ in predictions:\n",
    "    predictions_df.loc[i] = [uid, iid, true_r, est]\n",
    "    i += 1"
   ]
  },
  {
   "cell_type": "code",
   "execution_count": 334,
   "metadata": {},
   "outputs": [
    {
     "data": {
      "text/plain": [
       "(43841, 4)"
      ]
     },
     "execution_count": 334,
     "metadata": {},
     "output_type": "execute_result"
    }
   ],
   "source": [
    "predictions_df.shape"
   ]
  },
  {
   "cell_type": "code",
   "execution_count": 340,
   "metadata": {},
   "outputs": [],
   "source": [
    "# Look at prediction distributions in relation to true ratings\n",
    "predictions_df_1 = predictions_df[predictions_df['true'] == 1]\n",
    "predictions_df_2 = predictions_df[predictions_df['true'] == 2]\n",
    "predictions_df_3 = predictions_df[predictions_df['true'] == 3]\n",
    "predictions_df_4 = predictions_df[predictions_df['true'] == 4]\n",
    "predictions_df_5 = predictions_df[predictions_df['true'] == 5]"
   ]
  },
  {
   "cell_type": "code",
   "execution_count": 342,
   "metadata": {},
   "outputs": [
    {
     "data": {
      "text/plain": [
       "(3.2135224102358126, 0.6820127407408101)"
      ]
     },
     "execution_count": 342,
     "metadata": {},
     "output_type": "execute_result"
    }
   ],
   "source": [
    "predictions_df_1['predicted'].mean(), predictions_df_1['predicted'].std()"
   ]
  },
  {
   "cell_type": "code",
   "execution_count": 343,
   "metadata": {},
   "outputs": [
    {
     "data": {
      "text/plain": [
       "(3.4701400404061538, 0.5629511676275821)"
      ]
     },
     "execution_count": 343,
     "metadata": {},
     "output_type": "execute_result"
    }
   ],
   "source": [
    "predictions_df_2['predicted'].mean(), predictions_df_2['predicted'].std()"
   ]
  },
  {
   "cell_type": "code",
   "execution_count": 344,
   "metadata": {},
   "outputs": [
    {
     "data": {
      "text/plain": [
       "(3.6317928902352747, 0.5004049862855244)"
      ]
     },
     "execution_count": 344,
     "metadata": {},
     "output_type": "execute_result"
    }
   ],
   "source": [
    "predictions_df_3['predicted'].mean(), predictions_df_3['predicted'].std()"
   ]
  },
  {
   "cell_type": "code",
   "execution_count": 345,
   "metadata": {},
   "outputs": [
    {
     "data": {
      "text/plain": [
       "(3.843784864176624, 0.46297482067931395)"
      ]
     },
     "execution_count": 345,
     "metadata": {},
     "output_type": "execute_result"
    }
   ],
   "source": [
    "predictions_df_4['predicted'].mean(), predictions_df_4['predicted'].std()"
   ]
  },
  {
   "cell_type": "code",
   "execution_count": 346,
   "metadata": {},
   "outputs": [
    {
     "data": {
      "text/plain": [
       "(4.0624015137374325, 0.4639703990619268)"
      ]
     },
     "execution_count": 346,
     "metadata": {},
     "output_type": "execute_result"
    }
   ],
   "source": [
    "predictions_df_5['predicted'].mean(), predictions_df_5['predicted'].std()"
   ]
  },
  {
   "cell_type": "code",
   "execution_count": 358,
   "metadata": {},
   "outputs": [
    {
     "data": {
      "text/plain": [
       "<matplotlib.axes._subplots.AxesSubplot at 0x7f4569c25110>"
      ]
     },
     "execution_count": 358,
     "metadata": {},
     "output_type": "execute_result"
    },
    {
     "data": {
      "image/png": "[encoded data removed]",
      "text/plain": [
       "<Figure size 432x288 with 1 Axes>"
      ]
     },
     "metadata": {},
     "output_type": "display_data"
    }
   ],
   "source": [
    "predictions_df_1['predicted'].hist(bins=20)"
   ]
  },
  {
   "cell_type": "code",
   "execution_count": 357,
   "metadata": {},
   "outputs": [
    {
     "data": {
      "text/plain": [
       "<matplotlib.axes._subplots.AxesSubplot at 0x7f456c1a2490>"
      ]
     },
     "execution_count": 357,
     "metadata": {},
     "output_type": "execute_result"
    },
    {
     "data": {
      "image/png": "[encoded data removed]",
      "text/plain": [
       "<Figure size 432x288 with 1 Axes>"
      ]
     },
     "metadata": {},
     "output_type": "display_data"
    }
   ],
   "source": [
    "predictions_df_2['predicted'].hist(bins=20)"
   ]
  },
  {
   "cell_type": "code",
   "execution_count": 356,
   "metadata": {},
   "outputs": [
    {
     "data": {
      "text/plain": [
       "<matplotlib.axes._subplots.AxesSubplot at 0x7f456aa9dc50>"
      ]
     },
     "execution_count": 356,
     "metadata": {},
     "output_type": "execute_result"
    },
    {
     "data": {
      "image/png": "[encoded data removed]",
      "text/plain": [
       "<Figure size 432x288 with 1 Axes>"
      ]
     },
     "metadata": {},
     "output_type": "display_data"
    }
   ],
   "source": [
    "predictions_df_3['predicted'].hist(bins=20)"
   ]
  },
  {
   "cell_type": "code",
   "execution_count": 355,
   "metadata": {},
   "outputs": [
    {
     "data": {
      "text/plain": [
       "<matplotlib.axes._subplots.AxesSubplot at 0x7f456ae81a90>"
      ]
     },
     "execution_count": 355,
     "metadata": {},
     "output_type": "execute_result"
    },
    {
     "data": {
      "image/png": "[encoded data removed]",
      "text/plain": [
       "<Figure size 432x288 with 1 Axes>"
      ]
     },
     "metadata": {},
     "output_type": "display_data"
    }
   ],
   "source": [
    "predictions_df_4['predicted'].hist(bins=20)"
   ]
  },
  {
   "cell_type": "code",
   "execution_count": 354,
   "metadata": {},
   "outputs": [
    {
     "data": {
      "text/plain": [
       "<matplotlib.axes._subplots.AxesSubplot at 0x7f456cdb8190>"
      ]
     },
     "execution_count": 354,
     "metadata": {},
     "output_type": "execute_result"
    },
    {
     "data": {
      "image/png": "[encoded data removed]",
      "text/plain": [
       "<Figure size 432x288 with 1 Axes>"
      ]
     },
     "metadata": {},
     "output_type": "display_data"
    }
   ],
   "source": [
    "predictions_df_5['predicted'].hist(bins=20)"
   ]
  },
  {
   "cell_type": "code",
   "execution_count": null,
   "metadata": {},
   "outputs": [],
   "source": [
    "# Build out anti-testset in order to generate recommendations\n",
    "full_trainset = data_3.build_full_trainset()\n",
    "algo = SVDpp(n_factors=20,\n",
    "             n_epochs=25,\n",
    "             lr_all=0.006,\n",
    "             reg_all=0.08)\n",
    "algo.fit(full_trainset)\n",
    "full_testset = full_trainset.build_anti_testset()\n",
    "full_predictions = algo.test(full_testset)\n",
    "top_n = get_top_n(full_predictions, n=10)\n",
    "\n",
    "# Print the recommended items for each user\n",
    "for uid, user_ratings in top_n.items():\n",
    "    print(uid, [iid for (iid, _) in user_ratings])"
   ]
  },
  {
   "cell_type": "code",
   "execution_count": 392,
   "metadata": {},
   "outputs": [
    {
     "data": {
      "text/plain": [
       "[('3C0bnFhjkgYP9mWORKg6cA', 5),\n",
       " ('K86vnjM11Kkz8532qi0LqQ', 5),\n",
       " ('T1ezuBwruKcJWGKlNTkRNw', 4.9758372418321315),\n",
       " ('BYmGU6vw6QFwB4Y5luT3Vw', 4.933280749115374),\n",
       " ('9wCP-MP2B1Yi7EzsM0H0ew', 4.924458737129515),\n",
       " ('pkPGkiFYWrB6guAM5BprkQ', 4.90972096736718),\n",
       " ('jRxLnJ9my31Re_O2MvQGhw', 4.892936595871806),\n",
       " ('sHIG0hjQHoxal9a1zwSinw', 4.889405439351415),\n",
       " ('tgxJuRm9EZRfUipsb5rjqg', 4.888642003708359),\n",
       " ('5Day_lf10DyvKk9tmKqjRA', 4.876166858766877)]"
      ]
     },
     "execution_count": 392,
     "metadata": {},
     "output_type": "execute_result"
    }
   ],
   "source": [
    "top_n['xj09c8_l8rSCI_8_F0yC8Q']"
   ]
  },
  {
   "cell_type": "code",
   "execution_count": 393,
   "metadata": {},
   "outputs": [
    {
     "data": {
      "text/html": [
       "<div>\n",
       "<style scoped>\n",
       "    .dataframe tbody tr th:only-of-type {\n",
       "        vertical-align: middle;\n",
       "    }\n",
       "\n",
       "    .dataframe tbody tr th {\n",
       "        vertical-align: top;\n",
       "    }\n",
       "\n",
       "    .dataframe thead th {\n",
       "        text-align: right;\n",
       "    }\n",
       "</style>\n",
       "<table border=\"1\" class=\"dataframe\">\n",
       "  <thead>\n",
       "    <tr style=\"text-align: right;\">\n",
       "      <th></th>\n",
       "      <th>user_id</th>\n",
       "      <th>business_id</th>\n",
       "      <th>review_stars</th>\n",
       "    </tr>\n",
       "  </thead>\n",
       "  <tbody>\n",
       "    <tr>\n",
       "      <th>86841</th>\n",
       "      <td>xj09c8_l8rSCI_8_F0yC8Q</td>\n",
       "      <td>T2tEMLpTeSMxLKpxwFdS3g</td>\n",
       "      <td>5</td>\n",
       "    </tr>\n",
       "    <tr>\n",
       "      <th>86842</th>\n",
       "      <td>xj09c8_l8rSCI_8_F0yC8Q</td>\n",
       "      <td>YaFM08fEdbp-iSon3Opsbw</td>\n",
       "      <td>4</td>\n",
       "    </tr>\n",
       "    <tr>\n",
       "      <th>86843</th>\n",
       "      <td>xj09c8_l8rSCI_8_F0yC8Q</td>\n",
       "      <td>C03ntpeOXOpuNz7ET9sxjw</td>\n",
       "      <td>3</td>\n",
       "    </tr>\n",
       "    <tr>\n",
       "      <th>86844</th>\n",
       "      <td>xj09c8_l8rSCI_8_F0yC8Q</td>\n",
       "      <td>H-PmFfqAzQtWTS0XeWC_lw</td>\n",
       "      <td>5</td>\n",
       "    </tr>\n",
       "    <tr>\n",
       "      <th>86845</th>\n",
       "      <td>xj09c8_l8rSCI_8_F0yC8Q</td>\n",
       "      <td>HtObLsspK0xIXfNPb7eUmA</td>\n",
       "      <td>5</td>\n",
       "    </tr>\n",
       "    <tr>\n",
       "      <th>86846</th>\n",
       "      <td>xj09c8_l8rSCI_8_F0yC8Q</td>\n",
       "      <td>FB2iUwS4-LMLBQVyLZmZfQ</td>\n",
       "      <td>2</td>\n",
       "    </tr>\n",
       "  </tbody>\n",
       "</table>\n",
       "</div>"
      ],
      "text/plain": [
       "                      user_id             business_id  review_stars\n",
       "86841  xj09c8_l8rSCI_8_F0yC8Q  T2tEMLpTeSMxLKpxwFdS3g             5\n",
       "86842  xj09c8_l8rSCI_8_F0yC8Q  YaFM08fEdbp-iSon3Opsbw             4\n",
       "86843  xj09c8_l8rSCI_8_F0yC8Q  C03ntpeOXOpuNz7ET9sxjw             3\n",
       "86844  xj09c8_l8rSCI_8_F0yC8Q  H-PmFfqAzQtWTS0XeWC_lw             5\n",
       "86845  xj09c8_l8rSCI_8_F0yC8Q  HtObLsspK0xIXfNPb7eUmA             5\n",
       "86846  xj09c8_l8rSCI_8_F0yC8Q  FB2iUwS4-LMLBQVyLZmZfQ             2"
      ]
     },
     "execution_count": 393,
     "metadata": {},
     "output_type": "execute_result"
    }
   ],
   "source": [
    "utility_3[utility_3['user_id'] == 'xj09c8_l8rSCI_8_F0yC8Q']"
   ]
  },
  {
   "cell_type": "code",
   "execution_count": 402,
   "metadata": {},
   "outputs": [],
   "source": [
    "def find_and_compare(user_id, top_n):\n",
    "    '''\n",
    "    Returns the raw user id associated with a given Surprise inner id\n",
    "\n",
    "    Arguments:\n",
    "    user_id (string): user_id string\n",
    "    top_n (dict): top_n dictionary generated from get_top_n\n",
    "\n",
    "    Returns:\n",
    "    reviewed_businesses_df (dataframe): dataframe of businesses reviewed by\n",
    "    the given user\n",
    "    recommended_df (dataframe): dataframe of recommended restaurants\n",
    "    '''\n",
    "    reviewed_df = utility_3[utility_3['user_id'] == user_id]\n",
    "    merged_reviewed_df = reviewed_df.merge(right=business_df,\n",
    "                                           how='left',\n",
    "                                           left_on='business_id',\n",
    "                                           right_on='business_id')\n",
    "    reviewed_businesses_df = merged_reviewed_df[['business_name',\n",
    "                                                 'review_stars',\n",
    "                                                 'categories']]\n",
    "\n",
    "    top_n_df = pd.DataFrame(columns=['business_id', 'predicted'])\n",
    "    i = 0\n",
    "    for business, predicted in top_n[user_id]:\n",
    "        top_n_df.loc[i] = [business, predicted]\n",
    "        i += 1\n",
    "    top_n_businesses_df = top_n_df.merge(right=business_df,\n",
    "                                         how='left',\n",
    "                                         left_on='business_id',\n",
    "                                         right_on='business_id')\n",
    "    recommended_df = top_n_businesses_df[['business_name',\n",
    "                                          'predicted',\n",
    "                                          'categories']]\n",
    "\n",
    "    return reviewed_businesses_df, recommended_df"
   ]
  },
  {
   "cell_type": "code",
   "execution_count": 562,
   "metadata": {},
   "outputs": [
    {
     "data": {
      "text/plain": [
       "8.741177174303147"
      ]
     },
     "execution_count": 562,
     "metadata": {},
     "output_type": "execute_result"
    }
   ],
   "source": [
    "# Average number of reviews left by a user\n",
    "utility_3['user_id'].value_counts().mean()"
   ]
  },
  {
   "cell_type": "code",
   "execution_count": 618,
   "metadata": {},
   "outputs": [],
   "source": [
    "# Compare/contrast recommended restaurants and actual reviews provided\n",
    "actual_df, recommended_df = find_and_compare('fg5-XX6a10nD51kiy1vdCg', top_n)"
   ]
  },
  {
   "cell_type": "code",
   "execution_count": 619,
   "metadata": {},
   "outputs": [
    {
     "data": {
      "text/html": [
       "<div>\n",
       "<style scoped>\n",
       "    .dataframe tbody tr th:only-of-type {\n",
       "        vertical-align: middle;\n",
       "    }\n",
       "\n",
       "    .dataframe tbody tr th {\n",
       "        vertical-align: top;\n",
       "    }\n",
       "\n",
       "    .dataframe thead th {\n",
       "        text-align: right;\n",
       "    }\n",
       "</style>\n",
       "<table border=\"1\" class=\"dataframe\">\n",
       "  <thead>\n",
       "    <tr style=\"text-align: right;\">\n",
       "      <th></th>\n",
       "      <th>business_name</th>\n",
       "      <th>review_stars</th>\n",
       "      <th>categories</th>\n",
       "    </tr>\n",
       "  </thead>\n",
       "  <tbody>\n",
       "    <tr>\n",
       "      <th>0</th>\n",
       "      <td>Diamond Restaurant</td>\n",
       "      <td>3</td>\n",
       "      <td>Restaurants, Diners, American (New), Southern</td>\n",
       "    </tr>\n",
       "    <tr>\n",
       "      <th>1</th>\n",
       "      <td>Jet's Pizza</td>\n",
       "      <td>4</td>\n",
       "      <td>Restaurants, Pizza</td>\n",
       "    </tr>\n",
       "    <tr>\n",
       "      <th>2</th>\n",
       "      <td>Jasmine Grill</td>\n",
       "      <td>3</td>\n",
       "      <td>Halal, Mediterranean, Restaurants, Middle Eastern</td>\n",
       "    </tr>\n",
       "    <tr>\n",
       "      <th>3</th>\n",
       "      <td>Le Kebab Grill</td>\n",
       "      <td>4</td>\n",
       "      <td>Sandwiches, Mediterranean, Middle Eastern, Hal...</td>\n",
       "    </tr>\n",
       "    <tr>\n",
       "      <th>4</th>\n",
       "      <td>Mr. K's Soft Ice Cream &amp; Drive In</td>\n",
       "      <td>3</td>\n",
       "      <td>Burgers, Food, Restaurants, Ice Cream &amp; Frozen...</td>\n",
       "    </tr>\n",
       "    <tr>\n",
       "      <th>5</th>\n",
       "      <td>Kabuto Japanese Steakhouse and Sushi Bar</td>\n",
       "      <td>5</td>\n",
       "      <td>Sushi Bars, Restaurants, Japanese, Steakhouses</td>\n",
       "    </tr>\n",
       "    <tr>\n",
       "      <th>6</th>\n",
       "      <td>The Randazzos' Grid Iron</td>\n",
       "      <td>3</td>\n",
       "      <td>American (New), Italian, Seafood, Nightlife, C...</td>\n",
       "    </tr>\n",
       "    <tr>\n",
       "      <th>7</th>\n",
       "      <td>Showmars Steele Creek</td>\n",
       "      <td>4</td>\n",
       "      <td>Restaurants, Greek, American (Traditional)</td>\n",
       "    </tr>\n",
       "    <tr>\n",
       "      <th>8</th>\n",
       "      <td>YAFO Kitchen</td>\n",
       "      <td>2</td>\n",
       "      <td>Restaurants, Ethnic Food, Food, Specialty Food...</td>\n",
       "    </tr>\n",
       "    <tr>\n",
       "      <th>9</th>\n",
       "      <td>Lorenzo's Pizzeria</td>\n",
       "      <td>1</td>\n",
       "      <td>Pizza, Restaurants, Italian</td>\n",
       "    </tr>\n",
       "  </tbody>\n",
       "</table>\n",
       "</div>"
      ],
      "text/plain": [
       "                              business_name  review_stars  \\\n",
       "0                        Diamond Restaurant             3   \n",
       "1                               Jet's Pizza             4   \n",
       "2                             Jasmine Grill             3   \n",
       "3                            Le Kebab Grill             4   \n",
       "4         Mr. K's Soft Ice Cream & Drive In             3   \n",
       "5  Kabuto Japanese Steakhouse and Sushi Bar             5   \n",
       "6                  The Randazzos' Grid Iron             3   \n",
       "7                     Showmars Steele Creek             4   \n",
       "8                              YAFO Kitchen             2   \n",
       "9                        Lorenzo's Pizzeria             1   \n",
       "\n",
       "                                          categories  \n",
       "0      Restaurants, Diners, American (New), Southern  \n",
       "1                                 Restaurants, Pizza  \n",
       "2  Halal, Mediterranean, Restaurants, Middle Eastern  \n",
       "3  Sandwiches, Mediterranean, Middle Eastern, Hal...  \n",
       "4  Burgers, Food, Restaurants, Ice Cream & Frozen...  \n",
       "5     Sushi Bars, Restaurants, Japanese, Steakhouses  \n",
       "6  American (New), Italian, Seafood, Nightlife, C...  \n",
       "7         Restaurants, Greek, American (Traditional)  \n",
       "8  Restaurants, Ethnic Food, Food, Specialty Food...  \n",
       "9                        Pizza, Restaurants, Italian  "
      ]
     },
     "execution_count": 619,
     "metadata": {},
     "output_type": "execute_result"
    }
   ],
   "source": [
    "actual_df"
   ]
  },
  {
   "cell_type": "code",
   "execution_count": 620,
   "metadata": {},
   "outputs": [
    {
     "data": {
      "text/html": [
       "<div>\n",
       "<style scoped>\n",
       "    .dataframe tbody tr th:only-of-type {\n",
       "        vertical-align: middle;\n",
       "    }\n",
       "\n",
       "    .dataframe tbody tr th {\n",
       "        vertical-align: top;\n",
       "    }\n",
       "\n",
       "    .dataframe thead th {\n",
       "        text-align: right;\n",
       "    }\n",
       "</style>\n",
       "<table border=\"1\" class=\"dataframe\">\n",
       "  <thead>\n",
       "    <tr style=\"text-align: right;\">\n",
       "      <th></th>\n",
       "      <th>business_name</th>\n",
       "      <th>predicted</th>\n",
       "      <th>categories</th>\n",
       "    </tr>\n",
       "  </thead>\n",
       "  <tbody>\n",
       "    <tr>\n",
       "      <th>0</th>\n",
       "      <td>Chili Man</td>\n",
       "      <td>4.365136</td>\n",
       "      <td>Hot Dogs, Food, Street Vendors, Restaurants</td>\n",
       "    </tr>\n",
       "    <tr>\n",
       "      <th>1</th>\n",
       "      <td>Enat Ethiopian Restaurant</td>\n",
       "      <td>4.346586</td>\n",
       "      <td>Vegetarian, Vegan, Ethiopian, African, Restaur...</td>\n",
       "    </tr>\n",
       "    <tr>\n",
       "      <th>2</th>\n",
       "      <td>Lupitas Carniceria &amp; Tortilleria</td>\n",
       "      <td>4.291161</td>\n",
       "      <td>Food, Restaurants, Mexican</td>\n",
       "    </tr>\n",
       "    <tr>\n",
       "      <th>3</th>\n",
       "      <td>Bar Marcel</td>\n",
       "      <td>4.279530</td>\n",
       "      <td>French, Italian, Restaurants, Spanish</td>\n",
       "    </tr>\n",
       "    <tr>\n",
       "      <th>4</th>\n",
       "      <td>Alpha Omega Grill &amp; Pizzeria</td>\n",
       "      <td>4.256581</td>\n",
       "      <td>Restaurants, Pizza, Italian, Mediterranean, Greek</td>\n",
       "    </tr>\n",
       "    <tr>\n",
       "      <th>5</th>\n",
       "      <td>Community Matters Cafe</td>\n",
       "      <td>4.189024</td>\n",
       "      <td>Breakfast &amp; Brunch, Salad, Sandwiches, Food, R...</td>\n",
       "    </tr>\n",
       "    <tr>\n",
       "      <th>6</th>\n",
       "      <td>Greco Fresh Grille</td>\n",
       "      <td>4.188119</td>\n",
       "      <td>Greek, Mediterranean, Restaurants</td>\n",
       "    </tr>\n",
       "    <tr>\n",
       "      <th>7</th>\n",
       "      <td>Peppervine</td>\n",
       "      <td>4.172969</td>\n",
       "      <td>Bars, American (New), Restaurants, Nightlife, ...</td>\n",
       "    </tr>\n",
       "    <tr>\n",
       "      <th>8</th>\n",
       "      <td>The Tasty Bowl Subs N Such</td>\n",
       "      <td>4.170118</td>\n",
       "      <td>Indian, Italian, Fast Food, Sandwiches, Restau...</td>\n",
       "    </tr>\n",
       "    <tr>\n",
       "      <th>9</th>\n",
       "      <td>Salud Beer Shop</td>\n",
       "      <td>4.162535</td>\n",
       "      <td>Food, Beer, Wine &amp; Spirits, Wine Bars, Beer Ba...</td>\n",
       "    </tr>\n",
       "  </tbody>\n",
       "</table>\n",
       "</div>"
      ],
      "text/plain": [
       "                      business_name  predicted  \\\n",
       "0                         Chili Man   4.365136   \n",
       "1         Enat Ethiopian Restaurant   4.346586   \n",
       "2  Lupitas Carniceria & Tortilleria   4.291161   \n",
       "3                        Bar Marcel   4.279530   \n",
       "4      Alpha Omega Grill & Pizzeria   4.256581   \n",
       "5            Community Matters Cafe   4.189024   \n",
       "6                Greco Fresh Grille   4.188119   \n",
       "7                        Peppervine   4.172969   \n",
       "8        The Tasty Bowl Subs N Such   4.170118   \n",
       "9                   Salud Beer Shop   4.162535   \n",
       "\n",
       "                                          categories  \n",
       "0        Hot Dogs, Food, Street Vendors, Restaurants  \n",
       "1  Vegetarian, Vegan, Ethiopian, African, Restaur...  \n",
       "2                         Food, Restaurants, Mexican  \n",
       "3              French, Italian, Restaurants, Spanish  \n",
       "4  Restaurants, Pizza, Italian, Mediterranean, Greek  \n",
       "5  Breakfast & Brunch, Salad, Sandwiches, Food, R...  \n",
       "6                  Greek, Mediterranean, Restaurants  \n",
       "7  Bars, American (New), Restaurants, Nightlife, ...  \n",
       "8  Indian, Italian, Fast Food, Sandwiches, Restau...  \n",
       "9  Food, Beer, Wine & Spirits, Wine Bars, Beer Ba...  "
      ]
     },
     "execution_count": 620,
     "metadata": {},
     "output_type": "execute_result"
    }
   ],
   "source": [
    "recommended_df"
   ]
  },
  {
   "cell_type": "code",
   "execution_count": null,
   "metadata": {},
   "outputs": [],
   "source": [
    "def get_user_totals(uid):\n",
    "    '''\n",
    "    Returns the number of items rated by given user\n",
    "    \n",
    "    Arguments: \n",
    "    uid (string): the id of the user\n",
    "    \n",
    "    Returns: \n",
    "    (int): the number of items rated by the user\n",
    "    '''\n",
    "    try:\n",
    "        return len(trainset_3.ur[trainset_3.to_inner_uid(uid)])\n",
    "    except ValueError: # user was not part of the trainset\n",
    "        return 0\n",
    "    \n",
    "def get_item_totals(iid):\n",
    "    '''\n",
    "    Returns the number of users that have rated a given item\n",
    "    \n",
    "    Arguments:\n",
    "    iid (string): the raw id of the item\n",
    "      \n",
    "    Returns:\n",
    "    (int): the number of users that have rated the item.\n",
    "    '''\n",
    "    try: \n",
    "        return len(trainset_3.ir[trainset_3.to_inner_iid(iid)])\n",
    "    except ValueError:\n",
    "        return 0"
   ]
  },
  {
   "cell_type": "code",
   "execution_count": 376,
   "metadata": {},
   "outputs": [],
   "source": [
    "# Generate the best/worst predictions by absolute error\n",
    "predictions_df['user_totals'] = predictions_df['uid'].apply(get_user_totals)\n",
    "predictions_df['item_totals'] = predictions_df['iid'].apply(get_item_totals)\n",
    "predictions_df['err'] = abs(predictions_df['predicted'] -\n",
    "                            predictions_df['true'])\n",
    "best_predictions = predictions_df.sort_values(by='err')[:50]\n",
    "worst_predictions = predictions_df.sort_values(by='err')[-50:]"
   ]
  },
  {
   "cell_type": "code",
   "execution_count": 16,
   "metadata": {
    "ExecuteTime": {
     "end_time": "2020-06-09T02:49:33.045250Z",
     "start_time": "2020-06-09T02:49:32.122779Z"
    }
   },
   "outputs": [
    {
     "data": {
      "image/png": "[encoded data removed]",
      "text/plain": [
       "<Figure size 720x360 with 2 Axes>"
      ]
     },
     "metadata": {},
     "output_type": "display_data"
    }
   ],
   "source": [
    "# Plot prediction distributions via histogram & violin plot\n",
    "fig, axs = plt.subplots(1, 2, figsize=(10, 5))\n",
    "\n",
    "sns.distplot(predictions_df['predicted'], bins=25, norm_hist=False,\n",
    "             color='coral', ax=axs[0], kde=False)\n",
    "axs[0].set_title('Distribution of Predicted Ratings')\n",
    "axs[0].set_xlabel('Predicted Ratings')\n",
    "axs[0].set_ylabel('Count')\n",
    "\n",
    "pred_data = ([predictions_df['predicted'][predictions_df['true'] == rating]\n",
    "              .values for rating in range(1, 6)])\n",
    "sns.violinplot(data=pred_data, ax=axs[1], color='coral')\n",
    "axs[1].set_title('Actual vs. Recommender Predicted Ratings')\n",
    "axs[1].set_xlabel('Actual Ratings')\n",
    "axs[1].set_ylabel('Predicted Ratings')\n",
    "axs[1].set_xticklabels(np.arange(1,6))\n",
    "\n",
    "fig.savefig('images/ratingsviolin.png')"
   ]
  },
  {
   "cell_type": "code",
   "execution_count": 378,
   "metadata": {
    "scrolled": true
   },
   "outputs": [
    {
     "data": {
      "text/html": [
       "<div>\n",
       "<style scoped>\n",
       "    .dataframe tbody tr th:only-of-type {\n",
       "        vertical-align: middle;\n",
       "    }\n",
       "\n",
       "    .dataframe tbody tr th {\n",
       "        vertical-align: top;\n",
       "    }\n",
       "\n",
       "    .dataframe thead th {\n",
       "        text-align: right;\n",
       "    }\n",
       "</style>\n",
       "<table border=\"1\" class=\"dataframe\">\n",
       "  <thead>\n",
       "    <tr style=\"text-align: right;\">\n",
       "      <th></th>\n",
       "      <th>uid</th>\n",
       "      <th>iid</th>\n",
       "      <th>true</th>\n",
       "      <th>predicted</th>\n",
       "      <th>err</th>\n",
       "      <th>user_totals</th>\n",
       "      <th>item_totals</th>\n",
       "    </tr>\n",
       "  </thead>\n",
       "  <tbody>\n",
       "    <tr>\n",
       "      <th>29495</th>\n",
       "      <td>hTjUo_DmadNEHfCVHJ-R6Q</td>\n",
       "      <td>QMOfd4Am5W-_Cmg_pKgzkA</td>\n",
       "      <td>5.0</td>\n",
       "      <td>5.0</td>\n",
       "      <td>0.0</td>\n",
       "      <td>46</td>\n",
       "      <td>9</td>\n",
       "    </tr>\n",
       "    <tr>\n",
       "      <th>34010</th>\n",
       "      <td>8BA9P27NAYJ-R7L09XUXJw</td>\n",
       "      <td>80omysuPKac8zn1PfRnQRQ</td>\n",
       "      <td>5.0</td>\n",
       "      <td>5.0</td>\n",
       "      <td>0.0</td>\n",
       "      <td>7</td>\n",
       "      <td>135</td>\n",
       "    </tr>\n",
       "    <tr>\n",
       "      <th>35731</th>\n",
       "      <td>UtsI5wQzA5IkxOn6YDLtXQ</td>\n",
       "      <td>hxqy33o5fgJHkYJkpE1ElQ</td>\n",
       "      <td>5.0</td>\n",
       "      <td>5.0</td>\n",
       "      <td>0.0</td>\n",
       "      <td>7</td>\n",
       "      <td>3</td>\n",
       "    </tr>\n",
       "    <tr>\n",
       "      <th>35739</th>\n",
       "      <td>uuKOfhxXHZo8J-kLdQmNiA</td>\n",
       "      <td>99j5vhhtFJIefXDLsmA29Q</td>\n",
       "      <td>5.0</td>\n",
       "      <td>5.0</td>\n",
       "      <td>0.0</td>\n",
       "      <td>22</td>\n",
       "      <td>206</td>\n",
       "    </tr>\n",
       "    <tr>\n",
       "      <th>41119</th>\n",
       "      <td>-SpxqMoZJjCQ80f2_T4UnA</td>\n",
       "      <td>19fdSca3MUoaGFNX2BrjTQ</td>\n",
       "      <td>5.0</td>\n",
       "      <td>5.0</td>\n",
       "      <td>0.0</td>\n",
       "      <td>19</td>\n",
       "      <td>65</td>\n",
       "    </tr>\n",
       "    <tr>\n",
       "      <th>15191</th>\n",
       "      <td>_irsMpu7Cyg34P9byv0SBA</td>\n",
       "      <td>gUrYm7z0g5a5_jdSXzi-HA</td>\n",
       "      <td>5.0</td>\n",
       "      <td>5.0</td>\n",
       "      <td>0.0</td>\n",
       "      <td>7</td>\n",
       "      <td>131</td>\n",
       "    </tr>\n",
       "    <tr>\n",
       "      <th>29514</th>\n",
       "      <td>lSjdYb2wussdNmj5XvN45Q</td>\n",
       "      <td>dHUb949NckE2GqtlSVlWQg</td>\n",
       "      <td>5.0</td>\n",
       "      <td>5.0</td>\n",
       "      <td>0.0</td>\n",
       "      <td>19</td>\n",
       "      <td>45</td>\n",
       "    </tr>\n",
       "    <tr>\n",
       "      <th>42305</th>\n",
       "      <td>iATUt48CpfNM5wq_XEujLw</td>\n",
       "      <td>Ye6Bdtw2lq5Y6FeX-p377Q</td>\n",
       "      <td>5.0</td>\n",
       "      <td>5.0</td>\n",
       "      <td>0.0</td>\n",
       "      <td>27</td>\n",
       "      <td>41</td>\n",
       "    </tr>\n",
       "    <tr>\n",
       "      <th>22940</th>\n",
       "      <td>hTjUo_DmadNEHfCVHJ-R6Q</td>\n",
       "      <td>7HbKKqXtZUjf6uVSHZ8wyw</td>\n",
       "      <td>5.0</td>\n",
       "      <td>5.0</td>\n",
       "      <td>0.0</td>\n",
       "      <td>46</td>\n",
       "      <td>175</td>\n",
       "    </tr>\n",
       "    <tr>\n",
       "      <th>27142</th>\n",
       "      <td>a5zmNDY4Cz4Zw6sEFCF97A</td>\n",
       "      <td>9-GNhPL4PBL2FOJc28KPMA</td>\n",
       "      <td>5.0</td>\n",
       "      <td>5.0</td>\n",
       "      <td>0.0</td>\n",
       "      <td>7</td>\n",
       "      <td>27</td>\n",
       "    </tr>\n",
       "    <tr>\n",
       "      <th>38774</th>\n",
       "      <td>aTe7Vwje6OVE0lj0UaKeeA</td>\n",
       "      <td>kN9MQJzWErsPyXzfxgx2_Q</td>\n",
       "      <td>5.0</td>\n",
       "      <td>5.0</td>\n",
       "      <td>0.0</td>\n",
       "      <td>8</td>\n",
       "      <td>19</td>\n",
       "    </tr>\n",
       "    <tr>\n",
       "      <th>8657</th>\n",
       "      <td>bJguBxPlnTW29tRTAF0nkQ</td>\n",
       "      <td>R1jJQi2yR44D_2ileqr8kA</td>\n",
       "      <td>5.0</td>\n",
       "      <td>5.0</td>\n",
       "      <td>0.0</td>\n",
       "      <td>20</td>\n",
       "      <td>216</td>\n",
       "    </tr>\n",
       "    <tr>\n",
       "      <th>33313</th>\n",
       "      <td>SIqENP8MSWUaaN78usHnOA</td>\n",
       "      <td>FGy4UJ1Qri_KruPZiPmWYQ</td>\n",
       "      <td>5.0</td>\n",
       "      <td>5.0</td>\n",
       "      <td>0.0</td>\n",
       "      <td>6</td>\n",
       "      <td>239</td>\n",
       "    </tr>\n",
       "    <tr>\n",
       "      <th>19285</th>\n",
       "      <td>tydr_aiJwG9U0T3D11fzfw</td>\n",
       "      <td>6kq9oLduJAYkb2WjAb36KA</td>\n",
       "      <td>5.0</td>\n",
       "      <td>5.0</td>\n",
       "      <td>0.0</td>\n",
       "      <td>7</td>\n",
       "      <td>191</td>\n",
       "    </tr>\n",
       "    <tr>\n",
       "      <th>7272</th>\n",
       "      <td>SEW_Ej5nXB2MxXMWQSaljg</td>\n",
       "      <td>ExtP8z3SVyut_RICc9i_DA</td>\n",
       "      <td>5.0</td>\n",
       "      <td>5.0</td>\n",
       "      <td>0.0</td>\n",
       "      <td>30</td>\n",
       "      <td>132</td>\n",
       "    </tr>\n",
       "    <tr>\n",
       "      <th>15209</th>\n",
       "      <td>NvTI0n5PhXdJYxTtRPRzrw</td>\n",
       "      <td>3C0bnFhjkgYP9mWORKg6cA</td>\n",
       "      <td>5.0</td>\n",
       "      <td>5.0</td>\n",
       "      <td>0.0</td>\n",
       "      <td>32</td>\n",
       "      <td>78</td>\n",
       "    </tr>\n",
       "    <tr>\n",
       "      <th>27084</th>\n",
       "      <td>SDW1CI0lKomYCatL0JXO1w</td>\n",
       "      <td>hggVnGwA5042-ABxqeJX-A</td>\n",
       "      <td>5.0</td>\n",
       "      <td>5.0</td>\n",
       "      <td>0.0</td>\n",
       "      <td>7</td>\n",
       "      <td>419</td>\n",
       "    </tr>\n",
       "    <tr>\n",
       "      <th>25570</th>\n",
       "      <td>avkCj6jnszCk1pe1XlTDHQ</td>\n",
       "      <td>XgRljuEUyaHBKIpIz-PRAA</td>\n",
       "      <td>5.0</td>\n",
       "      <td>5.0</td>\n",
       "      <td>0.0</td>\n",
       "      <td>51</td>\n",
       "      <td>361</td>\n",
       "    </tr>\n",
       "    <tr>\n",
       "      <th>15228</th>\n",
       "      <td>Np8AWIdNVVN5txplNJMApA</td>\n",
       "      <td>zpGCFAt_MydbQN4EsXee6w</td>\n",
       "      <td>5.0</td>\n",
       "      <td>5.0</td>\n",
       "      <td>0.0</td>\n",
       "      <td>11</td>\n",
       "      <td>137</td>\n",
       "    </tr>\n",
       "    <tr>\n",
       "      <th>2982</th>\n",
       "      <td>-ZlBgVsg4Jw_S8LrjtlQ2w</td>\n",
       "      <td>LRwkfgrkxxzLG24grsHkWw</td>\n",
       "      <td>5.0</td>\n",
       "      <td>5.0</td>\n",
       "      <td>0.0</td>\n",
       "      <td>12</td>\n",
       "      <td>39</td>\n",
       "    </tr>\n",
       "    <tr>\n",
       "      <th>5826</th>\n",
       "      <td>b2UBm3O-sa8rUGwiwmpqTg</td>\n",
       "      <td>6Pbrq60mA56WQU7SENbG0g</td>\n",
       "      <td>5.0</td>\n",
       "      <td>5.0</td>\n",
       "      <td>0.0</td>\n",
       "      <td>49</td>\n",
       "      <td>106</td>\n",
       "    </tr>\n",
       "    <tr>\n",
       "      <th>8659</th>\n",
       "      <td>9Y7QivLeKXZ5URLcVQ00-w</td>\n",
       "      <td>T1ezuBwruKcJWGKlNTkRNw</td>\n",
       "      <td>5.0</td>\n",
       "      <td>5.0</td>\n",
       "      <td>0.0</td>\n",
       "      <td>7</td>\n",
       "      <td>19</td>\n",
       "    </tr>\n",
       "    <tr>\n",
       "      <th>41232</th>\n",
       "      <td>U71g1EIo1jLvJLj1xoj3zA</td>\n",
       "      <td>Rs-VhTqmuAdHg3CGGUr4Dg</td>\n",
       "      <td>5.0</td>\n",
       "      <td>5.0</td>\n",
       "      <td>0.0</td>\n",
       "      <td>18</td>\n",
       "      <td>33</td>\n",
       "    </tr>\n",
       "    <tr>\n",
       "      <th>31828</th>\n",
       "      <td>da3c5JxFodELNn2WkKxIeg</td>\n",
       "      <td>KEGLWeFAWXvo0W2LnujhtQ</td>\n",
       "      <td>5.0</td>\n",
       "      <td>5.0</td>\n",
       "      <td>0.0</td>\n",
       "      <td>17</td>\n",
       "      <td>212</td>\n",
       "    </tr>\n",
       "    <tr>\n",
       "      <th>17334</th>\n",
       "      <td>da3c5JxFodELNn2WkKxIeg</td>\n",
       "      <td>DQIZ35zW26988gl4q_fDHA</td>\n",
       "      <td>5.0</td>\n",
       "      <td>5.0</td>\n",
       "      <td>0.0</td>\n",
       "      <td>17</td>\n",
       "      <td>107</td>\n",
       "    </tr>\n",
       "    <tr>\n",
       "      <th>42567</th>\n",
       "      <td>7a39HGslWKO1WsFzJ_S-qQ</td>\n",
       "      <td>jRxLnJ9my31Re_O2MvQGhw</td>\n",
       "      <td>5.0</td>\n",
       "      <td>5.0</td>\n",
       "      <td>0.0</td>\n",
       "      <td>2</td>\n",
       "      <td>56</td>\n",
       "    </tr>\n",
       "    <tr>\n",
       "      <th>1497</th>\n",
       "      <td>YPRrpSxT0HvzSJ04y1Hplg</td>\n",
       "      <td>OWByE1i1tjPB5i5mSprDJw</td>\n",
       "      <td>5.0</td>\n",
       "      <td>5.0</td>\n",
       "      <td>0.0</td>\n",
       "      <td>16</td>\n",
       "      <td>19</td>\n",
       "    </tr>\n",
       "    <tr>\n",
       "      <th>25175</th>\n",
       "      <td>hTjUo_DmadNEHfCVHJ-R6Q</td>\n",
       "      <td>7HbKKqXtZUjf6uVSHZ8wyw</td>\n",
       "      <td>5.0</td>\n",
       "      <td>5.0</td>\n",
       "      <td>0.0</td>\n",
       "      <td>46</td>\n",
       "      <td>175</td>\n",
       "    </tr>\n",
       "    <tr>\n",
       "      <th>27571</th>\n",
       "      <td>IAMehA5wqbpZf5IfgM072Q</td>\n",
       "      <td>ZdFl7MqnF09dcifG1j7l_w</td>\n",
       "      <td>1.0</td>\n",
       "      <td>1.0</td>\n",
       "      <td>0.0</td>\n",
       "      <td>9</td>\n",
       "      <td>30</td>\n",
       "    </tr>\n",
       "    <tr>\n",
       "      <th>11156</th>\n",
       "      <td>uQ2w3yMEYxcspPrZLKObVw</td>\n",
       "      <td>RVQE2Z2uky4c0-njFQO66g</td>\n",
       "      <td>5.0</td>\n",
       "      <td>5.0</td>\n",
       "      <td>0.0</td>\n",
       "      <td>22</td>\n",
       "      <td>737</td>\n",
       "    </tr>\n",
       "    <tr>\n",
       "      <th>9342</th>\n",
       "      <td>SjvZj-PpWRQr7TLKS7T1Rw</td>\n",
       "      <td>YxwxKqemcKwV4vIQXhVv_w</td>\n",
       "      <td>5.0</td>\n",
       "      <td>5.0</td>\n",
       "      <td>0.0</td>\n",
       "      <td>35</td>\n",
       "      <td>138</td>\n",
       "    </tr>\n",
       "    <tr>\n",
       "      <th>23608</th>\n",
       "      <td>97GtXojQrF6sct0luiDZrA</td>\n",
       "      <td>zpGCFAt_MydbQN4EsXee6w</td>\n",
       "      <td>5.0</td>\n",
       "      <td>5.0</td>\n",
       "      <td>0.0</td>\n",
       "      <td>20</td>\n",
       "      <td>137</td>\n",
       "    </tr>\n",
       "    <tr>\n",
       "      <th>40855</th>\n",
       "      <td>dEEuPANA0PhGNCfa5IW55w</td>\n",
       "      <td>iYT30UPGmLdmTRaAKz0Vvw</td>\n",
       "      <td>5.0</td>\n",
       "      <td>5.0</td>\n",
       "      <td>0.0</td>\n",
       "      <td>5</td>\n",
       "      <td>138</td>\n",
       "    </tr>\n",
       "    <tr>\n",
       "      <th>35667</th>\n",
       "      <td>huUG47ciWyCYujKeP0fO-w</td>\n",
       "      <td>IIUK1lz_1upqYtHu8ZuClA</td>\n",
       "      <td>5.0</td>\n",
       "      <td>5.0</td>\n",
       "      <td>0.0</td>\n",
       "      <td>4</td>\n",
       "      <td>128</td>\n",
       "    </tr>\n",
       "    <tr>\n",
       "      <th>37252</th>\n",
       "      <td>avkCj6jnszCk1pe1XlTDHQ</td>\n",
       "      <td>ZdqiRrUik1GWAcMWb2iBdw</td>\n",
       "      <td>5.0</td>\n",
       "      <td>5.0</td>\n",
       "      <td>0.0</td>\n",
       "      <td>51</td>\n",
       "      <td>89</td>\n",
       "    </tr>\n",
       "    <tr>\n",
       "      <th>12244</th>\n",
       "      <td>oaCl7cv19ZXOSK21Hhh9GA</td>\n",
       "      <td>1_pgCgtK2kiM7SyXWbznYQ</td>\n",
       "      <td>5.0</td>\n",
       "      <td>5.0</td>\n",
       "      <td>0.0</td>\n",
       "      <td>33</td>\n",
       "      <td>39</td>\n",
       "    </tr>\n",
       "    <tr>\n",
       "      <th>11199</th>\n",
       "      <td>SIqENP8MSWUaaN78usHnOA</td>\n",
       "      <td>eZDXz_RylvdD0tHEA8I0NA</td>\n",
       "      <td>5.0</td>\n",
       "      <td>5.0</td>\n",
       "      <td>0.0</td>\n",
       "      <td>6</td>\n",
       "      <td>310</td>\n",
       "    </tr>\n",
       "    <tr>\n",
       "      <th>124</th>\n",
       "      <td>TnvayOTx4hObOo0LYIpHhA</td>\n",
       "      <td>3C0bnFhjkgYP9mWORKg6cA</td>\n",
       "      <td>5.0</td>\n",
       "      <td>5.0</td>\n",
       "      <td>0.0</td>\n",
       "      <td>2</td>\n",
       "      <td>78</td>\n",
       "    </tr>\n",
       "    <tr>\n",
       "      <th>18938</th>\n",
       "      <td>eIFrsk3LTWThDTtyJNw0Qg</td>\n",
       "      <td>m3XOBJyAJIWEJJUpngVLLw</td>\n",
       "      <td>5.0</td>\n",
       "      <td>5.0</td>\n",
       "      <td>0.0</td>\n",
       "      <td>11</td>\n",
       "      <td>164</td>\n",
       "    </tr>\n",
       "    <tr>\n",
       "      <th>31335</th>\n",
       "      <td>rh27ydFpR-fOIA2BhB2Z5g</td>\n",
       "      <td>GrJ74hxJsXXwcqS7zcfFhw</td>\n",
       "      <td>5.0</td>\n",
       "      <td>5.0</td>\n",
       "      <td>0.0</td>\n",
       "      <td>9</td>\n",
       "      <td>104</td>\n",
       "    </tr>\n",
       "    <tr>\n",
       "      <th>15125</th>\n",
       "      <td>KUZ8w538GlVDrfrmex2zhw</td>\n",
       "      <td>KaxjIAYLhqXN8-p_iZwgBw</td>\n",
       "      <td>5.0</td>\n",
       "      <td>5.0</td>\n",
       "      <td>0.0</td>\n",
       "      <td>27</td>\n",
       "      <td>46</td>\n",
       "    </tr>\n",
       "    <tr>\n",
       "      <th>41013</th>\n",
       "      <td>avkCj6jnszCk1pe1XlTDHQ</td>\n",
       "      <td>4xsgyzyQ5K50AMkc4CoZEA</td>\n",
       "      <td>5.0</td>\n",
       "      <td>5.0</td>\n",
       "      <td>0.0</td>\n",
       "      <td>51</td>\n",
       "      <td>31</td>\n",
       "    </tr>\n",
       "    <tr>\n",
       "      <th>9942</th>\n",
       "      <td>FQS5OdzaDhPq1q3ZcBTNmg</td>\n",
       "      <td>YxwxKqemcKwV4vIQXhVv_w</td>\n",
       "      <td>5.0</td>\n",
       "      <td>5.0</td>\n",
       "      <td>0.0</td>\n",
       "      <td>11</td>\n",
       "      <td>138</td>\n",
       "    </tr>\n",
       "    <tr>\n",
       "      <th>3201</th>\n",
       "      <td>zWA0pKXHS0QH8rdf_kvUDw</td>\n",
       "      <td>0LPVkxZ-Ab9Jx6_ytA-Yew</td>\n",
       "      <td>5.0</td>\n",
       "      <td>5.0</td>\n",
       "      <td>0.0</td>\n",
       "      <td>9</td>\n",
       "      <td>107</td>\n",
       "    </tr>\n",
       "    <tr>\n",
       "      <th>42394</th>\n",
       "      <td>7laUpzZ1127tAipFa6iXLw</td>\n",
       "      <td>ytGKbV7hRC6RkExo1NItEA</td>\n",
       "      <td>5.0</td>\n",
       "      <td>5.0</td>\n",
       "      <td>0.0</td>\n",
       "      <td>13</td>\n",
       "      <td>33</td>\n",
       "    </tr>\n",
       "    <tr>\n",
       "      <th>491</th>\n",
       "      <td>rj10hcbfLHAF7SB9CXEkRA</td>\n",
       "      <td>eAZqT24e0Pk8apWzy3RsAQ</td>\n",
       "      <td>5.0</td>\n",
       "      <td>5.0</td>\n",
       "      <td>0.0</td>\n",
       "      <td>16</td>\n",
       "      <td>201</td>\n",
       "    </tr>\n",
       "    <tr>\n",
       "      <th>2967</th>\n",
       "      <td>P0g72ss7P25E4A1Sb-LT_A</td>\n",
       "      <td>5Day_lf10DyvKk9tmKqjRA</td>\n",
       "      <td>5.0</td>\n",
       "      <td>5.0</td>\n",
       "      <td>0.0</td>\n",
       "      <td>65</td>\n",
       "      <td>60</td>\n",
       "    </tr>\n",
       "    <tr>\n",
       "      <th>4549</th>\n",
       "      <td>da3c5JxFodELNn2WkKxIeg</td>\n",
       "      <td>K86vnjM11Kkz8532qi0LqQ</td>\n",
       "      <td>5.0</td>\n",
       "      <td>5.0</td>\n",
       "      <td>0.0</td>\n",
       "      <td>17</td>\n",
       "      <td>24</td>\n",
       "    </tr>\n",
       "    <tr>\n",
       "      <th>41268</th>\n",
       "      <td>nvHJFFr5R74ug5NOh2VDPg</td>\n",
       "      <td>xJAXkMIgnWNpqyGCosmp2Q</td>\n",
       "      <td>5.0</td>\n",
       "      <td>5.0</td>\n",
       "      <td>0.0</td>\n",
       "      <td>46</td>\n",
       "      <td>145</td>\n",
       "    </tr>\n",
       "    <tr>\n",
       "      <th>17190</th>\n",
       "      <td>gMB0_OdKhCFfSjM_occ76g</td>\n",
       "      <td>TenNB5TtwPxJ5EoZQ4WjaA</td>\n",
       "      <td>5.0</td>\n",
       "      <td>5.0</td>\n",
       "      <td>0.0</td>\n",
       "      <td>22</td>\n",
       "      <td>76</td>\n",
       "    </tr>\n",
       "  </tbody>\n",
       "</table>\n",
       "</div>"
      ],
      "text/plain": [
       "                          uid                     iid  true  predicted  err  \\\n",
       "29495  hTjUo_DmadNEHfCVHJ-R6Q  QMOfd4Am5W-_Cmg_pKgzkA   5.0        5.0  0.0   \n",
       "34010  8BA9P27NAYJ-R7L09XUXJw  80omysuPKac8zn1PfRnQRQ   5.0        5.0  0.0   \n",
       "35731  UtsI5wQzA5IkxOn6YDLtXQ  hxqy33o5fgJHkYJkpE1ElQ   5.0        5.0  0.0   \n",
       "35739  uuKOfhxXHZo8J-kLdQmNiA  99j5vhhtFJIefXDLsmA29Q   5.0        5.0  0.0   \n",
       "41119  -SpxqMoZJjCQ80f2_T4UnA  19fdSca3MUoaGFNX2BrjTQ   5.0        5.0  0.0   \n",
       "15191  _irsMpu7Cyg34P9byv0SBA  gUrYm7z0g5a5_jdSXzi-HA   5.0        5.0  0.0   \n",
       "29514  lSjdYb2wussdNmj5XvN45Q  dHUb949NckE2GqtlSVlWQg   5.0        5.0  0.0   \n",
       "42305  iATUt48CpfNM5wq_XEujLw  Ye6Bdtw2lq5Y6FeX-p377Q   5.0        5.0  0.0   \n",
       "22940  hTjUo_DmadNEHfCVHJ-R6Q  7HbKKqXtZUjf6uVSHZ8wyw   5.0        5.0  0.0   \n",
       "27142  a5zmNDY4Cz4Zw6sEFCF97A  9-GNhPL4PBL2FOJc28KPMA   5.0        5.0  0.0   \n",
       "38774  aTe7Vwje6OVE0lj0UaKeeA  kN9MQJzWErsPyXzfxgx2_Q   5.0        5.0  0.0   \n",
       "8657   bJguBxPlnTW29tRTAF0nkQ  R1jJQi2yR44D_2ileqr8kA   5.0        5.0  0.0   \n",
       "33313  SIqENP8MSWUaaN78usHnOA  FGy4UJ1Qri_KruPZiPmWYQ   5.0        5.0  0.0   \n",
       "19285  tydr_aiJwG9U0T3D11fzfw  6kq9oLduJAYkb2WjAb36KA   5.0        5.0  0.0   \n",
       "7272   SEW_Ej5nXB2MxXMWQSaljg  ExtP8z3SVyut_RICc9i_DA   5.0        5.0  0.0   \n",
       "15209  NvTI0n5PhXdJYxTtRPRzrw  3C0bnFhjkgYP9mWORKg6cA   5.0        5.0  0.0   \n",
       "27084  SDW1CI0lKomYCatL0JXO1w  hggVnGwA5042-ABxqeJX-A   5.0        5.0  0.0   \n",
       "25570  avkCj6jnszCk1pe1XlTDHQ  XgRljuEUyaHBKIpIz-PRAA   5.0        5.0  0.0   \n",
       "15228  Np8AWIdNVVN5txplNJMApA  zpGCFAt_MydbQN4EsXee6w   5.0        5.0  0.0   \n",
       "2982   -ZlBgVsg4Jw_S8LrjtlQ2w  LRwkfgrkxxzLG24grsHkWw   5.0        5.0  0.0   \n",
       "5826   b2UBm3O-sa8rUGwiwmpqTg  6Pbrq60mA56WQU7SENbG0g   5.0        5.0  0.0   \n",
       "8659   9Y7QivLeKXZ5URLcVQ00-w  T1ezuBwruKcJWGKlNTkRNw   5.0        5.0  0.0   \n",
       "41232  U71g1EIo1jLvJLj1xoj3zA  Rs-VhTqmuAdHg3CGGUr4Dg   5.0        5.0  0.0   \n",
       "31828  da3c5JxFodELNn2WkKxIeg  KEGLWeFAWXvo0W2LnujhtQ   5.0        5.0  0.0   \n",
       "17334  da3c5JxFodELNn2WkKxIeg  DQIZ35zW26988gl4q_fDHA   5.0        5.0  0.0   \n",
       "42567  7a39HGslWKO1WsFzJ_S-qQ  jRxLnJ9my31Re_O2MvQGhw   5.0        5.0  0.0   \n",
       "1497   YPRrpSxT0HvzSJ04y1Hplg  OWByE1i1tjPB5i5mSprDJw   5.0        5.0  0.0   \n",
       "25175  hTjUo_DmadNEHfCVHJ-R6Q  7HbKKqXtZUjf6uVSHZ8wyw   5.0        5.0  0.0   \n",
       "27571  IAMehA5wqbpZf5IfgM072Q  ZdFl7MqnF09dcifG1j7l_w   1.0        1.0  0.0   \n",
       "11156  uQ2w3yMEYxcspPrZLKObVw  RVQE2Z2uky4c0-njFQO66g   5.0        5.0  0.0   \n",
       "9342   SjvZj-PpWRQr7TLKS7T1Rw  YxwxKqemcKwV4vIQXhVv_w   5.0        5.0  0.0   \n",
       "23608  97GtXojQrF6sct0luiDZrA  zpGCFAt_MydbQN4EsXee6w   5.0        5.0  0.0   \n",
       "40855  dEEuPANA0PhGNCfa5IW55w  iYT30UPGmLdmTRaAKz0Vvw   5.0        5.0  0.0   \n",
       "35667  huUG47ciWyCYujKeP0fO-w  IIUK1lz_1upqYtHu8ZuClA   5.0        5.0  0.0   \n",
       "37252  avkCj6jnszCk1pe1XlTDHQ  ZdqiRrUik1GWAcMWb2iBdw   5.0        5.0  0.0   \n",
       "12244  oaCl7cv19ZXOSK21Hhh9GA  1_pgCgtK2kiM7SyXWbznYQ   5.0        5.0  0.0   \n",
       "11199  SIqENP8MSWUaaN78usHnOA  eZDXz_RylvdD0tHEA8I0NA   5.0        5.0  0.0   \n",
       "124    TnvayOTx4hObOo0LYIpHhA  3C0bnFhjkgYP9mWORKg6cA   5.0        5.0  0.0   \n",
       "18938  eIFrsk3LTWThDTtyJNw0Qg  m3XOBJyAJIWEJJUpngVLLw   5.0        5.0  0.0   \n",
       "31335  rh27ydFpR-fOIA2BhB2Z5g  GrJ74hxJsXXwcqS7zcfFhw   5.0        5.0  0.0   \n",
       "15125  KUZ8w538GlVDrfrmex2zhw  KaxjIAYLhqXN8-p_iZwgBw   5.0        5.0  0.0   \n",
       "41013  avkCj6jnszCk1pe1XlTDHQ  4xsgyzyQ5K50AMkc4CoZEA   5.0        5.0  0.0   \n",
       "9942   FQS5OdzaDhPq1q3ZcBTNmg  YxwxKqemcKwV4vIQXhVv_w   5.0        5.0  0.0   \n",
       "3201   zWA0pKXHS0QH8rdf_kvUDw  0LPVkxZ-Ab9Jx6_ytA-Yew   5.0        5.0  0.0   \n",
       "42394  7laUpzZ1127tAipFa6iXLw  ytGKbV7hRC6RkExo1NItEA   5.0        5.0  0.0   \n",
       "491    rj10hcbfLHAF7SB9CXEkRA  eAZqT24e0Pk8apWzy3RsAQ   5.0        5.0  0.0   \n",
       "2967   P0g72ss7P25E4A1Sb-LT_A  5Day_lf10DyvKk9tmKqjRA   5.0        5.0  0.0   \n",
       "4549   da3c5JxFodELNn2WkKxIeg  K86vnjM11Kkz8532qi0LqQ   5.0        5.0  0.0   \n",
       "41268  nvHJFFr5R74ug5NOh2VDPg  xJAXkMIgnWNpqyGCosmp2Q   5.0        5.0  0.0   \n",
       "17190  gMB0_OdKhCFfSjM_occ76g  TenNB5TtwPxJ5EoZQ4WjaA   5.0        5.0  0.0   \n",
       "\n",
       "       user_totals  item_totals  \n",
       "29495           46            9  \n",
       "34010            7          135  \n",
       "35731            7            3  \n",
       "35739           22          206  \n",
       "41119           19           65  \n",
       "15191            7          131  \n",
       "29514           19           45  \n",
       "42305           27           41  \n",
       "22940           46          175  \n",
       "27142            7           27  \n",
       "38774            8           19  \n",
       "8657            20          216  \n",
       "33313            6          239  \n",
       "19285            7          191  \n",
       "7272            30          132  \n",
       "15209           32           78  \n",
       "27084            7          419  \n",
       "25570           51          361  \n",
       "15228           11          137  \n",
       "2982            12           39  \n",
       "5826            49          106  \n",
       "8659             7           19  \n",
       "41232           18           33  \n",
       "31828           17          212  \n",
       "17334           17          107  \n",
       "42567            2           56  \n",
       "1497            16           19  \n",
       "25175           46          175  \n",
       "27571            9           30  \n",
       "11156           22          737  \n",
       "9342            35          138  \n",
       "23608           20          137  \n",
       "40855            5          138  \n",
       "35667            4          128  \n",
       "37252           51           89  \n",
       "12244           33           39  \n",
       "11199            6          310  \n",
       "124              2           78  \n",
       "18938           11          164  \n",
       "31335            9          104  \n",
       "15125           27           46  \n",
       "41013           51           31  \n",
       "9942            11          138  \n",
       "3201             9          107  \n",
       "42394           13           33  \n",
       "491             16          201  \n",
       "2967            65           60  \n",
       "4549            17           24  \n",
       "41268           46          145  \n",
       "17190           22           76  "
      ]
     },
     "execution_count": 378,
     "metadata": {},
     "output_type": "execute_result"
    }
   ],
   "source": [
    "best_predictions"
   ]
  },
  {
   "cell_type": "code",
   "execution_count": 379,
   "metadata": {},
   "outputs": [
    {
     "data": {
      "text/html": [
       "<div>\n",
       "<style scoped>\n",
       "    .dataframe tbody tr th:only-of-type {\n",
       "        vertical-align: middle;\n",
       "    }\n",
       "\n",
       "    .dataframe tbody tr th {\n",
       "        vertical-align: top;\n",
       "    }\n",
       "\n",
       "    .dataframe thead th {\n",
       "        text-align: right;\n",
       "    }\n",
       "</style>\n",
       "<table border=\"1\" class=\"dataframe\">\n",
       "  <thead>\n",
       "    <tr style=\"text-align: right;\">\n",
       "      <th></th>\n",
       "      <th>uid</th>\n",
       "      <th>iid</th>\n",
       "      <th>true</th>\n",
       "      <th>predicted</th>\n",
       "      <th>err</th>\n",
       "      <th>user_totals</th>\n",
       "      <th>item_totals</th>\n",
       "    </tr>\n",
       "  </thead>\n",
       "  <tbody>\n",
       "    <tr>\n",
       "      <th>29633</th>\n",
       "      <td>pInF8FmKgca-OKKr02SvjA</td>\n",
       "      <td>YqjDX0TPge-EB73uzgyS3w</td>\n",
       "      <td>1.0</td>\n",
       "      <td>4.494515</td>\n",
       "      <td>3.494515</td>\n",
       "      <td>20</td>\n",
       "      <td>82</td>\n",
       "    </tr>\n",
       "    <tr>\n",
       "      <th>20609</th>\n",
       "      <td>5QU93DVWP7PpTnx0HXunYw</td>\n",
       "      <td>3vkP6t_kKN3JT8MMUaBVEA</td>\n",
       "      <td>1.0</td>\n",
       "      <td>4.495046</td>\n",
       "      <td>3.495046</td>\n",
       "      <td>16</td>\n",
       "      <td>205</td>\n",
       "    </tr>\n",
       "    <tr>\n",
       "      <th>31124</th>\n",
       "      <td>K1osyO04_hXoDKyGqe_V2Q</td>\n",
       "      <td>vqG1Z2XpS_PryPsfY0CSng</td>\n",
       "      <td>1.0</td>\n",
       "      <td>4.496045</td>\n",
       "      <td>3.496045</td>\n",
       "      <td>45</td>\n",
       "      <td>230</td>\n",
       "    </tr>\n",
       "    <tr>\n",
       "      <th>13737</th>\n",
       "      <td>DL9Y_FZEnMxajkWeaBC3Wg</td>\n",
       "      <td>dCHNk6OqM-bYH9JHRZxwvg</td>\n",
       "      <td>1.0</td>\n",
       "      <td>4.496730</td>\n",
       "      <td>3.496730</td>\n",
       "      <td>3</td>\n",
       "      <td>19</td>\n",
       "    </tr>\n",
       "    <tr>\n",
       "      <th>11542</th>\n",
       "      <td>hZynhePSGtDHJWY7Dx50tg</td>\n",
       "      <td>VgRcUx2ezIk24DKMSH2YEA</td>\n",
       "      <td>1.0</td>\n",
       "      <td>4.506179</td>\n",
       "      <td>3.506179</td>\n",
       "      <td>4</td>\n",
       "      <td>37</td>\n",
       "    </tr>\n",
       "    <tr>\n",
       "      <th>26074</th>\n",
       "      <td>H_BeLMBBUXg0JRqa_tkomg</td>\n",
       "      <td>nHdsHdq35JflGzliWVqG-Q</td>\n",
       "      <td>1.0</td>\n",
       "      <td>4.510243</td>\n",
       "      <td>3.510243</td>\n",
       "      <td>1</td>\n",
       "      <td>64</td>\n",
       "    </tr>\n",
       "    <tr>\n",
       "      <th>7455</th>\n",
       "      <td>aJcgNs1SaKepTGSxEidedw</td>\n",
       "      <td>qC9ivAdl47BcZdlbW7ffLg</td>\n",
       "      <td>1.0</td>\n",
       "      <td>4.510788</td>\n",
       "      <td>3.510788</td>\n",
       "      <td>78</td>\n",
       "      <td>65</td>\n",
       "    </tr>\n",
       "    <tr>\n",
       "      <th>35695</th>\n",
       "      <td>aJcgNs1SaKepTGSxEidedw</td>\n",
       "      <td>qC9ivAdl47BcZdlbW7ffLg</td>\n",
       "      <td>1.0</td>\n",
       "      <td>4.510788</td>\n",
       "      <td>3.510788</td>\n",
       "      <td>78</td>\n",
       "      <td>65</td>\n",
       "    </tr>\n",
       "    <tr>\n",
       "      <th>25834</th>\n",
       "      <td>ZkGpYPgRwihMgRQKsxBaww</td>\n",
       "      <td>ytGKbV7hRC6RkExo1NItEA</td>\n",
       "      <td>1.0</td>\n",
       "      <td>4.511644</td>\n",
       "      <td>3.511644</td>\n",
       "      <td>0</td>\n",
       "      <td>33</td>\n",
       "    </tr>\n",
       "    <tr>\n",
       "      <th>29993</th>\n",
       "      <td>bSXpj3DcGFjRTIlFVQIroA</td>\n",
       "      <td>V0iYi5OjdRcz82m95jV7vQ</td>\n",
       "      <td>1.0</td>\n",
       "      <td>4.518983</td>\n",
       "      <td>3.518983</td>\n",
       "      <td>4</td>\n",
       "      <td>67</td>\n",
       "    </tr>\n",
       "    <tr>\n",
       "      <th>37467</th>\n",
       "      <td>bGLHnUOiqnQBN3unkt6yKw</td>\n",
       "      <td>ATMiPNPxN-g1ra7nar5prA</td>\n",
       "      <td>1.0</td>\n",
       "      <td>4.522963</td>\n",
       "      <td>3.522963</td>\n",
       "      <td>7</td>\n",
       "      <td>115</td>\n",
       "    </tr>\n",
       "    <tr>\n",
       "      <th>15895</th>\n",
       "      <td>tDMfIVVzZcRnLcS8jL25Yg</td>\n",
       "      <td>bcTwvbD5wfMSgSO-YczLYw</td>\n",
       "      <td>1.0</td>\n",
       "      <td>4.525002</td>\n",
       "      <td>3.525002</td>\n",
       "      <td>1</td>\n",
       "      <td>164</td>\n",
       "    </tr>\n",
       "    <tr>\n",
       "      <th>2908</th>\n",
       "      <td>6xTKq5PcNyIP-UD9DC9svQ</td>\n",
       "      <td>yOBDY3fpaTpX4Q5JpmExMg</td>\n",
       "      <td>1.0</td>\n",
       "      <td>4.531374</td>\n",
       "      <td>3.531374</td>\n",
       "      <td>16</td>\n",
       "      <td>67</td>\n",
       "    </tr>\n",
       "    <tr>\n",
       "      <th>19301</th>\n",
       "      <td>vl-pBH7_SI8hardC5eRqzw</td>\n",
       "      <td>ofpuVYCw6VCkybFVIdwYEQ</td>\n",
       "      <td>1.0</td>\n",
       "      <td>4.537106</td>\n",
       "      <td>3.537106</td>\n",
       "      <td>3</td>\n",
       "      <td>142</td>\n",
       "    </tr>\n",
       "    <tr>\n",
       "      <th>15027</th>\n",
       "      <td>LP9j1YqgWPJGw1zY_LRuzg</td>\n",
       "      <td>2mVqpQyyeRK44VxNAYMuAw</td>\n",
       "      <td>1.0</td>\n",
       "      <td>4.543132</td>\n",
       "      <td>3.543132</td>\n",
       "      <td>38</td>\n",
       "      <td>33</td>\n",
       "    </tr>\n",
       "    <tr>\n",
       "      <th>16978</th>\n",
       "      <td>YHfmDXlWaYITUJp3eX1qTw</td>\n",
       "      <td>kNa3FvRAhM2oKYFoilVDzQ</td>\n",
       "      <td>1.0</td>\n",
       "      <td>4.545608</td>\n",
       "      <td>3.545608</td>\n",
       "      <td>2</td>\n",
       "      <td>146</td>\n",
       "    </tr>\n",
       "    <tr>\n",
       "      <th>23066</th>\n",
       "      <td>Qg37v436vnVD4hzvZ4xhVg</td>\n",
       "      <td>NhwwW_5JxYHQE4Zlfhu_5w</td>\n",
       "      <td>1.0</td>\n",
       "      <td>4.548930</td>\n",
       "      <td>3.548930</td>\n",
       "      <td>5</td>\n",
       "      <td>38</td>\n",
       "    </tr>\n",
       "    <tr>\n",
       "      <th>33023</th>\n",
       "      <td>SuE4CHzTJL8zAQzAT_ijiQ</td>\n",
       "      <td>KcA34Wf9fg-sA7O4VaK5kA</td>\n",
       "      <td>1.0</td>\n",
       "      <td>4.566603</td>\n",
       "      <td>3.566603</td>\n",
       "      <td>3</td>\n",
       "      <td>65</td>\n",
       "    </tr>\n",
       "    <tr>\n",
       "      <th>12425</th>\n",
       "      <td>B4SdA41z2L6IJGfGRCoTwQ</td>\n",
       "      <td>sdYkVaTy7EJwUkO8Ie_qPg</td>\n",
       "      <td>1.0</td>\n",
       "      <td>4.573139</td>\n",
       "      <td>3.573139</td>\n",
       "      <td>1</td>\n",
       "      <td>469</td>\n",
       "    </tr>\n",
       "    <tr>\n",
       "      <th>10831</th>\n",
       "      <td>YscjZezxLirEjK_bK82uAw</td>\n",
       "      <td>fzrLcoVywMhMc_vjEigaDg</td>\n",
       "      <td>1.0</td>\n",
       "      <td>4.579451</td>\n",
       "      <td>3.579451</td>\n",
       "      <td>80</td>\n",
       "      <td>24</td>\n",
       "    </tr>\n",
       "    <tr>\n",
       "      <th>8676</th>\n",
       "      <td>ayq5PjZ50RMRonyh1GuWYg</td>\n",
       "      <td>bFneaB_EoGdDfIi5z6jnyw</td>\n",
       "      <td>1.0</td>\n",
       "      <td>4.579797</td>\n",
       "      <td>3.579797</td>\n",
       "      <td>14</td>\n",
       "      <td>19</td>\n",
       "    </tr>\n",
       "    <tr>\n",
       "      <th>33659</th>\n",
       "      <td>zSblIQYZhN0gauAhIx46Tg</td>\n",
       "      <td>KcA34Wf9fg-sA7O4VaK5kA</td>\n",
       "      <td>1.0</td>\n",
       "      <td>4.585334</td>\n",
       "      <td>3.585334</td>\n",
       "      <td>24</td>\n",
       "      <td>65</td>\n",
       "    </tr>\n",
       "    <tr>\n",
       "      <th>39201</th>\n",
       "      <td>9V-S12NTkhXc5goGN5Dfbg</td>\n",
       "      <td>rv0-ZcAbWkvpomaK0BhQrA</td>\n",
       "      <td>1.0</td>\n",
       "      <td>4.590879</td>\n",
       "      <td>3.590879</td>\n",
       "      <td>15</td>\n",
       "      <td>82</td>\n",
       "    </tr>\n",
       "    <tr>\n",
       "      <th>26576</th>\n",
       "      <td>O3cItff0mKAfXtl5VmbW2w</td>\n",
       "      <td>8xlME4uNKp1X_-KXmrJOUg</td>\n",
       "      <td>1.0</td>\n",
       "      <td>4.592607</td>\n",
       "      <td>3.592607</td>\n",
       "      <td>61</td>\n",
       "      <td>42</td>\n",
       "    </tr>\n",
       "    <tr>\n",
       "      <th>28074</th>\n",
       "      <td>AL4ef6IZAw9YwIfXw61ZyA</td>\n",
       "      <td>RcB7STNxoSDjtoK1pXgWBg</td>\n",
       "      <td>1.0</td>\n",
       "      <td>4.605608</td>\n",
       "      <td>3.605608</td>\n",
       "      <td>12</td>\n",
       "      <td>184</td>\n",
       "    </tr>\n",
       "    <tr>\n",
       "      <th>12869</th>\n",
       "      <td>vEXQPLOCIgYoNXeekjL2aQ</td>\n",
       "      <td>E3BTs8yFlVbZd20TknY00A</td>\n",
       "      <td>1.0</td>\n",
       "      <td>4.611493</td>\n",
       "      <td>3.611493</td>\n",
       "      <td>66</td>\n",
       "      <td>176</td>\n",
       "    </tr>\n",
       "    <tr>\n",
       "      <th>28932</th>\n",
       "      <td>mQ2SbSFo6u66_3-JQhR47g</td>\n",
       "      <td>6Pbrq60mA56WQU7SENbG0g</td>\n",
       "      <td>1.0</td>\n",
       "      <td>4.618216</td>\n",
       "      <td>3.618216</td>\n",
       "      <td>2</td>\n",
       "      <td>106</td>\n",
       "    </tr>\n",
       "    <tr>\n",
       "      <th>43141</th>\n",
       "      <td>EP_N1rfQ40re4kJzADE-Pg</td>\n",
       "      <td>9wCP-MP2B1Yi7EzsM0H0ew</td>\n",
       "      <td>1.0</td>\n",
       "      <td>4.618333</td>\n",
       "      <td>3.618333</td>\n",
       "      <td>2</td>\n",
       "      <td>17</td>\n",
       "    </tr>\n",
       "    <tr>\n",
       "      <th>26761</th>\n",
       "      <td>d4O272njR9F1TydrEG8TDw</td>\n",
       "      <td>sdYkVaTy7EJwUkO8Ie_qPg</td>\n",
       "      <td>1.0</td>\n",
       "      <td>4.629525</td>\n",
       "      <td>3.629525</td>\n",
       "      <td>7</td>\n",
       "      <td>469</td>\n",
       "    </tr>\n",
       "    <tr>\n",
       "      <th>28058</th>\n",
       "      <td>ca0UOOcpiDD5UUMq4_YOPA</td>\n",
       "      <td>Rm-Vq0RF_cCcXsR6DaTkww</td>\n",
       "      <td>1.0</td>\n",
       "      <td>4.633323</td>\n",
       "      <td>3.633323</td>\n",
       "      <td>6</td>\n",
       "      <td>74</td>\n",
       "    </tr>\n",
       "    <tr>\n",
       "      <th>42618</th>\n",
       "      <td>rPGSrUr8MNLEsaJ3jUaCmA</td>\n",
       "      <td>XPPt-Z9t3LWhsomIpQ-Thw</td>\n",
       "      <td>1.0</td>\n",
       "      <td>4.647992</td>\n",
       "      <td>3.647992</td>\n",
       "      <td>3</td>\n",
       "      <td>30</td>\n",
       "    </tr>\n",
       "    <tr>\n",
       "      <th>37471</th>\n",
       "      <td>XP33zoFsOY3JbNcUE0YtpQ</td>\n",
       "      <td>yatT2q_zmb4-yvzr9Bx5lA</td>\n",
       "      <td>1.0</td>\n",
       "      <td>4.651390</td>\n",
       "      <td>3.651390</td>\n",
       "      <td>10</td>\n",
       "      <td>54</td>\n",
       "    </tr>\n",
       "    <tr>\n",
       "      <th>12438</th>\n",
       "      <td>e6GGaBI9yWcUWbB9Xb4A9w</td>\n",
       "      <td>sAXy1yJRLllTm5WrJbJGAA</td>\n",
       "      <td>1.0</td>\n",
       "      <td>4.657205</td>\n",
       "      <td>3.657205</td>\n",
       "      <td>3</td>\n",
       "      <td>210</td>\n",
       "    </tr>\n",
       "    <tr>\n",
       "      <th>14261</th>\n",
       "      <td>fN1uGkEEv_rlx8dxePu1_w</td>\n",
       "      <td>38LootZ9dawR1KpVHCNLeA</td>\n",
       "      <td>1.0</td>\n",
       "      <td>4.660605</td>\n",
       "      <td>3.660605</td>\n",
       "      <td>10</td>\n",
       "      <td>26</td>\n",
       "    </tr>\n",
       "    <tr>\n",
       "      <th>19210</th>\n",
       "      <td>NS-jXsFP8NWJc8vToS8uPg</td>\n",
       "      <td>gnKjwL_1w79qoiV3IC_xQQ</td>\n",
       "      <td>1.0</td>\n",
       "      <td>4.661448</td>\n",
       "      <td>3.661448</td>\n",
       "      <td>3</td>\n",
       "      <td>112</td>\n",
       "    </tr>\n",
       "    <tr>\n",
       "      <th>17081</th>\n",
       "      <td>HKfb-1hrvnX26Wue8c4w3g</td>\n",
       "      <td>xJAXkMIgnWNpqyGCosmp2Q</td>\n",
       "      <td>1.0</td>\n",
       "      <td>4.675355</td>\n",
       "      <td>3.675355</td>\n",
       "      <td>7</td>\n",
       "      <td>145</td>\n",
       "    </tr>\n",
       "    <tr>\n",
       "      <th>16023</th>\n",
       "      <td>aIK2Pc2j6BwPNDO03woXvQ</td>\n",
       "      <td>9Xm2GfG8Rnbb1_CmXyrm3g</td>\n",
       "      <td>1.0</td>\n",
       "      <td>4.679346</td>\n",
       "      <td>3.679346</td>\n",
       "      <td>9</td>\n",
       "      <td>71</td>\n",
       "    </tr>\n",
       "    <tr>\n",
       "      <th>5077</th>\n",
       "      <td>IkbpHuciH0SQ_yy39D7Eog</td>\n",
       "      <td>JePoHo0qm7lHd2Nsg3zA3w</td>\n",
       "      <td>1.0</td>\n",
       "      <td>4.693798</td>\n",
       "      <td>3.693798</td>\n",
       "      <td>3</td>\n",
       "      <td>63</td>\n",
       "    </tr>\n",
       "    <tr>\n",
       "      <th>28340</th>\n",
       "      <td>dKeYhtFgsc9E24trvx8FUQ</td>\n",
       "      <td>RVQE2Z2uky4c0-njFQO66g</td>\n",
       "      <td>1.0</td>\n",
       "      <td>4.698087</td>\n",
       "      <td>3.698087</td>\n",
       "      <td>33</td>\n",
       "      <td>737</td>\n",
       "    </tr>\n",
       "    <tr>\n",
       "      <th>19183</th>\n",
       "      <td>14j39CU0NQOlsBFlZRHoVw</td>\n",
       "      <td>SgmcmNsJQ8IQ6balS_kotw</td>\n",
       "      <td>1.0</td>\n",
       "      <td>4.714019</td>\n",
       "      <td>3.714019</td>\n",
       "      <td>10</td>\n",
       "      <td>89</td>\n",
       "    </tr>\n",
       "    <tr>\n",
       "      <th>14851</th>\n",
       "      <td>0sS21dFMpkgudgnAMfdOIQ</td>\n",
       "      <td>FGy4UJ1Qri_KruPZiPmWYQ</td>\n",
       "      <td>1.0</td>\n",
       "      <td>4.727414</td>\n",
       "      <td>3.727414</td>\n",
       "      <td>9</td>\n",
       "      <td>239</td>\n",
       "    </tr>\n",
       "    <tr>\n",
       "      <th>31107</th>\n",
       "      <td>NZbft3iS9rFG0KI4OlN7Tg</td>\n",
       "      <td>NFm869_w6cvVaWaNpAzjeA</td>\n",
       "      <td>1.0</td>\n",
       "      <td>4.735344</td>\n",
       "      <td>3.735344</td>\n",
       "      <td>19</td>\n",
       "      <td>556</td>\n",
       "    </tr>\n",
       "    <tr>\n",
       "      <th>29883</th>\n",
       "      <td>i-2mrFKlOFAtp7PAtkW8Kw</td>\n",
       "      <td>uX2hjcnQIszqyNKqPP9e1g</td>\n",
       "      <td>1.0</td>\n",
       "      <td>4.763629</td>\n",
       "      <td>3.763629</td>\n",
       "      <td>4</td>\n",
       "      <td>77</td>\n",
       "    </tr>\n",
       "    <tr>\n",
       "      <th>41615</th>\n",
       "      <td>wu8YXeG8FVGqQ5S0GIuE3w</td>\n",
       "      <td>eCeFBHucdjbZkJlry8EALw</td>\n",
       "      <td>1.0</td>\n",
       "      <td>4.763798</td>\n",
       "      <td>3.763798</td>\n",
       "      <td>4</td>\n",
       "      <td>108</td>\n",
       "    </tr>\n",
       "    <tr>\n",
       "      <th>3767</th>\n",
       "      <td>Chzcoy_mg6WQohk6WdeW4g</td>\n",
       "      <td>yWUBX9Pe6pzh1PjVj04UmQ</td>\n",
       "      <td>1.0</td>\n",
       "      <td>4.780352</td>\n",
       "      <td>3.780352</td>\n",
       "      <td>8</td>\n",
       "      <td>296</td>\n",
       "    </tr>\n",
       "    <tr>\n",
       "      <th>38150</th>\n",
       "      <td>1jbAZCXnpbO1GmjhXvO7Ew</td>\n",
       "      <td>xJAXkMIgnWNpqyGCosmp2Q</td>\n",
       "      <td>1.0</td>\n",
       "      <td>4.875625</td>\n",
       "      <td>3.875625</td>\n",
       "      <td>13</td>\n",
       "      <td>145</td>\n",
       "    </tr>\n",
       "    <tr>\n",
       "      <th>33124</th>\n",
       "      <td>fHmLUdPQ7KPWxY23Tc0udA</td>\n",
       "      <td>rb4d1_OtpVD91J5NDp4Y3w</td>\n",
       "      <td>1.0</td>\n",
       "      <td>4.962114</td>\n",
       "      <td>3.962114</td>\n",
       "      <td>13</td>\n",
       "      <td>187</td>\n",
       "    </tr>\n",
       "    <tr>\n",
       "      <th>41981</th>\n",
       "      <td>98D4Nr5H6WcbYhAyG8GsIw</td>\n",
       "      <td>QvxBnMcBPP1z_NAIYCqqdA</td>\n",
       "      <td>1.0</td>\n",
       "      <td>4.978335</td>\n",
       "      <td>3.978335</td>\n",
       "      <td>23</td>\n",
       "      <td>483</td>\n",
       "    </tr>\n",
       "    <tr>\n",
       "      <th>18548</th>\n",
       "      <td>rmhbB1LIfcZjxhUZ1E0BYQ</td>\n",
       "      <td>4xsgyzyQ5K50AMkc4CoZEA</td>\n",
       "      <td>1.0</td>\n",
       "      <td>5.000000</td>\n",
       "      <td>4.000000</td>\n",
       "      <td>9</td>\n",
       "      <td>31</td>\n",
       "    </tr>\n",
       "    <tr>\n",
       "      <th>1235</th>\n",
       "      <td>nCuv2BqIYecLYyJDD7OkVQ</td>\n",
       "      <td>YiuMBA2u2F_WR3kOIuW_iw</td>\n",
       "      <td>1.0</td>\n",
       "      <td>5.000000</td>\n",
       "      <td>4.000000</td>\n",
       "      <td>25</td>\n",
       "      <td>49</td>\n",
       "    </tr>\n",
       "  </tbody>\n",
       "</table>\n",
       "</div>"
      ],
      "text/plain": [
       "                          uid                     iid  true  predicted  \\\n",
       "29633  pInF8FmKgca-OKKr02SvjA  YqjDX0TPge-EB73uzgyS3w   1.0   4.494515   \n",
       "20609  5QU93DVWP7PpTnx0HXunYw  3vkP6t_kKN3JT8MMUaBVEA   1.0   4.495046   \n",
       "31124  K1osyO04_hXoDKyGqe_V2Q  vqG1Z2XpS_PryPsfY0CSng   1.0   4.496045   \n",
       "13737  DL9Y_FZEnMxajkWeaBC3Wg  dCHNk6OqM-bYH9JHRZxwvg   1.0   4.496730   \n",
       "11542  hZynhePSGtDHJWY7Dx50tg  VgRcUx2ezIk24DKMSH2YEA   1.0   4.506179   \n",
       "26074  H_BeLMBBUXg0JRqa_tkomg  nHdsHdq35JflGzliWVqG-Q   1.0   4.510243   \n",
       "7455   aJcgNs1SaKepTGSxEidedw  qC9ivAdl47BcZdlbW7ffLg   1.0   4.510788   \n",
       "35695  aJcgNs1SaKepTGSxEidedw  qC9ivAdl47BcZdlbW7ffLg   1.0   4.510788   \n",
       "25834  ZkGpYPgRwihMgRQKsxBaww  ytGKbV7hRC6RkExo1NItEA   1.0   4.511644   \n",
       "29993  bSXpj3DcGFjRTIlFVQIroA  V0iYi5OjdRcz82m95jV7vQ   1.0   4.518983   \n",
       "37467  bGLHnUOiqnQBN3unkt6yKw  ATMiPNPxN-g1ra7nar5prA   1.0   4.522963   \n",
       "15895  tDMfIVVzZcRnLcS8jL25Yg  bcTwvbD5wfMSgSO-YczLYw   1.0   4.525002   \n",
       "2908   6xTKq5PcNyIP-UD9DC9svQ  yOBDY3fpaTpX4Q5JpmExMg   1.0   4.531374   \n",
       "19301  vl-pBH7_SI8hardC5eRqzw  ofpuVYCw6VCkybFVIdwYEQ   1.0   4.537106   \n",
       "15027  LP9j1YqgWPJGw1zY_LRuzg  2mVqpQyyeRK44VxNAYMuAw   1.0   4.543132   \n",
       "16978  YHfmDXlWaYITUJp3eX1qTw  kNa3FvRAhM2oKYFoilVDzQ   1.0   4.545608   \n",
       "23066  Qg37v436vnVD4hzvZ4xhVg  NhwwW_5JxYHQE4Zlfhu_5w   1.0   4.548930   \n",
       "33023  SuE4CHzTJL8zAQzAT_ijiQ  KcA34Wf9fg-sA7O4VaK5kA   1.0   4.566603   \n",
       "12425  B4SdA41z2L6IJGfGRCoTwQ  sdYkVaTy7EJwUkO8Ie_qPg   1.0   4.573139   \n",
       "10831  YscjZezxLirEjK_bK82uAw  fzrLcoVywMhMc_vjEigaDg   1.0   4.579451   \n",
       "8676   ayq5PjZ50RMRonyh1GuWYg  bFneaB_EoGdDfIi5z6jnyw   1.0   4.579797   \n",
       "33659  zSblIQYZhN0gauAhIx46Tg  KcA34Wf9fg-sA7O4VaK5kA   1.0   4.585334   \n",
       "39201  9V-S12NTkhXc5goGN5Dfbg  rv0-ZcAbWkvpomaK0BhQrA   1.0   4.590879   \n",
       "26576  O3cItff0mKAfXtl5VmbW2w  8xlME4uNKp1X_-KXmrJOUg   1.0   4.592607   \n",
       "28074  AL4ef6IZAw9YwIfXw61ZyA  RcB7STNxoSDjtoK1pXgWBg   1.0   4.605608   \n",
       "12869  vEXQPLOCIgYoNXeekjL2aQ  E3BTs8yFlVbZd20TknY00A   1.0   4.611493   \n",
       "28932  mQ2SbSFo6u66_3-JQhR47g  6Pbrq60mA56WQU7SENbG0g   1.0   4.618216   \n",
       "43141  EP_N1rfQ40re4kJzADE-Pg  9wCP-MP2B1Yi7EzsM0H0ew   1.0   4.618333   \n",
       "26761  d4O272njR9F1TydrEG8TDw  sdYkVaTy7EJwUkO8Ie_qPg   1.0   4.629525   \n",
       "28058  ca0UOOcpiDD5UUMq4_YOPA  Rm-Vq0RF_cCcXsR6DaTkww   1.0   4.633323   \n",
       "42618  rPGSrUr8MNLEsaJ3jUaCmA  XPPt-Z9t3LWhsomIpQ-Thw   1.0   4.647992   \n",
       "37471  XP33zoFsOY3JbNcUE0YtpQ  yatT2q_zmb4-yvzr9Bx5lA   1.0   4.651390   \n",
       "12438  e6GGaBI9yWcUWbB9Xb4A9w  sAXy1yJRLllTm5WrJbJGAA   1.0   4.657205   \n",
       "14261  fN1uGkEEv_rlx8dxePu1_w  38LootZ9dawR1KpVHCNLeA   1.0   4.660605   \n",
       "19210  NS-jXsFP8NWJc8vToS8uPg  gnKjwL_1w79qoiV3IC_xQQ   1.0   4.661448   \n",
       "17081  HKfb-1hrvnX26Wue8c4w3g  xJAXkMIgnWNpqyGCosmp2Q   1.0   4.675355   \n",
       "16023  aIK2Pc2j6BwPNDO03woXvQ  9Xm2GfG8Rnbb1_CmXyrm3g   1.0   4.679346   \n",
       "5077   IkbpHuciH0SQ_yy39D7Eog  JePoHo0qm7lHd2Nsg3zA3w   1.0   4.693798   \n",
       "28340  dKeYhtFgsc9E24trvx8FUQ  RVQE2Z2uky4c0-njFQO66g   1.0   4.698087   \n",
       "19183  14j39CU0NQOlsBFlZRHoVw  SgmcmNsJQ8IQ6balS_kotw   1.0   4.714019   \n",
       "14851  0sS21dFMpkgudgnAMfdOIQ  FGy4UJ1Qri_KruPZiPmWYQ   1.0   4.727414   \n",
       "31107  NZbft3iS9rFG0KI4OlN7Tg  NFm869_w6cvVaWaNpAzjeA   1.0   4.735344   \n",
       "29883  i-2mrFKlOFAtp7PAtkW8Kw  uX2hjcnQIszqyNKqPP9e1g   1.0   4.763629   \n",
       "41615  wu8YXeG8FVGqQ5S0GIuE3w  eCeFBHucdjbZkJlry8EALw   1.0   4.763798   \n",
       "3767   Chzcoy_mg6WQohk6WdeW4g  yWUBX9Pe6pzh1PjVj04UmQ   1.0   4.780352   \n",
       "38150  1jbAZCXnpbO1GmjhXvO7Ew  xJAXkMIgnWNpqyGCosmp2Q   1.0   4.875625   \n",
       "33124  fHmLUdPQ7KPWxY23Tc0udA  rb4d1_OtpVD91J5NDp4Y3w   1.0   4.962114   \n",
       "41981  98D4Nr5H6WcbYhAyG8GsIw  QvxBnMcBPP1z_NAIYCqqdA   1.0   4.978335   \n",
       "18548  rmhbB1LIfcZjxhUZ1E0BYQ  4xsgyzyQ5K50AMkc4CoZEA   1.0   5.000000   \n",
       "1235   nCuv2BqIYecLYyJDD7OkVQ  YiuMBA2u2F_WR3kOIuW_iw   1.0   5.000000   \n",
       "\n",
       "            err  user_totals  item_totals  \n",
       "29633  3.494515           20           82  \n",
       "20609  3.495046           16          205  \n",
       "31124  3.496045           45          230  \n",
       "13737  3.496730            3           19  \n",
       "11542  3.506179            4           37  \n",
       "26074  3.510243            1           64  \n",
       "7455   3.510788           78           65  \n",
       "35695  3.510788           78           65  \n",
       "25834  3.511644            0           33  \n",
       "29993  3.518983            4           67  \n",
       "37467  3.522963            7          115  \n",
       "15895  3.525002            1          164  \n",
       "2908   3.531374           16           67  \n",
       "19301  3.537106            3          142  \n",
       "15027  3.543132           38           33  \n",
       "16978  3.545608            2          146  \n",
       "23066  3.548930            5           38  \n",
       "33023  3.566603            3           65  \n",
       "12425  3.573139            1          469  \n",
       "10831  3.579451           80           24  \n",
       "8676   3.579797           14           19  \n",
       "33659  3.585334           24           65  \n",
       "39201  3.590879           15           82  \n",
       "26576  3.592607           61           42  \n",
       "28074  3.605608           12          184  \n",
       "12869  3.611493           66          176  \n",
       "28932  3.618216            2          106  \n",
       "43141  3.618333            2           17  \n",
       "26761  3.629525            7          469  \n",
       "28058  3.633323            6           74  \n",
       "42618  3.647992            3           30  \n",
       "37471  3.651390           10           54  \n",
       "12438  3.657205            3          210  \n",
       "14261  3.660605           10           26  \n",
       "19210  3.661448            3          112  \n",
       "17081  3.675355            7          145  \n",
       "16023  3.679346            9           71  \n",
       "5077   3.693798            3           63  \n",
       "28340  3.698087           33          737  \n",
       "19183  3.714019           10           89  \n",
       "14851  3.727414            9          239  \n",
       "31107  3.735344           19          556  \n",
       "29883  3.763629            4           77  \n",
       "41615  3.763798            4          108  \n",
       "3767   3.780352            8          296  \n",
       "38150  3.875625           13          145  \n",
       "33124  3.962114           13          187  \n",
       "41981  3.978335           23          483  \n",
       "18548  4.000000            9           31  \n",
       "1235   4.000000           25           49  "
      ]
     },
     "execution_count": 379,
     "metadata": {},
     "output_type": "execute_result"
    }
   ],
   "source": [
    "worst_predictions"
   ]
  },
  {
   "cell_type": "code",
   "execution_count": 43,
   "metadata": {
    "ExecuteTime": {
     "end_time": "2020-06-09T19:07:03.198814Z",
     "start_time": "2020-06-09T19:07:00.821785Z"
    }
   },
   "outputs": [
    {
     "data": {
      "image/png": "[encoded data removed]",
      "text/plain": [
       "<Figure size 720x360 with 2 Axes>"
      ]
     },
     "metadata": {},
     "output_type": "display_data"
    }
   ],
   "source": [
    "# Plots of user/restaurant review counts\n",
    "fig, axs = plt.subplots(1,2,figsize=(10,5), sharey=True)\n",
    "\n",
    "sns.distplot(utility_user_ratings, kde=False, color='red', norm_hist=False,\n",
    "             ax=axs[0], bins=40)\n",
    "axs[0].set_title('Distribution of User Review Counts')\n",
    "axs[0].set_yscale('log')\n",
    "axs[0].set_xlabel('Number of Ratings by User')\n",
    "axs[0].set_ylabel('Counts (Log)')\n",
    "\n",
    "sns.distplot(utility_rest_ratings, color='darkorange', norm_hist=False,\n",
    "             kde=False, ax=axs[1], bins=40)\n",
    "axs[1].set_yscale('log')\n",
    "axs[1].set_title('Distribution of Restaurant Review Counts')\n",
    "axs[1].set_xlabel('Number of Reviews per Restaurant')\n",
    "axs[1].set_ylabel('Counts (Log)')\n",
    "\n",
    "fig.savefig('images/dist.png')"
   ]
  },
  {
   "cell_type": "code",
   "execution_count": 440,
   "metadata": {},
   "outputs": [
    {
     "data": {
      "image/png": "[encoded data removed]",
      "text/plain": [
       "<Figure size 720x576 with 1 Axes>"
      ]
     },
     "metadata": {},
     "output_type": "display_data"
    }
   ],
   "source": [
    "# Bar plot of counts of review stars\n",
    "fig, ax = plt.subplots(figsize=(10, 8))\n",
    "utility_review_stars = (utility_3['review_stars']\n",
    "                        .value_counts(ascending=True))\n",
    "sns.barplot(x='index', y='review_stars',\n",
    "            data=utility_review_stars.reset_index(), palette='Oranges',\n",
    "            ax=ax)\n",
    "ax.set_title('Distribution of Review Stars')\n",
    "ax.set_xlabel('Stars')\n",
    "ax.set_ylabel('Counts')\n",
    "\n",
    "fig.savefig('reviewcounts.png')"
   ]
  },
  {
   "cell_type": "code",
   "execution_count": 490,
   "metadata": {},
   "outputs": [
    {
     "data": {
      "text/html": [
       "<div>\n",
       "<style scoped>\n",
       "    .dataframe tbody tr th:only-of-type {\n",
       "        vertical-align: middle;\n",
       "    }\n",
       "\n",
       "    .dataframe tbody tr th {\n",
       "        vertical-align: top;\n",
       "    }\n",
       "\n",
       "    .dataframe thead th {\n",
       "        text-align: right;\n",
       "    }\n",
       "</style>\n",
       "<table border=\"1\" class=\"dataframe\">\n",
       "  <thead>\n",
       "    <tr style=\"text-align: right;\">\n",
       "      <th></th>\n",
       "      <th>uid</th>\n",
       "      <th>iid</th>\n",
       "      <th>true</th>\n",
       "      <th>predicted</th>\n",
       "      <th>err</th>\n",
       "      <th>user_totals</th>\n",
       "      <th>item_totals</th>\n",
       "    </tr>\n",
       "  </thead>\n",
       "  <tbody>\n",
       "    <tr>\n",
       "      <th>15494</th>\n",
       "      <td>tDMfIVVzZcRnLcS8jL25Yg</td>\n",
       "      <td>K5sUVFSGFEZosixSXgx5sw</td>\n",
       "      <td>5.0</td>\n",
       "      <td>3.918567</td>\n",
       "      <td>1.081433</td>\n",
       "      <td>1</td>\n",
       "      <td>185</td>\n",
       "    </tr>\n",
       "    <tr>\n",
       "      <th>15895</th>\n",
       "      <td>tDMfIVVzZcRnLcS8jL25Yg</td>\n",
       "      <td>bcTwvbD5wfMSgSO-YczLYw</td>\n",
       "      <td>1.0</td>\n",
       "      <td>4.525002</td>\n",
       "      <td>3.525002</td>\n",
       "      <td>1</td>\n",
       "      <td>164</td>\n",
       "    </tr>\n",
       "    <tr>\n",
       "      <th>16752</th>\n",
       "      <td>tDMfIVVzZcRnLcS8jL25Yg</td>\n",
       "      <td>HzvCskRg2IdWFfBcEY5Ryw</td>\n",
       "      <td>5.0</td>\n",
       "      <td>4.242584</td>\n",
       "      <td>0.757416</td>\n",
       "      <td>1</td>\n",
       "      <td>205</td>\n",
       "    </tr>\n",
       "  </tbody>\n",
       "</table>\n",
       "</div>"
      ],
      "text/plain": [
       "                          uid                     iid  true  predicted  \\\n",
       "15494  tDMfIVVzZcRnLcS8jL25Yg  K5sUVFSGFEZosixSXgx5sw   5.0   3.918567   \n",
       "15895  tDMfIVVzZcRnLcS8jL25Yg  bcTwvbD5wfMSgSO-YczLYw   1.0   4.525002   \n",
       "16752  tDMfIVVzZcRnLcS8jL25Yg  HzvCskRg2IdWFfBcEY5Ryw   5.0   4.242584   \n",
       "\n",
       "            err  user_totals  item_totals  \n",
       "15494  1.081433            1          185  \n",
       "15895  3.525002            1          164  \n",
       "16752  0.757416            1          205  "
      ]
     },
     "execution_count": 490,
     "metadata": {},
     "output_type": "execute_result"
    }
   ],
   "source": [
    "# The following cells evaluate predictions on a user by user basis\n",
    "# Looking to see how error changes depending on presence in testset\n",
    "predictions_df[predictions_df['uid'] == 'tDMfIVVzZcRnLcS8jL25Yg']"
   ]
  },
  {
   "cell_type": "code",
   "execution_count": 526,
   "metadata": {},
   "outputs": [
    {
     "data": {
      "text/html": [
       "<div>\n",
       "<style scoped>\n",
       "    .dataframe tbody tr th:only-of-type {\n",
       "        vertical-align: middle;\n",
       "    }\n",
       "\n",
       "    .dataframe tbody tr th {\n",
       "        vertical-align: top;\n",
       "    }\n",
       "\n",
       "    .dataframe thead th {\n",
       "        text-align: right;\n",
       "    }\n",
       "</style>\n",
       "<table border=\"1\" class=\"dataframe\">\n",
       "  <thead>\n",
       "    <tr style=\"text-align: right;\">\n",
       "      <th></th>\n",
       "      <th>uid</th>\n",
       "      <th>iid</th>\n",
       "      <th>true</th>\n",
       "      <th>predicted</th>\n",
       "      <th>err</th>\n",
       "      <th>user_totals</th>\n",
       "      <th>item_totals</th>\n",
       "    </tr>\n",
       "  </thead>\n",
       "  <tbody>\n",
       "    <tr>\n",
       "      <th>709</th>\n",
       "      <td>EtFYEN0sbxkZOOt3DE7vWg</td>\n",
       "      <td>Oi-u4KqrcZbIWSYKnh7mJA</td>\n",
       "      <td>5.0</td>\n",
       "      <td>3.829043</td>\n",
       "      <td>1.170957</td>\n",
       "      <td>119</td>\n",
       "      <td>43</td>\n",
       "    </tr>\n",
       "    <tr>\n",
       "      <th>4431</th>\n",
       "      <td>EtFYEN0sbxkZOOt3DE7vWg</td>\n",
       "      <td>uDb1lOfDhl_VLmAbYvp-vQ</td>\n",
       "      <td>3.0</td>\n",
       "      <td>4.506854</td>\n",
       "      <td>1.506854</td>\n",
       "      <td>119</td>\n",
       "      <td>198</td>\n",
       "    </tr>\n",
       "    <tr>\n",
       "      <th>4481</th>\n",
       "      <td>EtFYEN0sbxkZOOt3DE7vWg</td>\n",
       "      <td>QjL_QaEJGRfyBS2-wuowGA</td>\n",
       "      <td>4.0</td>\n",
       "      <td>4.186500</td>\n",
       "      <td>0.186500</td>\n",
       "      <td>119</td>\n",
       "      <td>66</td>\n",
       "    </tr>\n",
       "    <tr>\n",
       "      <th>6061</th>\n",
       "      <td>EtFYEN0sbxkZOOt3DE7vWg</td>\n",
       "      <td>UT22ExffDZjB1tzBDwSWfA</td>\n",
       "      <td>4.0</td>\n",
       "      <td>3.986002</td>\n",
       "      <td>0.013998</td>\n",
       "      <td>119</td>\n",
       "      <td>65</td>\n",
       "    </tr>\n",
       "    <tr>\n",
       "      <th>6946</th>\n",
       "      <td>EtFYEN0sbxkZOOt3DE7vWg</td>\n",
       "      <td>mC39IrCp36QIVFRZIw9PTQ</td>\n",
       "      <td>4.0</td>\n",
       "      <td>4.262187</td>\n",
       "      <td>0.262187</td>\n",
       "      <td>119</td>\n",
       "      <td>543</td>\n",
       "    </tr>\n",
       "    <tr>\n",
       "      <th>8344</th>\n",
       "      <td>EtFYEN0sbxkZOOt3DE7vWg</td>\n",
       "      <td>IIUK1lz_1upqYtHu8ZuClA</td>\n",
       "      <td>5.0</td>\n",
       "      <td>4.853678</td>\n",
       "      <td>0.146322</td>\n",
       "      <td>119</td>\n",
       "      <td>128</td>\n",
       "    </tr>\n",
       "    <tr>\n",
       "      <th>8359</th>\n",
       "      <td>EtFYEN0sbxkZOOt3DE7vWg</td>\n",
       "      <td>pldfvm-zM2VU5m9a-j9cMQ</td>\n",
       "      <td>4.0</td>\n",
       "      <td>4.630491</td>\n",
       "      <td>0.630491</td>\n",
       "      <td>119</td>\n",
       "      <td>140</td>\n",
       "    </tr>\n",
       "    <tr>\n",
       "      <th>13579</th>\n",
       "      <td>EtFYEN0sbxkZOOt3DE7vWg</td>\n",
       "      <td>oyjkEn5fAqcGNsBbqc8LTw</td>\n",
       "      <td>3.0</td>\n",
       "      <td>2.690715</td>\n",
       "      <td>0.309285</td>\n",
       "      <td>119</td>\n",
       "      <td>53</td>\n",
       "    </tr>\n",
       "    <tr>\n",
       "      <th>13916</th>\n",
       "      <td>EtFYEN0sbxkZOOt3DE7vWg</td>\n",
       "      <td>w0ucHqKjiLcUKOicN9Mp8A</td>\n",
       "      <td>5.0</td>\n",
       "      <td>4.600990</td>\n",
       "      <td>0.399010</td>\n",
       "      <td>119</td>\n",
       "      <td>96</td>\n",
       "    </tr>\n",
       "    <tr>\n",
       "      <th>16111</th>\n",
       "      <td>EtFYEN0sbxkZOOt3DE7vWg</td>\n",
       "      <td>ALwAlxItASeEs2vYAeLXHA</td>\n",
       "      <td>5.0</td>\n",
       "      <td>4.416757</td>\n",
       "      <td>0.583243</td>\n",
       "      <td>119</td>\n",
       "      <td>577</td>\n",
       "    </tr>\n",
       "    <tr>\n",
       "      <th>16347</th>\n",
       "      <td>EtFYEN0sbxkZOOt3DE7vWg</td>\n",
       "      <td>xJAXkMIgnWNpqyGCosmp2Q</td>\n",
       "      <td>4.0</td>\n",
       "      <td>4.756457</td>\n",
       "      <td>0.756457</td>\n",
       "      <td>119</td>\n",
       "      <td>145</td>\n",
       "    </tr>\n",
       "    <tr>\n",
       "      <th>17056</th>\n",
       "      <td>EtFYEN0sbxkZOOt3DE7vWg</td>\n",
       "      <td>trAd97ig2agtkZl2cimOMQ</td>\n",
       "      <td>2.0</td>\n",
       "      <td>4.374909</td>\n",
       "      <td>2.374909</td>\n",
       "      <td>119</td>\n",
       "      <td>15</td>\n",
       "    </tr>\n",
       "    <tr>\n",
       "      <th>17168</th>\n",
       "      <td>EtFYEN0sbxkZOOt3DE7vWg</td>\n",
       "      <td>ZdqiRrUik1GWAcMWb2iBdw</td>\n",
       "      <td>5.0</td>\n",
       "      <td>4.586011</td>\n",
       "      <td>0.413989</td>\n",
       "      <td>119</td>\n",
       "      <td>89</td>\n",
       "    </tr>\n",
       "    <tr>\n",
       "      <th>21243</th>\n",
       "      <td>EtFYEN0sbxkZOOt3DE7vWg</td>\n",
       "      <td>HzvCskRg2IdWFfBcEY5Ryw</td>\n",
       "      <td>5.0</td>\n",
       "      <td>4.324886</td>\n",
       "      <td>0.675114</td>\n",
       "      <td>119</td>\n",
       "      <td>205</td>\n",
       "    </tr>\n",
       "    <tr>\n",
       "      <th>22838</th>\n",
       "      <td>EtFYEN0sbxkZOOt3DE7vWg</td>\n",
       "      <td>8nmjvYX4N67cxOsGfbEgjg</td>\n",
       "      <td>3.0</td>\n",
       "      <td>2.779823</td>\n",
       "      <td>0.220177</td>\n",
       "      <td>119</td>\n",
       "      <td>222</td>\n",
       "    </tr>\n",
       "    <tr>\n",
       "      <th>22860</th>\n",
       "      <td>EtFYEN0sbxkZOOt3DE7vWg</td>\n",
       "      <td>OYB1niC3P2qP8Jf0bigB7A</td>\n",
       "      <td>4.0</td>\n",
       "      <td>3.510808</td>\n",
       "      <td>0.489192</td>\n",
       "      <td>119</td>\n",
       "      <td>73</td>\n",
       "    </tr>\n",
       "    <tr>\n",
       "      <th>23236</th>\n",
       "      <td>EtFYEN0sbxkZOOt3DE7vWg</td>\n",
       "      <td>5q6Xh-UcJa78bp6dzyaE7w</td>\n",
       "      <td>5.0</td>\n",
       "      <td>4.694577</td>\n",
       "      <td>0.305423</td>\n",
       "      <td>119</td>\n",
       "      <td>254</td>\n",
       "    </tr>\n",
       "    <tr>\n",
       "      <th>23479</th>\n",
       "      <td>EtFYEN0sbxkZOOt3DE7vWg</td>\n",
       "      <td>c24ZZshnU3sKqHQF8K_7Yg</td>\n",
       "      <td>5.0</td>\n",
       "      <td>4.335206</td>\n",
       "      <td>0.664794</td>\n",
       "      <td>119</td>\n",
       "      <td>77</td>\n",
       "    </tr>\n",
       "    <tr>\n",
       "      <th>25450</th>\n",
       "      <td>EtFYEN0sbxkZOOt3DE7vWg</td>\n",
       "      <td>nYSNN8v4up1rxIG_xKkl5Q</td>\n",
       "      <td>4.0</td>\n",
       "      <td>4.071345</td>\n",
       "      <td>0.071345</td>\n",
       "      <td>119</td>\n",
       "      <td>30</td>\n",
       "    </tr>\n",
       "    <tr>\n",
       "      <th>26519</th>\n",
       "      <td>EtFYEN0sbxkZOOt3DE7vWg</td>\n",
       "      <td>6hZgMg9rnDCC0RBVRlkZwQ</td>\n",
       "      <td>5.0</td>\n",
       "      <td>4.402364</td>\n",
       "      <td>0.597636</td>\n",
       "      <td>119</td>\n",
       "      <td>257</td>\n",
       "    </tr>\n",
       "    <tr>\n",
       "      <th>32309</th>\n",
       "      <td>EtFYEN0sbxkZOOt3DE7vWg</td>\n",
       "      <td>ZGaW5a7wxXxUgGTtbFqNxg</td>\n",
       "      <td>4.0</td>\n",
       "      <td>4.456649</td>\n",
       "      <td>0.456649</td>\n",
       "      <td>119</td>\n",
       "      <td>140</td>\n",
       "    </tr>\n",
       "    <tr>\n",
       "      <th>32998</th>\n",
       "      <td>EtFYEN0sbxkZOOt3DE7vWg</td>\n",
       "      <td>4cWrtMvfj-tomyEPgP7KFg</td>\n",
       "      <td>5.0</td>\n",
       "      <td>4.525325</td>\n",
       "      <td>0.474675</td>\n",
       "      <td>119</td>\n",
       "      <td>89</td>\n",
       "    </tr>\n",
       "    <tr>\n",
       "      <th>33949</th>\n",
       "      <td>EtFYEN0sbxkZOOt3DE7vWg</td>\n",
       "      <td>uKONHIVGg_qzpDb3mfTvwA</td>\n",
       "      <td>4.0</td>\n",
       "      <td>4.205272</td>\n",
       "      <td>0.205272</td>\n",
       "      <td>119</td>\n",
       "      <td>32</td>\n",
       "    </tr>\n",
       "    <tr>\n",
       "      <th>39199</th>\n",
       "      <td>EtFYEN0sbxkZOOt3DE7vWg</td>\n",
       "      <td>Axf_3mlM19ox-VjmN3KZYw</td>\n",
       "      <td>4.0</td>\n",
       "      <td>4.233342</td>\n",
       "      <td>0.233342</td>\n",
       "      <td>119</td>\n",
       "      <td>41</td>\n",
       "    </tr>\n",
       "    <tr>\n",
       "      <th>42416</th>\n",
       "      <td>EtFYEN0sbxkZOOt3DE7vWg</td>\n",
       "      <td>3Ui-76sC9_fNs2gu8ISAMw</td>\n",
       "      <td>4.0</td>\n",
       "      <td>3.652764</td>\n",
       "      <td>0.347236</td>\n",
       "      <td>119</td>\n",
       "      <td>86</td>\n",
       "    </tr>\n",
       "    <tr>\n",
       "      <th>43731</th>\n",
       "      <td>EtFYEN0sbxkZOOt3DE7vWg</td>\n",
       "      <td>iJpTpE9A8WDWvUlvUcFZuA</td>\n",
       "      <td>4.0</td>\n",
       "      <td>3.972346</td>\n",
       "      <td>0.027654</td>\n",
       "      <td>119</td>\n",
       "      <td>152</td>\n",
       "    </tr>\n",
       "  </tbody>\n",
       "</table>\n",
       "</div>"
      ],
      "text/plain": [
       "                          uid                     iid  true  predicted  \\\n",
       "709    EtFYEN0sbxkZOOt3DE7vWg  Oi-u4KqrcZbIWSYKnh7mJA   5.0   3.829043   \n",
       "4431   EtFYEN0sbxkZOOt3DE7vWg  uDb1lOfDhl_VLmAbYvp-vQ   3.0   4.506854   \n",
       "4481   EtFYEN0sbxkZOOt3DE7vWg  QjL_QaEJGRfyBS2-wuowGA   4.0   4.186500   \n",
       "6061   EtFYEN0sbxkZOOt3DE7vWg  UT22ExffDZjB1tzBDwSWfA   4.0   3.986002   \n",
       "6946   EtFYEN0sbxkZOOt3DE7vWg  mC39IrCp36QIVFRZIw9PTQ   4.0   4.262187   \n",
       "8344   EtFYEN0sbxkZOOt3DE7vWg  IIUK1lz_1upqYtHu8ZuClA   5.0   4.853678   \n",
       "8359   EtFYEN0sbxkZOOt3DE7vWg  pldfvm-zM2VU5m9a-j9cMQ   4.0   4.630491   \n",
       "13579  EtFYEN0sbxkZOOt3DE7vWg  oyjkEn5fAqcGNsBbqc8LTw   3.0   2.690715   \n",
       "13916  EtFYEN0sbxkZOOt3DE7vWg  w0ucHqKjiLcUKOicN9Mp8A   5.0   4.600990   \n",
       "16111  EtFYEN0sbxkZOOt3DE7vWg  ALwAlxItASeEs2vYAeLXHA   5.0   4.416757   \n",
       "16347  EtFYEN0sbxkZOOt3DE7vWg  xJAXkMIgnWNpqyGCosmp2Q   4.0   4.756457   \n",
       "17056  EtFYEN0sbxkZOOt3DE7vWg  trAd97ig2agtkZl2cimOMQ   2.0   4.374909   \n",
       "17168  EtFYEN0sbxkZOOt3DE7vWg  ZdqiRrUik1GWAcMWb2iBdw   5.0   4.586011   \n",
       "21243  EtFYEN0sbxkZOOt3DE7vWg  HzvCskRg2IdWFfBcEY5Ryw   5.0   4.324886   \n",
       "22838  EtFYEN0sbxkZOOt3DE7vWg  8nmjvYX4N67cxOsGfbEgjg   3.0   2.779823   \n",
       "22860  EtFYEN0sbxkZOOt3DE7vWg  OYB1niC3P2qP8Jf0bigB7A   4.0   3.510808   \n",
       "23236  EtFYEN0sbxkZOOt3DE7vWg  5q6Xh-UcJa78bp6dzyaE7w   5.0   4.694577   \n",
       "23479  EtFYEN0sbxkZOOt3DE7vWg  c24ZZshnU3sKqHQF8K_7Yg   5.0   4.335206   \n",
       "25450  EtFYEN0sbxkZOOt3DE7vWg  nYSNN8v4up1rxIG_xKkl5Q   4.0   4.071345   \n",
       "26519  EtFYEN0sbxkZOOt3DE7vWg  6hZgMg9rnDCC0RBVRlkZwQ   5.0   4.402364   \n",
       "32309  EtFYEN0sbxkZOOt3DE7vWg  ZGaW5a7wxXxUgGTtbFqNxg   4.0   4.456649   \n",
       "32998  EtFYEN0sbxkZOOt3DE7vWg  4cWrtMvfj-tomyEPgP7KFg   5.0   4.525325   \n",
       "33949  EtFYEN0sbxkZOOt3DE7vWg  uKONHIVGg_qzpDb3mfTvwA   4.0   4.205272   \n",
       "39199  EtFYEN0sbxkZOOt3DE7vWg  Axf_3mlM19ox-VjmN3KZYw   4.0   4.233342   \n",
       "42416  EtFYEN0sbxkZOOt3DE7vWg  3Ui-76sC9_fNs2gu8ISAMw   4.0   3.652764   \n",
       "43731  EtFYEN0sbxkZOOt3DE7vWg  iJpTpE9A8WDWvUlvUcFZuA   4.0   3.972346   \n",
       "\n",
       "            err  user_totals  item_totals  \n",
       "709    1.170957          119           43  \n",
       "4431   1.506854          119          198  \n",
       "4481   0.186500          119           66  \n",
       "6061   0.013998          119           65  \n",
       "6946   0.262187          119          543  \n",
       "8344   0.146322          119          128  \n",
       "8359   0.630491          119          140  \n",
       "13579  0.309285          119           53  \n",
       "13916  0.399010          119           96  \n",
       "16111  0.583243          119          577  \n",
       "16347  0.756457          119          145  \n",
       "17056  2.374909          119           15  \n",
       "17168  0.413989          119           89  \n",
       "21243  0.675114          119          205  \n",
       "22838  0.220177          119          222  \n",
       "22860  0.489192          119           73  \n",
       "23236  0.305423          119          254  \n",
       "23479  0.664794          119           77  \n",
       "25450  0.071345          119           30  \n",
       "26519  0.597636          119          257  \n",
       "32309  0.456649          119          140  \n",
       "32998  0.474675          119           89  \n",
       "33949  0.205272          119           32  \n",
       "39199  0.233342          119           41  \n",
       "42416  0.347236          119           86  \n",
       "43731  0.027654          119          152  "
      ]
     },
     "execution_count": 526,
     "metadata": {},
     "output_type": "execute_result"
    }
   ],
   "source": [
    "calc_rmse = predictions_df[predictions_df['uid'] == 'EtFYEN0sbxkZOOt3DE7vWg']\n",
    "predictions_df[predictions_df['uid'] == 'EtFYEN0sbxkZOOt3DE7vWg']"
   ]
  },
  {
   "cell_type": "code",
   "execution_count": 527,
   "metadata": {},
   "outputs": [
    {
     "data": {
      "text/plain": [
       "(26, 7)"
      ]
     },
     "execution_count": 527,
     "metadata": {},
     "output_type": "execute_result"
    }
   ],
   "source": [
    "predictions_df[predictions_df['uid'] == 'EtFYEN0sbxkZOOt3DE7vWg'].shape"
   ]
  },
  {
   "cell_type": "code",
   "execution_count": 528,
   "metadata": {},
   "outputs": [
    {
     "data": {
      "text/plain": [
       "0.5201042731658668"
      ]
     },
     "execution_count": 528,
     "metadata": {},
     "output_type": "execute_result"
    }
   ],
   "source": [
    "predictions_df[predictions_df['uid'] == 'EtFYEN0sbxkZOOt3DE7vWg']['err'].mean()"
   ]
  },
  {
   "cell_type": "code",
   "execution_count": 529,
   "metadata": {},
   "outputs": [
    {
     "data": {
      "text/plain": [
       "0.718868529249142"
      ]
     },
     "execution_count": 529,
     "metadata": {},
     "output_type": "execute_result"
    }
   ],
   "source": [
    "((calc_rmse.true - calc_rmse.predicted) ** 2).mean() ** .5"
   ]
  },
  {
   "cell_type": "code",
   "execution_count": 530,
   "metadata": {},
   "outputs": [
    {
     "data": {
      "text/html": [
       "<div>\n",
       "<style scoped>\n",
       "    .dataframe tbody tr th:only-of-type {\n",
       "        vertical-align: middle;\n",
       "    }\n",
       "\n",
       "    .dataframe tbody tr th {\n",
       "        vertical-align: top;\n",
       "    }\n",
       "\n",
       "    .dataframe thead th {\n",
       "        text-align: right;\n",
       "    }\n",
       "</style>\n",
       "<table border=\"1\" class=\"dataframe\">\n",
       "  <thead>\n",
       "    <tr style=\"text-align: right;\">\n",
       "      <th></th>\n",
       "      <th>user_id</th>\n",
       "      <th>user_name</th>\n",
       "      <th>review_count</th>\n",
       "      <th>yelping_since</th>\n",
       "      <th>average_stars</th>\n",
       "    </tr>\n",
       "  </thead>\n",
       "  <tbody>\n",
       "    <tr>\n",
       "      <th>96376</th>\n",
       "      <td>EtFYEN0sbxkZOOt3DE7vWg</td>\n",
       "      <td>Jenny</td>\n",
       "      <td>476</td>\n",
       "      <td>2015-08-01 00:11:43</td>\n",
       "      <td>4.23</td>\n",
       "    </tr>\n",
       "  </tbody>\n",
       "</table>\n",
       "</div>"
      ],
      "text/plain": [
       "                      user_id user_name  review_count        yelping_since  \\\n",
       "96376  EtFYEN0sbxkZOOt3DE7vWg     Jenny           476  2015-08-01 00:11:43   \n",
       "\n",
       "       average_stars  \n",
       "96376           4.23  "
      ]
     },
     "execution_count": 530,
     "metadata": {},
     "output_type": "execute_result"
    }
   ],
   "source": [
    "user_df[user_df['user_id'] == 'EtFYEN0sbxkZOOt3DE7vWg']"
   ]
  },
  {
   "cell_type": "code",
   "execution_count": null,
   "metadata": {},
   "outputs": [],
   "source": [
    "# Save the generated dataframes to csv files for later manipulation\n",
    "utility_3.to_csv('data/utility.csv')\n",
    "predictions_df.to_csv('data/predictions.csv')\n",
    "trainset_3_df.to_csv('data/trainset.csv')\n",
    "testset_3_df.to_csv('data/testset.csv')"
   ]
  },
  {
   "cell_type": "code",
   "execution_count": 41,
   "metadata": {
    "ExecuteTime": {
     "end_time": "2020-06-09T19:06:26.242631Z",
     "start_time": "2020-06-09T19:06:22.487115Z"
    }
   },
   "outputs": [],
   "source": [
    "# Loading files for additional graphing\n",
    "charlotte_df = pd.read_csv('data/charlotte_df.csv')\n",
    "predictions_df = pd.read_csv('data/predictions.csv')\n",
    "utility_3 = pd.read_csv('data/utility.csv')"
   ]
  },
  {
   "cell_type": "code",
   "execution_count": 32,
   "metadata": {
    "ExecuteTime": {
     "end_time": "2020-06-09T03:19:07.135692Z",
     "start_time": "2020-06-09T03:19:06.483046Z"
    }
   },
   "outputs": [
    {
     "data": {
      "image/png": "[encoded data removed]",
      "text/plain": [
       "<Figure size 648x504 with 1 Axes>"
      ]
     },
     "metadata": {},
     "output_type": "display_data"
    }
   ],
   "source": [
    "fig, ax = plt.subplots(figsize=(9,7))\n",
    "user_under = predictions_df[predictions_df['user_totals'] <= 10]\n",
    "user_over = predictions_df[predictions_df['user_totals'] >= 50]\n",
    "sns.distplot(user_under['err'], label='<= 10 Reviews in Testset',\n",
    "             bins=25, ax=ax, norm_hist=True, kde=False)\n",
    "sns.distplot(user_over['err'], label='>= 50 Reviews in Testset',\n",
    "             bins=25, ax=ax, norm_hist=True, kde=False)\n",
    "ax.set_title('Distribution of Prediction Errors')\n",
    "ax.set_xlabel('Absolute Error')\n",
    "ax.set_ylabel('Density')\n",
    "ax.legend()\n",
    "fig.savefig('images/preddist.png')"
   ]
  },
  {
   "cell_type": "code",
   "execution_count": 40,
   "metadata": {
    "ExecuteTime": {
     "end_time": "2020-06-09T03:23:05.028947Z",
     "start_time": "2020-06-09T03:23:04.475268Z"
    }
   },
   "outputs": [
    {
     "data": {
      "image/png": "[encoded data removed]",
      "text/plain": [
       "<Figure size 648x504 with 1 Axes>"
      ]
     },
     "metadata": {},
     "output_type": "display_data"
    }
   ],
   "source": [
    "fig, ax = plt.subplots(figsize=(9,7))\n",
    "sns.distplot(user_under['err'], label='<= 10 Reviews in Testset',\n",
    "             bins=25, ax=ax, norm_hist=True, kde=False)\n",
    "ax.set_title('Distribution of Prediction Errors')\n",
    "ax.set_xlabel('Absolute Error')\n",
    "ax.set_ylabel('Density')\n",
    "ax.legend()\n",
    "ax.set_ylim(0, 1.03)\n",
    "fig.savefig('images/preddist2.png')"
   ]
  },
  {
   "cell_type": "code",
   "execution_count": null,
   "metadata": {},
   "outputs": [],
   "source": []
  },
  {
   "cell_type": "code",
   "execution_count": null,
   "metadata": {},
   "outputs": [],
   "source": []
  },
  {
   "cell_type": "code",
   "execution_count": null,
   "metadata": {},
   "outputs": [],
   "source": []
  },
  {
   "cell_type": "code",
   "execution_count": null,
   "metadata": {},
   "outputs": [],
   "source": []
  },
  {
   "cell_type": "code",
   "execution_count": null,
   "metadata": {},
   "outputs": [],
   "source": []
  }
 ],
 "metadata": {
  "kernelspec": {
   "display_name": "Python 3",
   "language": "python",
   "name": "python3"
  },
  "language_info": {
   "codemirror_mode": {
    "name": "ipython",
    "version": 3
   },
   "file_extension": ".py",
   "mimetype": "text/x-python",
   "name": "python",
   "nbconvert_exporter": "python",
   "pygments_lexer": "ipython3",
   "version": "3.7.6"
  },
  "toc": {
   "base_numbering": 1,
   "nav_menu": {},
   "number_sections": true,
   "sideBar": true,
   "skip_h1_title": false,
   "title_cell": "Table of Contents",
   "title_sidebar": "Contents",
   "toc_cell": false,
   "toc_position": {},
   "toc_section_display": true,
   "toc_window_display": false
  },
  "varInspector": {
   "cols": {
    "lenName": 16,
    "lenType": 16,
    "lenVar": 40
   },
   "kernels_config": {
    "python": {
     "delete_cmd_postfix": "",
     "delete_cmd_prefix": "del ",
     "library": "var_list.py",
     "varRefreshCmd": "print(var_dic_list())"
    },
    "r": {
     "delete_cmd_postfix": ") ",
     "delete_cmd_prefix": "rm(",
     "library": "var_list.r",
     "varRefreshCmd": "cat(var_dic_list()) "
    }
   },
   "types_to_exclude": [
    "module",
    "function",
    "builtin_function_or_method",
    "instance",
    "_Feature"
   ],
   "window_display": false
  }
 },
 "nbformat": 4,
 "nbformat_minor": 4
}
